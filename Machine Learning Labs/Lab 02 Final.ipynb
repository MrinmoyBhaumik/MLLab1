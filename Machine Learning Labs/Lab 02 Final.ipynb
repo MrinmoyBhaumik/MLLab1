{
 "cells": [
  {
   "cell_type": "markdown",
   "metadata": {},
   "source": [
    "# Classifiying Gender and Income With Census Data"
   ]
  },
  {
   "cell_type": "markdown",
   "metadata": {},
   "source": [
    "By Saqib Shahzad, Mrinmoy Bhaumik, Phu Truong"
   ]
  },
  {
   "cell_type": "code",
   "execution_count": 57,
   "metadata": {},
   "outputs": [],
   "source": [
    "# importing the important libraries\n",
    "\n",
    "import pandas as pd\n",
    "import numpy as np\n",
    "\n",
    "import matplotlib.pyplot as plt\n",
    "%matplotlib inline\n",
    "import seaborn as sns\n",
    "\n",
    "from sklearn.model_selection import train_test_split\n",
    "from sklearn.ensemble import RandomForestClassifier\n",
    "from sklearn.svm import SVC\n",
    "from sklearn.linear_model import LogisticRegression\n",
    "from sklearn.neighbors import KNeighborsClassifier\n",
    "from sklearn.ensemble import GradientBoostingClassifier\n",
    "from sklearn.datasets import make_classification\n",
    "from sklearn.metrics import accuracy_score, classification_report, confusion_matrix, precision_score, recall_score, f1_score\n",
    "from sklearn.preprocessing import StandardScaler\n",
    "\n",
    "\n",
    "import warnings\n",
    "warnings.filterwarnings('ignore')"
   ]
  },
  {
   "cell_type": "code",
   "execution_count": null,
   "metadata": {},
   "outputs": [],
   "source": []
  },
  {
   "cell_type": "code",
   "execution_count": 2,
   "metadata": {},
   "outputs": [
    {
     "data": {
      "text/html": [
       "<div>\n",
       "<style scoped>\n",
       "    .dataframe tbody tr th:only-of-type {\n",
       "        vertical-align: middle;\n",
       "    }\n",
       "\n",
       "    .dataframe tbody tr th {\n",
       "        vertical-align: top;\n",
       "    }\n",
       "\n",
       "    .dataframe thead th {\n",
       "        text-align: right;\n",
       "    }\n",
       "</style>\n",
       "<table border=\"1\" class=\"dataframe\">\n",
       "  <thead>\n",
       "    <tr style=\"text-align: right;\">\n",
       "      <th></th>\n",
       "      <th>age</th>\n",
       "      <th>workclass</th>\n",
       "      <th>fnlwgt</th>\n",
       "      <th>education</th>\n",
       "      <th>education.num</th>\n",
       "      <th>marital.status</th>\n",
       "      <th>occupation</th>\n",
       "      <th>relationship</th>\n",
       "      <th>race</th>\n",
       "      <th>sex</th>\n",
       "      <th>capital.gain</th>\n",
       "      <th>capital.loss</th>\n",
       "      <th>hours.per.week</th>\n",
       "      <th>native.country</th>\n",
       "      <th>income</th>\n",
       "    </tr>\n",
       "  </thead>\n",
       "  <tbody>\n",
       "    <tr>\n",
       "      <th>0</th>\n",
       "      <td>90</td>\n",
       "      <td>?</td>\n",
       "      <td>77053</td>\n",
       "      <td>HS-grad</td>\n",
       "      <td>9</td>\n",
       "      <td>Widowed</td>\n",
       "      <td>?</td>\n",
       "      <td>Not-in-family</td>\n",
       "      <td>White</td>\n",
       "      <td>Female</td>\n",
       "      <td>0</td>\n",
       "      <td>4356</td>\n",
       "      <td>40</td>\n",
       "      <td>United-States</td>\n",
       "      <td>&lt;=50K</td>\n",
       "    </tr>\n",
       "    <tr>\n",
       "      <th>1</th>\n",
       "      <td>82</td>\n",
       "      <td>Private</td>\n",
       "      <td>132870</td>\n",
       "      <td>HS-grad</td>\n",
       "      <td>9</td>\n",
       "      <td>Widowed</td>\n",
       "      <td>Exec-managerial</td>\n",
       "      <td>Not-in-family</td>\n",
       "      <td>White</td>\n",
       "      <td>Female</td>\n",
       "      <td>0</td>\n",
       "      <td>4356</td>\n",
       "      <td>18</td>\n",
       "      <td>United-States</td>\n",
       "      <td>&lt;=50K</td>\n",
       "    </tr>\n",
       "    <tr>\n",
       "      <th>2</th>\n",
       "      <td>66</td>\n",
       "      <td>?</td>\n",
       "      <td>186061</td>\n",
       "      <td>Some-college</td>\n",
       "      <td>10</td>\n",
       "      <td>Widowed</td>\n",
       "      <td>?</td>\n",
       "      <td>Unmarried</td>\n",
       "      <td>Black</td>\n",
       "      <td>Female</td>\n",
       "      <td>0</td>\n",
       "      <td>4356</td>\n",
       "      <td>40</td>\n",
       "      <td>United-States</td>\n",
       "      <td>&lt;=50K</td>\n",
       "    </tr>\n",
       "    <tr>\n",
       "      <th>3</th>\n",
       "      <td>54</td>\n",
       "      <td>Private</td>\n",
       "      <td>140359</td>\n",
       "      <td>7th-8th</td>\n",
       "      <td>4</td>\n",
       "      <td>Divorced</td>\n",
       "      <td>Machine-op-inspct</td>\n",
       "      <td>Unmarried</td>\n",
       "      <td>White</td>\n",
       "      <td>Female</td>\n",
       "      <td>0</td>\n",
       "      <td>3900</td>\n",
       "      <td>40</td>\n",
       "      <td>United-States</td>\n",
       "      <td>&lt;=50K</td>\n",
       "    </tr>\n",
       "    <tr>\n",
       "      <th>4</th>\n",
       "      <td>41</td>\n",
       "      <td>Private</td>\n",
       "      <td>264663</td>\n",
       "      <td>Some-college</td>\n",
       "      <td>10</td>\n",
       "      <td>Separated</td>\n",
       "      <td>Prof-specialty</td>\n",
       "      <td>Own-child</td>\n",
       "      <td>White</td>\n",
       "      <td>Female</td>\n",
       "      <td>0</td>\n",
       "      <td>3900</td>\n",
       "      <td>40</td>\n",
       "      <td>United-States</td>\n",
       "      <td>&lt;=50K</td>\n",
       "    </tr>\n",
       "  </tbody>\n",
       "</table>\n",
       "</div>"
      ],
      "text/plain": [
       "   age workclass  fnlwgt     education  education.num marital.status  \\\n",
       "0   90         ?   77053       HS-grad              9        Widowed   \n",
       "1   82   Private  132870       HS-grad              9        Widowed   \n",
       "2   66         ?  186061  Some-college             10        Widowed   \n",
       "3   54   Private  140359       7th-8th              4       Divorced   \n",
       "4   41   Private  264663  Some-college             10      Separated   \n",
       "\n",
       "          occupation   relationship   race     sex  capital.gain  \\\n",
       "0                  ?  Not-in-family  White  Female             0   \n",
       "1    Exec-managerial  Not-in-family  White  Female             0   \n",
       "2                  ?      Unmarried  Black  Female             0   \n",
       "3  Machine-op-inspct      Unmarried  White  Female             0   \n",
       "4     Prof-specialty      Own-child  White  Female             0   \n",
       "\n",
       "   capital.loss  hours.per.week native.country income  \n",
       "0          4356              40  United-States  <=50K  \n",
       "1          4356              18  United-States  <=50K  \n",
       "2          4356              40  United-States  <=50K  \n",
       "3          3900              40  United-States  <=50K  \n",
       "4          3900              40  United-States  <=50K  "
      ]
     },
     "execution_count": 2,
     "metadata": {},
     "output_type": "execute_result"
    }
   ],
   "source": [
    "data = pd.read_csv('adults.csv')\n",
    "\n",
    "data.head()"
   ]
  },
  {
   "cell_type": "markdown",
   "metadata": {},
   "source": [
    "We are using the same dataset that we used in Lab 01 and MiniLab. We had done all the preprocessing steps over there but still for the Lab 02 we will do the necessary preprocessing steps withoug going much in details (as we have done this before in the Lab 01 as well)."
   ]
  },
  {
   "cell_type": "code",
   "execution_count": null,
   "metadata": {},
   "outputs": [],
   "source": []
  },
  {
   "cell_type": "code",
   "execution_count": 3,
   "metadata": {},
   "outputs": [
    {
     "data": {
      "text/html": [
       "<div>\n",
       "<style scoped>\n",
       "    .dataframe tbody tr th:only-of-type {\n",
       "        vertical-align: middle;\n",
       "    }\n",
       "\n",
       "    .dataframe tbody tr th {\n",
       "        vertical-align: top;\n",
       "    }\n",
       "\n",
       "    .dataframe thead th {\n",
       "        text-align: right;\n",
       "    }\n",
       "</style>\n",
       "<table border=\"1\" class=\"dataframe\">\n",
       "  <thead>\n",
       "    <tr style=\"text-align: right;\">\n",
       "      <th></th>\n",
       "      <th>age</th>\n",
       "      <th>fnlwgt</th>\n",
       "      <th>education.num</th>\n",
       "      <th>capital.gain</th>\n",
       "      <th>capital.loss</th>\n",
       "      <th>hours.per.week</th>\n",
       "    </tr>\n",
       "  </thead>\n",
       "  <tbody>\n",
       "    <tr>\n",
       "      <th>count</th>\n",
       "      <td>32561.000000</td>\n",
       "      <td>3.256100e+04</td>\n",
       "      <td>32561.000000</td>\n",
       "      <td>32561.000000</td>\n",
       "      <td>32561.000000</td>\n",
       "      <td>32561.000000</td>\n",
       "    </tr>\n",
       "    <tr>\n",
       "      <th>mean</th>\n",
       "      <td>38.581647</td>\n",
       "      <td>1.897784e+05</td>\n",
       "      <td>10.080679</td>\n",
       "      <td>1077.648844</td>\n",
       "      <td>87.303830</td>\n",
       "      <td>40.437456</td>\n",
       "    </tr>\n",
       "    <tr>\n",
       "      <th>std</th>\n",
       "      <td>13.640433</td>\n",
       "      <td>1.055500e+05</td>\n",
       "      <td>2.572720</td>\n",
       "      <td>7385.292085</td>\n",
       "      <td>402.960219</td>\n",
       "      <td>12.347429</td>\n",
       "    </tr>\n",
       "    <tr>\n",
       "      <th>min</th>\n",
       "      <td>17.000000</td>\n",
       "      <td>1.228500e+04</td>\n",
       "      <td>1.000000</td>\n",
       "      <td>0.000000</td>\n",
       "      <td>0.000000</td>\n",
       "      <td>1.000000</td>\n",
       "    </tr>\n",
       "    <tr>\n",
       "      <th>25%</th>\n",
       "      <td>28.000000</td>\n",
       "      <td>1.178270e+05</td>\n",
       "      <td>9.000000</td>\n",
       "      <td>0.000000</td>\n",
       "      <td>0.000000</td>\n",
       "      <td>40.000000</td>\n",
       "    </tr>\n",
       "    <tr>\n",
       "      <th>50%</th>\n",
       "      <td>37.000000</td>\n",
       "      <td>1.783560e+05</td>\n",
       "      <td>10.000000</td>\n",
       "      <td>0.000000</td>\n",
       "      <td>0.000000</td>\n",
       "      <td>40.000000</td>\n",
       "    </tr>\n",
       "    <tr>\n",
       "      <th>75%</th>\n",
       "      <td>48.000000</td>\n",
       "      <td>2.370510e+05</td>\n",
       "      <td>12.000000</td>\n",
       "      <td>0.000000</td>\n",
       "      <td>0.000000</td>\n",
       "      <td>45.000000</td>\n",
       "    </tr>\n",
       "    <tr>\n",
       "      <th>max</th>\n",
       "      <td>90.000000</td>\n",
       "      <td>1.484705e+06</td>\n",
       "      <td>16.000000</td>\n",
       "      <td>99999.000000</td>\n",
       "      <td>4356.000000</td>\n",
       "      <td>99.000000</td>\n",
       "    </tr>\n",
       "  </tbody>\n",
       "</table>\n",
       "</div>"
      ],
      "text/plain": [
       "                age        fnlwgt  education.num  capital.gain  capital.loss  \\\n",
       "count  32561.000000  3.256100e+04   32561.000000  32561.000000  32561.000000   \n",
       "mean      38.581647  1.897784e+05      10.080679   1077.648844     87.303830   \n",
       "std       13.640433  1.055500e+05       2.572720   7385.292085    402.960219   \n",
       "min       17.000000  1.228500e+04       1.000000      0.000000      0.000000   \n",
       "25%       28.000000  1.178270e+05       9.000000      0.000000      0.000000   \n",
       "50%       37.000000  1.783560e+05      10.000000      0.000000      0.000000   \n",
       "75%       48.000000  2.370510e+05      12.000000      0.000000      0.000000   \n",
       "max       90.000000  1.484705e+06      16.000000  99999.000000   4356.000000   \n",
       "\n",
       "       hours.per.week  \n",
       "count    32561.000000  \n",
       "mean        40.437456  \n",
       "std         12.347429  \n",
       "min          1.000000  \n",
       "25%         40.000000  \n",
       "50%         40.000000  \n",
       "75%         45.000000  \n",
       "max         99.000000  "
      ]
     },
     "execution_count": 3,
     "metadata": {},
     "output_type": "execute_result"
    }
   ],
   "source": [
    "data.describe()"
   ]
  },
  {
   "cell_type": "code",
   "execution_count": 4,
   "metadata": {},
   "outputs": [
    {
     "name": "stdout",
     "output_type": "stream",
     "text": [
      "<class 'pandas.core.frame.DataFrame'>\n",
      "RangeIndex: 32561 entries, 0 to 32560\n",
      "Data columns (total 15 columns):\n",
      "age               32561 non-null int64\n",
      "workclass         32561 non-null object\n",
      "fnlwgt            32561 non-null int64\n",
      "education         32561 non-null object\n",
      "education.num     32561 non-null int64\n",
      "marital.status    32561 non-null object\n",
      "occupation        32561 non-null object\n",
      "relationship      32561 non-null object\n",
      "race              32561 non-null object\n",
      "sex               32561 non-null object\n",
      "capital.gain      32561 non-null int64\n",
      "capital.loss      32561 non-null int64\n",
      "hours.per.week    32561 non-null int64\n",
      "native.country    32561 non-null object\n",
      "income            32561 non-null object\n",
      "dtypes: int64(6), object(9)\n",
      "memory usage: 3.7+ MB\n"
     ]
    }
   ],
   "source": [
    "data.info()"
   ]
  },
  {
   "cell_type": "markdown",
   "metadata": {},
   "source": [
    "## Data Preparation Part 1"
   ]
  },
  {
   "cell_type": "markdown",
   "metadata": {},
   "source": [
    "We are going to perform two classification tasks and our class variables that we are going to predict are:\n",
    "##### 1. income (<= 50K or > 50K)\n",
    "##### 2. sex (Male of Female)"
   ]
  },
  {
   "cell_type": "code",
   "execution_count": 5,
   "metadata": {},
   "outputs": [
    {
     "name": "stdout",
     "output_type": "stream",
     "text": [
      "Number of \"?\" appearing in each column:\n",
      "age                  0\n",
      "workclass         1836\n",
      "fnlwgt               0\n",
      "education            0\n",
      "education.num        0\n",
      "marital.status       0\n",
      "occupation        1843\n",
      "relationship         0\n",
      "race                 0\n",
      "sex                  0\n",
      "capital.gain         0\n",
      "capital.loss         0\n",
      "hours.per.week       0\n",
      "native.country     583\n",
      "income               0\n",
      "dtype: int64\n",
      "\n",
      "*******************\n",
      "\n",
      "Number of \"?\" appearing in each column after removing them:\n",
      "age               0\n",
      "workclass         0\n",
      "fnlwgt            0\n",
      "education         0\n",
      "education.num     0\n",
      "marital.status    0\n",
      "occupation        0\n",
      "relationship      0\n",
      "race              0\n",
      "sex               0\n",
      "capital.gain      0\n",
      "capital.loss      0\n",
      "hours.per.week    0\n",
      "native.country    0\n",
      "income            0\n",
      "dtype: int64\n"
     ]
    }
   ],
   "source": [
    "print('Number of \"?\" appearing in each column:')\n",
    "print(data[data == '?'].count())\n",
    "\n",
    "print('\\n*******************\\n')\n",
    "\n",
    "data.replace('?', np.nan, inplace=True)\n",
    "\n",
    "print('Number of \"?\" appearing in each column after removing them:')\n",
    "print(data[data == '?'].count())"
   ]
  },
  {
   "cell_type": "code",
   "execution_count": 6,
   "metadata": {},
   "outputs": [
    {
     "name": "stdout",
     "output_type": "stream",
     "text": [
      "Number of missing instances in each column.\n",
      "age                  0\n",
      "workclass         1836\n",
      "fnlwgt               0\n",
      "education            0\n",
      "education.num        0\n",
      "marital.status       0\n",
      "occupation        1843\n",
      "relationship         0\n",
      "race                 0\n",
      "sex                  0\n",
      "capital.gain         0\n",
      "capital.loss         0\n",
      "hours.per.week       0\n",
      "native.country     583\n",
      "income               0\n",
      "dtype: int64\n",
      "\n",
      "****************************\n",
      "\n",
      "\n",
      "****************************\n",
      "\n",
      "Number of missing instances in each column after filling.\n",
      "age               0\n",
      "workclass         0\n",
      "fnlwgt            0\n",
      "education         0\n",
      "education.num     0\n",
      "marital.status    0\n",
      "occupation        0\n",
      "relationship      0\n",
      "race              0\n",
      "sex               0\n",
      "capital.gain      0\n",
      "capital.loss      0\n",
      "hours.per.week    0\n",
      "native.country    0\n",
      "income            0\n",
      "dtype: int64\n"
     ]
    }
   ],
   "source": [
    "# columns having missing values\n",
    "print('Number of missing instances in each column.')\n",
    "print(data.isnull().sum())\n",
    "        \n",
    "print('\\n****************************\\n')\n",
    "\n",
    "for col in data.columns:\n",
    "    if data[col].isnull().any():\n",
    "        data[col] = data[col].fillna(data[col].value_counts().index[0])\n",
    "        \n",
    "print('\\n****************************\\n')\n",
    "\n",
    "print('Number of missing instances in each column after filling.')\n",
    "print(data.isnull().sum())\n",
    "\n",
    "# for col in data.columns:\n",
    "#         print(col, '        \\t', data[col].isnull().sum())"
   ]
  },
  {
   "cell_type": "code",
   "execution_count": 7,
   "metadata": {},
   "outputs": [
    {
     "name": "stdout",
     "output_type": "stream",
     "text": [
      "Number of duplicate rows in the dataset:  24\n",
      "\n",
      "Shape of data before removing the duplicate rows:  (32561, 15)\n",
      "\n",
      "Shape of data after removing the duplicate rows:  (32537, 15)\n",
      "\n",
      "Number of duplicate rows after removing the duplicates rows:  0\n"
     ]
    },
    {
     "data": {
      "text/html": [
       "<div>\n",
       "<style scoped>\n",
       "    .dataframe tbody tr th:only-of-type {\n",
       "        vertical-align: middle;\n",
       "    }\n",
       "\n",
       "    .dataframe tbody tr th {\n",
       "        vertical-align: top;\n",
       "    }\n",
       "\n",
       "    .dataframe thead th {\n",
       "        text-align: right;\n",
       "    }\n",
       "</style>\n",
       "<table border=\"1\" class=\"dataframe\">\n",
       "  <thead>\n",
       "    <tr style=\"text-align: right;\">\n",
       "      <th></th>\n",
       "      <th>age</th>\n",
       "      <th>workclass</th>\n",
       "      <th>fnlwgt</th>\n",
       "      <th>education</th>\n",
       "      <th>education.num</th>\n",
       "      <th>marital.status</th>\n",
       "      <th>occupation</th>\n",
       "      <th>relationship</th>\n",
       "      <th>race</th>\n",
       "      <th>sex</th>\n",
       "      <th>capital.gain</th>\n",
       "      <th>capital.loss</th>\n",
       "      <th>hours.per.week</th>\n",
       "      <th>native.country</th>\n",
       "      <th>income</th>\n",
       "    </tr>\n",
       "  </thead>\n",
       "  <tbody>\n",
       "  </tbody>\n",
       "</table>\n",
       "</div>"
      ],
      "text/plain": [
       "Empty DataFrame\n",
       "Columns: [age, workclass, fnlwgt, education, education.num, marital.status, occupation, relationship, race, sex, capital.gain, capital.loss, hours.per.week, native.country, income]\n",
       "Index: []"
      ]
     },
     "execution_count": 7,
     "metadata": {},
     "output_type": "execute_result"
    }
   ],
   "source": [
    "print('Number of duplicate rows in the dataset: ', data.duplicated().sum())\n",
    "print('\\nShape of data before removing the duplicate rows: ', data.shape)\n",
    "\n",
    "# dropping duplicates\n",
    "data = data.drop_duplicates()\n",
    "print('\\nShape of data after removing the duplicate rows: ', data.shape)\n",
    "\n",
    "\n",
    "print('\\nNumber of duplicate rows after removing the duplicates rows: ', data.duplicated().sum())\n",
    "data[data.duplicated()]"
   ]
  },
  {
   "cell_type": "markdown",
   "metadata": {},
   "source": [
    "We remove duplicates to avoid any overfiting of the model while training.\n",
    "\n",
    "We can now see that there are no more duplicate values."
   ]
  },
  {
   "cell_type": "code",
   "execution_count": 8,
   "metadata": {},
   "outputs": [
    {
     "name": "stdout",
     "output_type": "stream",
     "text": [
      "\n",
      " Maximum age in the data before removing the outliers 90\n",
      "\n",
      "99.5 quantile of the age :  78.0\n",
      "\n",
      "Maximum age in the data after removing the outliers is:  77\n"
     ]
    },
    {
     "data": {
      "image/png": "[encoded data removed]",
      "text/plain": [
       "<Figure size 432x288 with 1 Axes>"
      ]
     },
     "metadata": {
      "needs_background": "light"
     },
     "output_type": "display_data"
    }
   ],
   "source": [
    "sns.boxplot('age', data=data, palette='Purples')\n",
    "\n",
    "print('\\n Maximum age in the data before removing the outliers', data.age.max())\n",
    "\n",
    "print('\\n99.5 quantile of the age : ', data.age.quantile(0.995))\n",
    "\n",
    "data = data[data.age < data.age.quantile(0.995)]\n",
    "\n",
    "print('\\nMaximum age in the data after removing the outliers is: ', data.age.max())\n"
   ]
  },
  {
   "cell_type": "markdown",
   "metadata": {},
   "source": [
    "We can see that for columns `age` any values after `78` seems to be an outlier and it is intuitive because it is very difficult to earn at this stage of the life. Removing these types of outliers can help us clean the data as well as in making good prediction. The maximum `age` in this data set is now `77`."
   ]
  },
  {
   "cell_type": "code",
   "execution_count": 9,
   "metadata": {},
   "outputs": [
    {
     "name": "stdout",
     "output_type": "stream",
     "text": [
      "Maximun value in educaton num:  16\n",
      "Minimun value in educaton num:  1\n"
     ]
    },
    {
     "data": {
      "text/plain": [
       "<matplotlib.axes._subplots.AxesSubplot at 0x21283bae9e8>"
      ]
     },
     "execution_count": 9,
     "metadata": {},
     "output_type": "execute_result"
    },
    {
     "data": {
      "image/png": "[encoded data removed]",
      "text/plain": [
       "<Figure size 432x288 with 1 Axes>"
      ]
     },
     "metadata": {
      "needs_background": "light"
     },
     "output_type": "display_data"
    }
   ],
   "source": [
    "print('Maximun value in educaton num: ', data['education.num'].max())\n",
    "print('Minimun value in educaton num: ', data['education.num'].min())\n",
    "sns.boxplot('education.num', data=data, palette='Purples')"
   ]
  },
  {
   "cell_type": "markdown",
   "metadata": {},
   "source": [
    "Here for the `education_num` column we can see that all those adults which have education lower than 5 is an outlier but that can't be the case everytime because there may be people with no education and may be they earn very well. So we won't remove these."
   ]
  },
  {
   "cell_type": "code",
   "execution_count": null,
   "metadata": {},
   "outputs": [],
   "source": []
  },
  {
   "cell_type": "code",
   "execution_count": 10,
   "metadata": {},
   "outputs": [
    {
     "name": "stdout",
     "output_type": "stream",
     "text": [
      "Maximum value of Hours Per Week column before handling the outliers:  99\n",
      "\n",
      "Minimum value of Hours Per Week column before handling the outliers:  1\n",
      "\n",
      "\n",
      "Maximum value of Hours Per Week column after handling the outliers:  59\n",
      "\n",
      "Minimum value of Hours Per Week column after handling the outliers:  16\n"
     ]
    },
    {
     "data": {
      "image/png": "[encoded data removed]",
      "text/plain": [
       "<Figure size 432x288 with 1 Axes>"
      ]
     },
     "metadata": {
      "needs_background": "light"
     },
     "output_type": "display_data"
    }
   ],
   "source": [
    "print('Maximum value of Hours Per Week column before handling the outliers: ' ,data['hours.per.week'].max())\n",
    "print('\\nMinimum value of Hours Per Week column before handling the outliers: ' ,data['hours.per.week'].min())\n",
    "\n",
    "sns.boxplot(data['hours.per.week'], palette='Purples')\n",
    "\n",
    "hpw_low = data['hours.per.week'].quantile(0.04)\n",
    "hpw_high = data['hours.per.week'].quantile(0.93)\n",
    "\n",
    "data = data[(data['hours.per.week'] > hpw_low) & (data['hours.per.week'] < hpw_high)]\n",
    "\n",
    "print('\\n\\nMaximum value of Hours Per Week column after handling the outliers: ' ,data['hours.per.week'].max())\n",
    "print('\\nMinimum value of Hours Per Week column after handling the outliers: ' ,data['hours.per.week'].min())"
   ]
  },
  {
   "cell_type": "markdown",
   "metadata": {},
   "source": [
    "For the `hours.per.week` column, we can see that more 90 percent of the data is treated as outlier and that can't be the case.It is common sense that nobody can work 100 hours per week and is also not common to work for hours betweeen 1 and 10 per week. So for this column we would take values from 15 to 60 hours per week.\n",
    "\n",
    "As shown in the above cell, the max and the min values now for the `hours.per.week` are `59` and `16` respectively."
   ]
  },
  {
   "cell_type": "code",
   "execution_count": 11,
   "metadata": {},
   "outputs": [
    {
     "data": {
      "text/plain": [
       "(28463, 15)"
      ]
     },
     "execution_count": 11,
     "metadata": {},
     "output_type": "execute_result"
    }
   ],
   "source": [
    "data.shape"
   ]
  },
  {
   "cell_type": "markdown",
   "metadata": {},
   "source": [
    "Number of rows has been reduced now due to dropping values from the columns `age` and `hours_per_week` and now at this stage we are having `28463` rows and `15` columns."
   ]
  },
  {
   "cell_type": "code",
   "execution_count": 12,
   "metadata": {},
   "outputs": [
    {
     "data": {
      "text/html": [
       "<div>\n",
       "<style scoped>\n",
       "    .dataframe tbody tr th:only-of-type {\n",
       "        vertical-align: middle;\n",
       "    }\n",
       "\n",
       "    .dataframe tbody tr th {\n",
       "        vertical-align: top;\n",
       "    }\n",
       "\n",
       "    .dataframe thead th {\n",
       "        text-align: right;\n",
       "    }\n",
       "</style>\n",
       "<table border=\"1\" class=\"dataframe\">\n",
       "  <thead>\n",
       "    <tr style=\"text-align: right;\">\n",
       "      <th></th>\n",
       "      <th>age</th>\n",
       "      <th>fnlwgt</th>\n",
       "      <th>education.num</th>\n",
       "      <th>capital.gain</th>\n",
       "      <th>capital.loss</th>\n",
       "      <th>hours.per.week</th>\n",
       "    </tr>\n",
       "  </thead>\n",
       "  <tbody>\n",
       "    <tr>\n",
       "      <th>age</th>\n",
       "      <td>1.000000</td>\n",
       "      <td>-0.075306</td>\n",
       "      <td>0.031150</td>\n",
       "      <td>0.081406</td>\n",
       "      <td>0.055908</td>\n",
       "      <td>0.117077</td>\n",
       "    </tr>\n",
       "    <tr>\n",
       "      <th>fnlwgt</th>\n",
       "      <td>-0.075306</td>\n",
       "      <td>1.000000</td>\n",
       "      <td>-0.048148</td>\n",
       "      <td>-0.005956</td>\n",
       "      <td>-0.010253</td>\n",
       "      <td>-0.014060</td>\n",
       "    </tr>\n",
       "    <tr>\n",
       "      <th>education.num</th>\n",
       "      <td>0.031150</td>\n",
       "      <td>-0.048148</td>\n",
       "      <td>1.000000</td>\n",
       "      <td>0.107801</td>\n",
       "      <td>0.074986</td>\n",
       "      <td>0.148723</td>\n",
       "    </tr>\n",
       "    <tr>\n",
       "      <th>capital.gain</th>\n",
       "      <td>0.081406</td>\n",
       "      <td>-0.005956</td>\n",
       "      <td>0.107801</td>\n",
       "      <td>1.000000</td>\n",
       "      <td>-0.030466</td>\n",
       "      <td>0.065904</td>\n",
       "    </tr>\n",
       "    <tr>\n",
       "      <th>capital.loss</th>\n",
       "      <td>0.055908</td>\n",
       "      <td>-0.010253</td>\n",
       "      <td>0.074986</td>\n",
       "      <td>-0.030466</td>\n",
       "      <td>1.000000</td>\n",
       "      <td>0.051870</td>\n",
       "    </tr>\n",
       "    <tr>\n",
       "      <th>hours.per.week</th>\n",
       "      <td>0.117077</td>\n",
       "      <td>-0.014060</td>\n",
       "      <td>0.148723</td>\n",
       "      <td>0.065904</td>\n",
       "      <td>0.051870</td>\n",
       "      <td>1.000000</td>\n",
       "    </tr>\n",
       "  </tbody>\n",
       "</table>\n",
       "</div>"
      ],
      "text/plain": [
       "                     age    fnlwgt  education.num  capital.gain  capital.loss  \\\n",
       "age             1.000000 -0.075306       0.031150      0.081406      0.055908   \n",
       "fnlwgt         -0.075306  1.000000      -0.048148     -0.005956     -0.010253   \n",
       "education.num   0.031150 -0.048148       1.000000      0.107801      0.074986   \n",
       "capital.gain    0.081406 -0.005956       0.107801      1.000000     -0.030466   \n",
       "capital.loss    0.055908 -0.010253       0.074986     -0.030466      1.000000   \n",
       "hours.per.week  0.117077 -0.014060       0.148723      0.065904      0.051870   \n",
       "\n",
       "                hours.per.week  \n",
       "age                   0.117077  \n",
       "fnlwgt               -0.014060  \n",
       "education.num         0.148723  \n",
       "capital.gain          0.065904  \n",
       "capital.loss          0.051870  \n",
       "hours.per.week        1.000000  "
      ]
     },
     "execution_count": 12,
     "metadata": {},
     "output_type": "execute_result"
    }
   ],
   "source": [
    "correlation = data.corr()\n",
    "\n",
    "correlation"
   ]
  },
  {
   "cell_type": "code",
   "execution_count": 13,
   "metadata": {},
   "outputs": [
    {
     "data": {
      "text/plain": [
       "<matplotlib.axes._subplots.AxesSubplot at 0x21283a890b8>"
      ]
     },
     "execution_count": 13,
     "metadata": {},
     "output_type": "execute_result"
    },
    {
     "data": {
      "image/png": "[encoded data removed]",
      "text/plain": [
       "<Figure size 720x576 with 2 Axes>"
      ]
     },
     "metadata": {
      "needs_background": "light"
     },
     "output_type": "display_data"
    }
   ],
   "source": [
    "plt.figure(figsize=(10, 8))\n",
    "sns.heatmap(correlation, annot=True, yticklabels=False, cmap='Purples')"
   ]
  },
  {
   "cell_type": "markdown",
   "metadata": {},
   "source": [
    "This heatmap shows there is little to none correlation between attributes due to majority of the boxes are are showing correlation of around 0.5 which is normal. Since `fnlwgt` has no correlation with any other features (it's neither positively correlated nor negatively), so it's better to drop them from the dataset."
   ]
  },
  {
   "cell_type": "code",
   "execution_count": 14,
   "metadata": {},
   "outputs": [
    {
     "data": {
      "text/plain": [
       "(28463, 14)"
      ]
     },
     "execution_count": 14,
     "metadata": {},
     "output_type": "execute_result"
    }
   ],
   "source": [
    "data = data.drop('fnlwgt', axis=1)\n",
    "\n",
    "data.shape"
   ]
  },
  {
   "cell_type": "markdown",
   "metadata": {},
   "source": [
    "We have two different columns with same kind of information, `education.num` and `education`. `education` has the values of the education of the adults in string form while `education_num` have those values in integer form. So it is better to have only one of them and drop the other one because both are telling us the same information. We are going to drop `education` because the `education_num` is already in integer form so we won't need to convert it to numerical column as it is already there."
   ]
  },
  {
   "cell_type": "code",
   "execution_count": 15,
   "metadata": {},
   "outputs": [
    {
     "data": {
      "text/plain": [
       "Index(['age', 'workclass', 'education.num', 'marital.status', 'occupation',\n",
       "       'relationship', 'race', 'sex', 'capital.gain', 'capital.loss',\n",
       "       'hours.per.week', 'native.country', 'income'],\n",
       "      dtype='object')"
      ]
     },
     "execution_count": 15,
     "metadata": {},
     "output_type": "execute_result"
    }
   ],
   "source": [
    "data.drop('education', axis=1, inplace=True)\n",
    "data.columns"
   ]
  },
  {
   "cell_type": "code",
   "execution_count": 16,
   "metadata": {},
   "outputs": [
    {
     "name": "stdout",
     "output_type": "stream",
     "text": [
      "Number of individuals that are not from US:  2489\n",
      "\n",
      "Number of individuals that are from US:  25974\n"
     ]
    }
   ],
   "source": [
    "print('Number of individuals that are not from US: ',data[data['native.country']!='United-States'].shape[0])\n",
    "\n",
    "print('\\nNumber of individuals that are from US: ', data[data['native.country']== 'United-States'].shape[0])"
   ]
  },
  {
   "cell_type": "markdown",
   "metadata": {},
   "source": [
    "Out of `28463` individuals, `25974` of them are from `United-States` and only `2489` are from `40` other different countries. The sum of all the individuals that are not in `United-States` is `2489` which is very much of a low value as compared to `25974` which are from US. That is why we combined all those who aren't from US to compare it with those who are from US. If we didn't do this then after one hot encoding we will get so many columns from only one column, that is why it is better to combine all other countries and rename it as `Others`."
   ]
  },
  {
   "cell_type": "code",
   "execution_count": 17,
   "metadata": {},
   "outputs": [
    {
     "data": {
      "text/plain": [
       "United-States    25974\n",
       "Others            2489\n",
       "Name: native.country, dtype: int64"
      ]
     },
     "execution_count": 17,
     "metadata": {},
     "output_type": "execute_result"
    }
   ],
   "source": [
    "data['native.country'] = data['native.country'].replace(['Mexico', 'Greece', 'Vietnam', 'China',\n",
    "       'Philippines', 'Trinadad&Tobago', 'Canada', 'South',\n",
    "       'Holand-Netherlands', 'Puerto-Rico', 'Poland', 'Iran', 'England',\n",
    "       'Germany', 'Japan', 'Hong', 'Taiwan', 'India', 'Ireland',\n",
    "       'Cambodia', 'Peru', 'Nicaragua', 'Dominican-Republic', 'Haiti',\n",
    "       'El-Salvador', 'Columbia', 'Guatemala', 'Cuba', 'Jamaica', 'Italy',\n",
    "       'France', 'Yugoslavia', 'Scotland', 'Portugal', 'Ecuador', 'Laos',\n",
    "       'Hungary', 'Honduras', 'Outlying-US(Guam-USVI-etc)', 'Thailand'], 'Others')\n",
    "\n",
    "data['native.country'].value_counts()"
   ]
  },
  {
   "cell_type": "code",
   "execution_count": 18,
   "metadata": {},
   "outputs": [],
   "source": [
    "data.income   =   data.income.replace({'<=50K': 0, '>50K': 1})\n",
    "data.sex  =   data.sex.replace({'Female': 0, 'Male': 1})"
   ]
  },
  {
   "cell_type": "markdown",
   "metadata": {},
   "source": [
    "Replacing both the `income` and `sex` columns with `0s` and `1s`. For the `income` column `0` means `<=50K` and `1` means `>50K` while for the `sex` column `0` is for `female` and `1` is for `male` as both of these will be our final predicting variables for our classification tasks and it is necessary for both of them to be in numerical attribute."
   ]
  },
  {
   "cell_type": "code",
   "execution_count": 19,
   "metadata": {},
   "outputs": [
    {
     "data": {
      "text/plain": [
       "<matplotlib.axes._subplots.AxesSubplot at 0x21283bf9710>"
      ]
     },
     "execution_count": 19,
     "metadata": {},
     "output_type": "execute_result"
    },
    {
     "data": {
      "image/png": "[encoded data removed]",
      "text/plain": [
       "<Figure size 432x288 with 1 Axes>"
      ]
     },
     "metadata": {},
     "output_type": "display_data"
    }
   ],
   "source": [
    "sns.set_style('whitegrid')\n",
    "sns.countplot(x='income',\n",
    "    hue='sex',\n",
    "    data=data,\n",
    "    palette='Purples')"
   ]
  },
  {
   "cell_type": "markdown",
   "metadata": {},
   "source": [
    "The above bar chart shows us the distinctions in male and female salary dependent on sexual orientation. We see includes are a lot higher in guys. In the >50k pay, guys indicated a much higher contrast between their female partners, proposing that guys rule that pay gap more so than those in the <=50 salary."
   ]
  },
  {
   "cell_type": "code",
   "execution_count": 20,
   "metadata": {},
   "outputs": [
    {
     "data": {
      "text/plain": [
       "<matplotlib.axes._subplots.AxesSubplot at 0x21283d27fd0>"
      ]
     },
     "execution_count": 20,
     "metadata": {},
     "output_type": "execute_result"
    },
    {
     "data": {
      "image/png": "[encoded data removed]",
      "text/plain": [
       "<Figure size 432x288 with 1 Axes>"
      ]
     },
     "metadata": {},
     "output_type": "display_data"
    }
   ],
   "source": [
    "sns.countplot(x='income',\n",
    "    hue='marital.status',\n",
    "    data=data,\n",
    "    palette='Purples')"
   ]
  },
  {
   "cell_type": "markdown",
   "metadata": {},
   "source": [
    "The above bar chart outline speaks to salary of pay by conjugal status. Fascinating to see a couple of things, leading the <=50k salary of pay most elevated checks originate from the \"Never-married\" status. This recommends marriage does in reality accompany alot of monetary advantage, as should be obvious is important on the other portion of the outline. As married couples far outclass some other classification includes in the >50k salary of pay. We can affirm this again as the greater part of the divorced, separated , or widowed are situated in the lower pay gap. Recommending that, on the off chance that you need to make over 50k, you should get yourself an accomplice and keep them! For our next graph, Lets split up the age bunches in receptacles of 10 years, and see what sort of salary contrasts we see."
   ]
  },
  {
   "cell_type": "code",
   "execution_count": 21,
   "metadata": {},
   "outputs": [],
   "source": [
    "categorical_features = data.select_dtypes(include='object')\n",
    "numerical_features = data.select_dtypes(exclude='object')"
   ]
  },
  {
   "cell_type": "markdown",
   "metadata": {},
   "source": [
    "Splitting the `data` into `categorical_features` and `numerical_features`. The `categorical_features` of the data will be converted to dummy variables because all Machine Learning algorithms need numeric data for training as well as testing."
   ]
  },
  {
   "cell_type": "code",
   "execution_count": 22,
   "metadata": {},
   "outputs": [
    {
     "data": {
      "text/plain": [
       "Index(['workclass', 'marital.status', 'occupation', 'relationship', 'race',\n",
       "       'native.country'],\n",
       "      dtype='object')"
      ]
     },
     "execution_count": 22,
     "metadata": {},
     "output_type": "execute_result"
    }
   ],
   "source": [
    "categorical_features.columns"
   ]
  },
  {
   "cell_type": "code",
   "execution_count": 23,
   "metadata": {},
   "outputs": [
    {
     "data": {
      "text/plain": [
       "Index(['age', 'education.num', 'sex', 'capital.gain', 'capital.loss',\n",
       "       'hours.per.week', 'income'],\n",
       "      dtype='object')"
      ]
     },
     "execution_count": 23,
     "metadata": {},
     "output_type": "execute_result"
    }
   ],
   "source": [
    "numerical_features.columns"
   ]
  },
  {
   "cell_type": "code",
   "execution_count": 24,
   "metadata": {},
   "outputs": [
    {
     "data": {
      "text/html": [
       "<div>\n",
       "<style scoped>\n",
       "    .dataframe tbody tr th:only-of-type {\n",
       "        vertical-align: middle;\n",
       "    }\n",
       "\n",
       "    .dataframe tbody tr th {\n",
       "        vertical-align: top;\n",
       "    }\n",
       "\n",
       "    .dataframe thead th {\n",
       "        text-align: right;\n",
       "    }\n",
       "</style>\n",
       "<table border=\"1\" class=\"dataframe\">\n",
       "  <thead>\n",
       "    <tr style=\"text-align: right;\">\n",
       "      <th></th>\n",
       "      <th>workclass:Local-gov</th>\n",
       "      <th>workclass:Never-worked</th>\n",
       "      <th>workclass:Private</th>\n",
       "      <th>workclass:Self-emp-inc</th>\n",
       "      <th>workclass:Self-emp-not-inc</th>\n",
       "      <th>workclass:State-gov</th>\n",
       "      <th>workclass:Without-pay</th>\n",
       "      <th>marital.status:Married-AF-spouse</th>\n",
       "      <th>marital.status:Married-civ-spouse</th>\n",
       "      <th>marital.status:Married-spouse-absent</th>\n",
       "      <th>...</th>\n",
       "      <th>relationship:Not-in-family</th>\n",
       "      <th>relationship:Other-relative</th>\n",
       "      <th>relationship:Own-child</th>\n",
       "      <th>relationship:Unmarried</th>\n",
       "      <th>relationship:Wife</th>\n",
       "      <th>race:Asian-Pac-Islander</th>\n",
       "      <th>race:Black</th>\n",
       "      <th>race:Other</th>\n",
       "      <th>race:White</th>\n",
       "      <th>native.country:United-States</th>\n",
       "    </tr>\n",
       "  </thead>\n",
       "  <tbody>\n",
       "    <tr>\n",
       "      <th>2</th>\n",
       "      <td>0</td>\n",
       "      <td>0</td>\n",
       "      <td>1</td>\n",
       "      <td>0</td>\n",
       "      <td>0</td>\n",
       "      <td>0</td>\n",
       "      <td>0</td>\n",
       "      <td>0</td>\n",
       "      <td>0</td>\n",
       "      <td>0</td>\n",
       "      <td>...</td>\n",
       "      <td>0</td>\n",
       "      <td>0</td>\n",
       "      <td>0</td>\n",
       "      <td>1</td>\n",
       "      <td>0</td>\n",
       "      <td>0</td>\n",
       "      <td>1</td>\n",
       "      <td>0</td>\n",
       "      <td>0</td>\n",
       "      <td>1</td>\n",
       "    </tr>\n",
       "    <tr>\n",
       "      <th>3</th>\n",
       "      <td>0</td>\n",
       "      <td>0</td>\n",
       "      <td>1</td>\n",
       "      <td>0</td>\n",
       "      <td>0</td>\n",
       "      <td>0</td>\n",
       "      <td>0</td>\n",
       "      <td>0</td>\n",
       "      <td>0</td>\n",
       "      <td>0</td>\n",
       "      <td>...</td>\n",
       "      <td>0</td>\n",
       "      <td>0</td>\n",
       "      <td>0</td>\n",
       "      <td>1</td>\n",
       "      <td>0</td>\n",
       "      <td>0</td>\n",
       "      <td>0</td>\n",
       "      <td>0</td>\n",
       "      <td>1</td>\n",
       "      <td>1</td>\n",
       "    </tr>\n",
       "    <tr>\n",
       "      <th>4</th>\n",
       "      <td>0</td>\n",
       "      <td>0</td>\n",
       "      <td>1</td>\n",
       "      <td>0</td>\n",
       "      <td>0</td>\n",
       "      <td>0</td>\n",
       "      <td>0</td>\n",
       "      <td>0</td>\n",
       "      <td>0</td>\n",
       "      <td>0</td>\n",
       "      <td>...</td>\n",
       "      <td>0</td>\n",
       "      <td>0</td>\n",
       "      <td>1</td>\n",
       "      <td>0</td>\n",
       "      <td>0</td>\n",
       "      <td>0</td>\n",
       "      <td>0</td>\n",
       "      <td>0</td>\n",
       "      <td>1</td>\n",
       "      <td>1</td>\n",
       "    </tr>\n",
       "    <tr>\n",
       "      <th>5</th>\n",
       "      <td>0</td>\n",
       "      <td>0</td>\n",
       "      <td>1</td>\n",
       "      <td>0</td>\n",
       "      <td>0</td>\n",
       "      <td>0</td>\n",
       "      <td>0</td>\n",
       "      <td>0</td>\n",
       "      <td>0</td>\n",
       "      <td>0</td>\n",
       "      <td>...</td>\n",
       "      <td>0</td>\n",
       "      <td>0</td>\n",
       "      <td>0</td>\n",
       "      <td>1</td>\n",
       "      <td>0</td>\n",
       "      <td>0</td>\n",
       "      <td>0</td>\n",
       "      <td>0</td>\n",
       "      <td>1</td>\n",
       "      <td>1</td>\n",
       "    </tr>\n",
       "    <tr>\n",
       "      <th>6</th>\n",
       "      <td>0</td>\n",
       "      <td>0</td>\n",
       "      <td>1</td>\n",
       "      <td>0</td>\n",
       "      <td>0</td>\n",
       "      <td>0</td>\n",
       "      <td>0</td>\n",
       "      <td>0</td>\n",
       "      <td>0</td>\n",
       "      <td>0</td>\n",
       "      <td>...</td>\n",
       "      <td>0</td>\n",
       "      <td>0</td>\n",
       "      <td>0</td>\n",
       "      <td>1</td>\n",
       "      <td>0</td>\n",
       "      <td>0</td>\n",
       "      <td>0</td>\n",
       "      <td>0</td>\n",
       "      <td>1</td>\n",
       "      <td>1</td>\n",
       "    </tr>\n",
       "  </tbody>\n",
       "</table>\n",
       "<p>5 rows × 36 columns</p>\n",
       "</div>"
      ],
      "text/plain": [
       "   workclass:Local-gov  workclass:Never-worked  workclass:Private  \\\n",
       "2                    0                       0                  1   \n",
       "3                    0                       0                  1   \n",
       "4                    0                       0                  1   \n",
       "5                    0                       0                  1   \n",
       "6                    0                       0                  1   \n",
       "\n",
       "   workclass:Self-emp-inc  workclass:Self-emp-not-inc  workclass:State-gov  \\\n",
       "2                       0                           0                    0   \n",
       "3                       0                           0                    0   \n",
       "4                       0                           0                    0   \n",
       "5                       0                           0                    0   \n",
       "6                       0                           0                    0   \n",
       "\n",
       "   workclass:Without-pay  marital.status:Married-AF-spouse  \\\n",
       "2                      0                                 0   \n",
       "3                      0                                 0   \n",
       "4                      0                                 0   \n",
       "5                      0                                 0   \n",
       "6                      0                                 0   \n",
       "\n",
       "   marital.status:Married-civ-spouse  marital.status:Married-spouse-absent  \\\n",
       "2                                  0                                     0   \n",
       "3                                  0                                     0   \n",
       "4                                  0                                     0   \n",
       "5                                  0                                     0   \n",
       "6                                  0                                     0   \n",
       "\n",
       "               ...               relationship:Not-in-family  \\\n",
       "2              ...                                        0   \n",
       "3              ...                                        0   \n",
       "4              ...                                        0   \n",
       "5              ...                                        0   \n",
       "6              ...                                        0   \n",
       "\n",
       "   relationship:Other-relative  relationship:Own-child  \\\n",
       "2                            0                       0   \n",
       "3                            0                       0   \n",
       "4                            0                       1   \n",
       "5                            0                       0   \n",
       "6                            0                       0   \n",
       "\n",
       "   relationship:Unmarried  relationship:Wife  race:Asian-Pac-Islander  \\\n",
       "2                       1                  0                        0   \n",
       "3                       1                  0                        0   \n",
       "4                       0                  0                        0   \n",
       "5                       1                  0                        0   \n",
       "6                       1                  0                        0   \n",
       "\n",
       "   race:Black  race:Other  race:White  native.country:United-States  \n",
       "2           1           0           0                             1  \n",
       "3           0           0           1                             1  \n",
       "4           0           0           1                             1  \n",
       "5           0           0           1                             1  \n",
       "6           0           0           1                             1  \n",
       "\n",
       "[5 rows x 36 columns]"
      ]
     },
     "execution_count": 24,
     "metadata": {},
     "output_type": "execute_result"
    }
   ],
   "source": [
    "one_hot_encoded = pd.get_dummies(categorical_features, prefix_sep=':', drop_first=True)\n",
    "one_hot_encoded.head()"
   ]
  },
  {
   "cell_type": "markdown",
   "metadata": {},
   "source": [
    "Converting all the `categorical_features` into dummy variables and dropping the first dummy variable in order convert categorical variables into a form that could be provided to ML algorithms to do a better job in prediction."
   ]
  },
  {
   "cell_type": "code",
   "execution_count": 25,
   "metadata": {},
   "outputs": [
    {
     "data": {
      "text/plain": [
       "Index(['workclass:Local-gov', 'workclass:Never-worked', 'workclass:Private',\n",
       "       'workclass:Self-emp-inc', 'workclass:Self-emp-not-inc',\n",
       "       'workclass:State-gov', 'workclass:Without-pay',\n",
       "       'marital.status:Married-AF-spouse', 'marital.status:Married-civ-spouse',\n",
       "       'marital.status:Married-spouse-absent', 'marital.status:Never-married',\n",
       "       'marital.status:Separated', 'marital.status:Widowed',\n",
       "       'occupation:Armed-Forces', 'occupation:Craft-repair',\n",
       "       'occupation:Exec-managerial', 'occupation:Farming-fishing',\n",
       "       'occupation:Handlers-cleaners', 'occupation:Machine-op-inspct',\n",
       "       'occupation:Other-service', 'occupation:Priv-house-serv',\n",
       "       'occupation:Prof-specialty', 'occupation:Protective-serv',\n",
       "       'occupation:Sales', 'occupation:Tech-support',\n",
       "       'occupation:Transport-moving', 'relationship:Not-in-family',\n",
       "       'relationship:Other-relative', 'relationship:Own-child',\n",
       "       'relationship:Unmarried', 'relationship:Wife',\n",
       "       'race:Asian-Pac-Islander', 'race:Black', 'race:Other', 'race:White',\n",
       "       'native.country:United-States'],\n",
       "      dtype='object')"
      ]
     },
     "execution_count": 25,
     "metadata": {},
     "output_type": "execute_result"
    }
   ],
   "source": [
    "#Here is the list of one-hot encoded attributes for clarification\n",
    "\n",
    "one_hot_encoded.columns"
   ]
  },
  {
   "cell_type": "code",
   "execution_count": 26,
   "metadata": {},
   "outputs": [],
   "source": [
    "income_data = pd.concat([numerical_features, one_hot_encoded], axis=1)\n",
    "sex_data    = pd.concat([numerical_features, one_hot_encoded], axis=1)\n",
    "\n",
    "income  =   income_data['income']\n",
    "sex     =   sex_data['sex']"
   ]
  },
  {
   "cell_type": "markdown",
   "metadata": {},
   "source": [
    "We are creating two different datasets, `income_data` and `sex_data`, in order to train the model on them for both the purposes (predicting the `income` and the `sex`). \n",
    "\n",
    "We are also making separate serieses of both the `income` and `sex` columns. These serieses (`income` and `sex`) will then be used as the Target Variables. For predicting the income of an individual, `income` series will be used as Target Variable for predicting the `income` and same for the other series i.e `sex` will be used as the Target Variable fro predicting the `sex` of an individual."
   ]
  },
  {
   "cell_type": "code",
   "execution_count": 27,
   "metadata": {},
   "outputs": [
    {
     "data": {
      "text/plain": [
       "True"
      ]
     },
     "execution_count": 27,
     "metadata": {},
     "output_type": "execute_result"
    }
   ],
   "source": [
    "len(income_data.columns) == len(sex_data.columns)"
   ]
  },
  {
   "cell_type": "markdown",
   "metadata": {},
   "source": [
    "## Data Preparation Part 2"
   ]
  },
  {
   "cell_type": "code",
   "execution_count": 28,
   "metadata": {},
   "outputs": [],
   "source": [
    "full_data_income = income_data\n",
    "full_data_sex = sex_data"
   ]
  },
  {
   "cell_type": "markdown",
   "metadata": {},
   "source": [
    "`full_data_income` and `full_data_sex` are the two final datasets that we will be using for predicting the `income` and the `sex` of an individual respectively."
   ]
  },
  {
   "cell_type": "code",
   "execution_count": 29,
   "metadata": {},
   "outputs": [
    {
     "data": {
      "text/html": [
       "<div>\n",
       "<style scoped>\n",
       "    .dataframe tbody tr th:only-of-type {\n",
       "        vertical-align: middle;\n",
       "    }\n",
       "\n",
       "    .dataframe tbody tr th {\n",
       "        vertical-align: top;\n",
       "    }\n",
       "\n",
       "    .dataframe thead th {\n",
       "        text-align: right;\n",
       "    }\n",
       "</style>\n",
       "<table border=\"1\" class=\"dataframe\">\n",
       "  <thead>\n",
       "    <tr style=\"text-align: right;\">\n",
       "      <th></th>\n",
       "      <th>age</th>\n",
       "      <th>education.num</th>\n",
       "      <th>sex</th>\n",
       "      <th>capital.gain</th>\n",
       "      <th>capital.loss</th>\n",
       "      <th>hours.per.week</th>\n",
       "      <th>income</th>\n",
       "      <th>workclass:Local-gov</th>\n",
       "      <th>workclass:Never-worked</th>\n",
       "      <th>workclass:Private</th>\n",
       "      <th>...</th>\n",
       "      <th>relationship:Not-in-family</th>\n",
       "      <th>relationship:Other-relative</th>\n",
       "      <th>relationship:Own-child</th>\n",
       "      <th>relationship:Unmarried</th>\n",
       "      <th>relationship:Wife</th>\n",
       "      <th>race:Asian-Pac-Islander</th>\n",
       "      <th>race:Black</th>\n",
       "      <th>race:Other</th>\n",
       "      <th>race:White</th>\n",
       "      <th>native.country:United-States</th>\n",
       "    </tr>\n",
       "  </thead>\n",
       "  <tbody>\n",
       "    <tr>\n",
       "      <th>0</th>\n",
       "      <td>66</td>\n",
       "      <td>10</td>\n",
       "      <td>0</td>\n",
       "      <td>0</td>\n",
       "      <td>4356</td>\n",
       "      <td>40</td>\n",
       "      <td>0</td>\n",
       "      <td>0</td>\n",
       "      <td>0</td>\n",
       "      <td>1</td>\n",
       "      <td>...</td>\n",
       "      <td>0</td>\n",
       "      <td>0</td>\n",
       "      <td>0</td>\n",
       "      <td>1</td>\n",
       "      <td>0</td>\n",
       "      <td>0</td>\n",
       "      <td>1</td>\n",
       "      <td>0</td>\n",
       "      <td>0</td>\n",
       "      <td>1</td>\n",
       "    </tr>\n",
       "    <tr>\n",
       "      <th>1</th>\n",
       "      <td>54</td>\n",
       "      <td>4</td>\n",
       "      <td>0</td>\n",
       "      <td>0</td>\n",
       "      <td>3900</td>\n",
       "      <td>40</td>\n",
       "      <td>0</td>\n",
       "      <td>0</td>\n",
       "      <td>0</td>\n",
       "      <td>1</td>\n",
       "      <td>...</td>\n",
       "      <td>0</td>\n",
       "      <td>0</td>\n",
       "      <td>0</td>\n",
       "      <td>1</td>\n",
       "      <td>0</td>\n",
       "      <td>0</td>\n",
       "      <td>0</td>\n",
       "      <td>0</td>\n",
       "      <td>1</td>\n",
       "      <td>1</td>\n",
       "    </tr>\n",
       "    <tr>\n",
       "      <th>2</th>\n",
       "      <td>41</td>\n",
       "      <td>10</td>\n",
       "      <td>0</td>\n",
       "      <td>0</td>\n",
       "      <td>3900</td>\n",
       "      <td>40</td>\n",
       "      <td>0</td>\n",
       "      <td>0</td>\n",
       "      <td>0</td>\n",
       "      <td>1</td>\n",
       "      <td>...</td>\n",
       "      <td>0</td>\n",
       "      <td>0</td>\n",
       "      <td>1</td>\n",
       "      <td>0</td>\n",
       "      <td>0</td>\n",
       "      <td>0</td>\n",
       "      <td>0</td>\n",
       "      <td>0</td>\n",
       "      <td>1</td>\n",
       "      <td>1</td>\n",
       "    </tr>\n",
       "    <tr>\n",
       "      <th>3</th>\n",
       "      <td>34</td>\n",
       "      <td>9</td>\n",
       "      <td>0</td>\n",
       "      <td>0</td>\n",
       "      <td>3770</td>\n",
       "      <td>45</td>\n",
       "      <td>0</td>\n",
       "      <td>0</td>\n",
       "      <td>0</td>\n",
       "      <td>1</td>\n",
       "      <td>...</td>\n",
       "      <td>0</td>\n",
       "      <td>0</td>\n",
       "      <td>0</td>\n",
       "      <td>1</td>\n",
       "      <td>0</td>\n",
       "      <td>0</td>\n",
       "      <td>0</td>\n",
       "      <td>0</td>\n",
       "      <td>1</td>\n",
       "      <td>1</td>\n",
       "    </tr>\n",
       "    <tr>\n",
       "      <th>4</th>\n",
       "      <td>38</td>\n",
       "      <td>6</td>\n",
       "      <td>1</td>\n",
       "      <td>0</td>\n",
       "      <td>3770</td>\n",
       "      <td>40</td>\n",
       "      <td>0</td>\n",
       "      <td>0</td>\n",
       "      <td>0</td>\n",
       "      <td>1</td>\n",
       "      <td>...</td>\n",
       "      <td>0</td>\n",
       "      <td>0</td>\n",
       "      <td>0</td>\n",
       "      <td>1</td>\n",
       "      <td>0</td>\n",
       "      <td>0</td>\n",
       "      <td>0</td>\n",
       "      <td>0</td>\n",
       "      <td>1</td>\n",
       "      <td>1</td>\n",
       "    </tr>\n",
       "    <tr>\n",
       "      <th>5</th>\n",
       "      <td>74</td>\n",
       "      <td>16</td>\n",
       "      <td>0</td>\n",
       "      <td>0</td>\n",
       "      <td>3683</td>\n",
       "      <td>20</td>\n",
       "      <td>1</td>\n",
       "      <td>0</td>\n",
       "      <td>0</td>\n",
       "      <td>0</td>\n",
       "      <td>...</td>\n",
       "      <td>0</td>\n",
       "      <td>1</td>\n",
       "      <td>0</td>\n",
       "      <td>0</td>\n",
       "      <td>0</td>\n",
       "      <td>0</td>\n",
       "      <td>0</td>\n",
       "      <td>0</td>\n",
       "      <td>1</td>\n",
       "      <td>1</td>\n",
       "    </tr>\n",
       "    <tr>\n",
       "      <th>6</th>\n",
       "      <td>68</td>\n",
       "      <td>9</td>\n",
       "      <td>0</td>\n",
       "      <td>0</td>\n",
       "      <td>3683</td>\n",
       "      <td>40</td>\n",
       "      <td>0</td>\n",
       "      <td>0</td>\n",
       "      <td>0</td>\n",
       "      <td>0</td>\n",
       "      <td>...</td>\n",
       "      <td>1</td>\n",
       "      <td>0</td>\n",
       "      <td>0</td>\n",
       "      <td>0</td>\n",
       "      <td>0</td>\n",
       "      <td>0</td>\n",
       "      <td>0</td>\n",
       "      <td>0</td>\n",
       "      <td>1</td>\n",
       "      <td>1</td>\n",
       "    </tr>\n",
       "    <tr>\n",
       "      <th>7</th>\n",
       "      <td>45</td>\n",
       "      <td>16</td>\n",
       "      <td>0</td>\n",
       "      <td>0</td>\n",
       "      <td>3004</td>\n",
       "      <td>35</td>\n",
       "      <td>1</td>\n",
       "      <td>0</td>\n",
       "      <td>0</td>\n",
       "      <td>1</td>\n",
       "      <td>...</td>\n",
       "      <td>0</td>\n",
       "      <td>0</td>\n",
       "      <td>0</td>\n",
       "      <td>1</td>\n",
       "      <td>0</td>\n",
       "      <td>0</td>\n",
       "      <td>1</td>\n",
       "      <td>0</td>\n",
       "      <td>0</td>\n",
       "      <td>1</td>\n",
       "    </tr>\n",
       "    <tr>\n",
       "      <th>8</th>\n",
       "      <td>38</td>\n",
       "      <td>15</td>\n",
       "      <td>1</td>\n",
       "      <td>0</td>\n",
       "      <td>2824</td>\n",
       "      <td>45</td>\n",
       "      <td>1</td>\n",
       "      <td>0</td>\n",
       "      <td>0</td>\n",
       "      <td>0</td>\n",
       "      <td>...</td>\n",
       "      <td>1</td>\n",
       "      <td>0</td>\n",
       "      <td>0</td>\n",
       "      <td>0</td>\n",
       "      <td>0</td>\n",
       "      <td>0</td>\n",
       "      <td>0</td>\n",
       "      <td>0</td>\n",
       "      <td>1</td>\n",
       "      <td>1</td>\n",
       "    </tr>\n",
       "    <tr>\n",
       "      <th>9</th>\n",
       "      <td>52</td>\n",
       "      <td>13</td>\n",
       "      <td>0</td>\n",
       "      <td>0</td>\n",
       "      <td>2824</td>\n",
       "      <td>20</td>\n",
       "      <td>1</td>\n",
       "      <td>0</td>\n",
       "      <td>0</td>\n",
       "      <td>1</td>\n",
       "      <td>...</td>\n",
       "      <td>1</td>\n",
       "      <td>0</td>\n",
       "      <td>0</td>\n",
       "      <td>0</td>\n",
       "      <td>0</td>\n",
       "      <td>0</td>\n",
       "      <td>0</td>\n",
       "      <td>0</td>\n",
       "      <td>1</td>\n",
       "      <td>1</td>\n",
       "    </tr>\n",
       "  </tbody>\n",
       "</table>\n",
       "<p>10 rows × 43 columns</p>\n",
       "</div>"
      ],
      "text/plain": [
       "   age  education.num  sex  capital.gain  capital.loss  hours.per.week  \\\n",
       "0   66             10    0             0          4356              40   \n",
       "1   54              4    0             0          3900              40   \n",
       "2   41             10    0             0          3900              40   \n",
       "3   34              9    0             0          3770              45   \n",
       "4   38              6    1             0          3770              40   \n",
       "5   74             16    0             0          3683              20   \n",
       "6   68              9    0             0          3683              40   \n",
       "7   45             16    0             0          3004              35   \n",
       "8   38             15    1             0          2824              45   \n",
       "9   52             13    0             0          2824              20   \n",
       "\n",
       "   income  workclass:Local-gov  workclass:Never-worked  workclass:Private  \\\n",
       "0       0                    0                       0                  1   \n",
       "1       0                    0                       0                  1   \n",
       "2       0                    0                       0                  1   \n",
       "3       0                    0                       0                  1   \n",
       "4       0                    0                       0                  1   \n",
       "5       1                    0                       0                  0   \n",
       "6       0                    0                       0                  0   \n",
       "7       1                    0                       0                  1   \n",
       "8       1                    0                       0                  0   \n",
       "9       1                    0                       0                  1   \n",
       "\n",
       "               ...               relationship:Not-in-family  \\\n",
       "0              ...                                        0   \n",
       "1              ...                                        0   \n",
       "2              ...                                        0   \n",
       "3              ...                                        0   \n",
       "4              ...                                        0   \n",
       "5              ...                                        0   \n",
       "6              ...                                        1   \n",
       "7              ...                                        0   \n",
       "8              ...                                        1   \n",
       "9              ...                                        1   \n",
       "\n",
       "   relationship:Other-relative  relationship:Own-child  \\\n",
       "0                            0                       0   \n",
       "1                            0                       0   \n",
       "2                            0                       1   \n",
       "3                            0                       0   \n",
       "4                            0                       0   \n",
       "5                            1                       0   \n",
       "6                            0                       0   \n",
       "7                            0                       0   \n",
       "8                            0                       0   \n",
       "9                            0                       0   \n",
       "\n",
       "   relationship:Unmarried  relationship:Wife  race:Asian-Pac-Islander  \\\n",
       "0                       1                  0                        0   \n",
       "1                       1                  0                        0   \n",
       "2                       0                  0                        0   \n",
       "3                       1                  0                        0   \n",
       "4                       1                  0                        0   \n",
       "5                       0                  0                        0   \n",
       "6                       0                  0                        0   \n",
       "7                       1                  0                        0   \n",
       "8                       0                  0                        0   \n",
       "9                       0                  0                        0   \n",
       "\n",
       "   race:Black  race:Other  race:White  native.country:United-States  \n",
       "0           1           0           0                             1  \n",
       "1           0           0           1                             1  \n",
       "2           0           0           1                             1  \n",
       "3           0           0           1                             1  \n",
       "4           0           0           1                             1  \n",
       "5           0           0           1                             1  \n",
       "6           0           0           1                             1  \n",
       "7           1           0           0                             1  \n",
       "8           0           0           1                             1  \n",
       "9           0           0           1                             1  \n",
       "\n",
       "[10 rows x 43 columns]"
      ]
     },
     "execution_count": 29,
     "metadata": {},
     "output_type": "execute_result"
    }
   ],
   "source": [
    "full_data_income = full_data_income.reset_index(drop=True)\n",
    "\n",
    "full_data_income.head(10)"
   ]
  },
  {
   "cell_type": "code",
   "execution_count": 30,
   "metadata": {},
   "outputs": [
    {
     "data": {
      "text/html": [
       "<div>\n",
       "<style scoped>\n",
       "    .dataframe tbody tr th:only-of-type {\n",
       "        vertical-align: middle;\n",
       "    }\n",
       "\n",
       "    .dataframe tbody tr th {\n",
       "        vertical-align: top;\n",
       "    }\n",
       "\n",
       "    .dataframe thead th {\n",
       "        text-align: right;\n",
       "    }\n",
       "</style>\n",
       "<table border=\"1\" class=\"dataframe\">\n",
       "  <thead>\n",
       "    <tr style=\"text-align: right;\">\n",
       "      <th></th>\n",
       "      <th>age</th>\n",
       "      <th>education.num</th>\n",
       "      <th>sex</th>\n",
       "      <th>capital.gain</th>\n",
       "      <th>capital.loss</th>\n",
       "      <th>hours.per.week</th>\n",
       "      <th>income</th>\n",
       "      <th>workclass:Local-gov</th>\n",
       "      <th>workclass:Never-worked</th>\n",
       "      <th>workclass:Private</th>\n",
       "      <th>...</th>\n",
       "      <th>relationship:Not-in-family</th>\n",
       "      <th>relationship:Other-relative</th>\n",
       "      <th>relationship:Own-child</th>\n",
       "      <th>relationship:Unmarried</th>\n",
       "      <th>relationship:Wife</th>\n",
       "      <th>race:Asian-Pac-Islander</th>\n",
       "      <th>race:Black</th>\n",
       "      <th>race:Other</th>\n",
       "      <th>race:White</th>\n",
       "      <th>native.country:United-States</th>\n",
       "    </tr>\n",
       "  </thead>\n",
       "  <tbody>\n",
       "    <tr>\n",
       "      <th>0</th>\n",
       "      <td>66</td>\n",
       "      <td>10</td>\n",
       "      <td>0</td>\n",
       "      <td>0</td>\n",
       "      <td>4356</td>\n",
       "      <td>40</td>\n",
       "      <td>0</td>\n",
       "      <td>0</td>\n",
       "      <td>0</td>\n",
       "      <td>1</td>\n",
       "      <td>...</td>\n",
       "      <td>0</td>\n",
       "      <td>0</td>\n",
       "      <td>0</td>\n",
       "      <td>1</td>\n",
       "      <td>0</td>\n",
       "      <td>0</td>\n",
       "      <td>1</td>\n",
       "      <td>0</td>\n",
       "      <td>0</td>\n",
       "      <td>1</td>\n",
       "    </tr>\n",
       "    <tr>\n",
       "      <th>1</th>\n",
       "      <td>54</td>\n",
       "      <td>4</td>\n",
       "      <td>0</td>\n",
       "      <td>0</td>\n",
       "      <td>3900</td>\n",
       "      <td>40</td>\n",
       "      <td>0</td>\n",
       "      <td>0</td>\n",
       "      <td>0</td>\n",
       "      <td>1</td>\n",
       "      <td>...</td>\n",
       "      <td>0</td>\n",
       "      <td>0</td>\n",
       "      <td>0</td>\n",
       "      <td>1</td>\n",
       "      <td>0</td>\n",
       "      <td>0</td>\n",
       "      <td>0</td>\n",
       "      <td>0</td>\n",
       "      <td>1</td>\n",
       "      <td>1</td>\n",
       "    </tr>\n",
       "    <tr>\n",
       "      <th>2</th>\n",
       "      <td>41</td>\n",
       "      <td>10</td>\n",
       "      <td>0</td>\n",
       "      <td>0</td>\n",
       "      <td>3900</td>\n",
       "      <td>40</td>\n",
       "      <td>0</td>\n",
       "      <td>0</td>\n",
       "      <td>0</td>\n",
       "      <td>1</td>\n",
       "      <td>...</td>\n",
       "      <td>0</td>\n",
       "      <td>0</td>\n",
       "      <td>1</td>\n",
       "      <td>0</td>\n",
       "      <td>0</td>\n",
       "      <td>0</td>\n",
       "      <td>0</td>\n",
       "      <td>0</td>\n",
       "      <td>1</td>\n",
       "      <td>1</td>\n",
       "    </tr>\n",
       "    <tr>\n",
       "      <th>3</th>\n",
       "      <td>34</td>\n",
       "      <td>9</td>\n",
       "      <td>0</td>\n",
       "      <td>0</td>\n",
       "      <td>3770</td>\n",
       "      <td>45</td>\n",
       "      <td>0</td>\n",
       "      <td>0</td>\n",
       "      <td>0</td>\n",
       "      <td>1</td>\n",
       "      <td>...</td>\n",
       "      <td>0</td>\n",
       "      <td>0</td>\n",
       "      <td>0</td>\n",
       "      <td>1</td>\n",
       "      <td>0</td>\n",
       "      <td>0</td>\n",
       "      <td>0</td>\n",
       "      <td>0</td>\n",
       "      <td>1</td>\n",
       "      <td>1</td>\n",
       "    </tr>\n",
       "    <tr>\n",
       "      <th>4</th>\n",
       "      <td>38</td>\n",
       "      <td>6</td>\n",
       "      <td>1</td>\n",
       "      <td>0</td>\n",
       "      <td>3770</td>\n",
       "      <td>40</td>\n",
       "      <td>0</td>\n",
       "      <td>0</td>\n",
       "      <td>0</td>\n",
       "      <td>1</td>\n",
       "      <td>...</td>\n",
       "      <td>0</td>\n",
       "      <td>0</td>\n",
       "      <td>0</td>\n",
       "      <td>1</td>\n",
       "      <td>0</td>\n",
       "      <td>0</td>\n",
       "      <td>0</td>\n",
       "      <td>0</td>\n",
       "      <td>1</td>\n",
       "      <td>1</td>\n",
       "    </tr>\n",
       "    <tr>\n",
       "      <th>5</th>\n",
       "      <td>74</td>\n",
       "      <td>16</td>\n",
       "      <td>0</td>\n",
       "      <td>0</td>\n",
       "      <td>3683</td>\n",
       "      <td>20</td>\n",
       "      <td>1</td>\n",
       "      <td>0</td>\n",
       "      <td>0</td>\n",
       "      <td>0</td>\n",
       "      <td>...</td>\n",
       "      <td>0</td>\n",
       "      <td>1</td>\n",
       "      <td>0</td>\n",
       "      <td>0</td>\n",
       "      <td>0</td>\n",
       "      <td>0</td>\n",
       "      <td>0</td>\n",
       "      <td>0</td>\n",
       "      <td>1</td>\n",
       "      <td>1</td>\n",
       "    </tr>\n",
       "    <tr>\n",
       "      <th>6</th>\n",
       "      <td>68</td>\n",
       "      <td>9</td>\n",
       "      <td>0</td>\n",
       "      <td>0</td>\n",
       "      <td>3683</td>\n",
       "      <td>40</td>\n",
       "      <td>0</td>\n",
       "      <td>0</td>\n",
       "      <td>0</td>\n",
       "      <td>0</td>\n",
       "      <td>...</td>\n",
       "      <td>1</td>\n",
       "      <td>0</td>\n",
       "      <td>0</td>\n",
       "      <td>0</td>\n",
       "      <td>0</td>\n",
       "      <td>0</td>\n",
       "      <td>0</td>\n",
       "      <td>0</td>\n",
       "      <td>1</td>\n",
       "      <td>1</td>\n",
       "    </tr>\n",
       "    <tr>\n",
       "      <th>7</th>\n",
       "      <td>45</td>\n",
       "      <td>16</td>\n",
       "      <td>0</td>\n",
       "      <td>0</td>\n",
       "      <td>3004</td>\n",
       "      <td>35</td>\n",
       "      <td>1</td>\n",
       "      <td>0</td>\n",
       "      <td>0</td>\n",
       "      <td>1</td>\n",
       "      <td>...</td>\n",
       "      <td>0</td>\n",
       "      <td>0</td>\n",
       "      <td>0</td>\n",
       "      <td>1</td>\n",
       "      <td>0</td>\n",
       "      <td>0</td>\n",
       "      <td>1</td>\n",
       "      <td>0</td>\n",
       "      <td>0</td>\n",
       "      <td>1</td>\n",
       "    </tr>\n",
       "    <tr>\n",
       "      <th>8</th>\n",
       "      <td>38</td>\n",
       "      <td>15</td>\n",
       "      <td>1</td>\n",
       "      <td>0</td>\n",
       "      <td>2824</td>\n",
       "      <td>45</td>\n",
       "      <td>1</td>\n",
       "      <td>0</td>\n",
       "      <td>0</td>\n",
       "      <td>0</td>\n",
       "      <td>...</td>\n",
       "      <td>1</td>\n",
       "      <td>0</td>\n",
       "      <td>0</td>\n",
       "      <td>0</td>\n",
       "      <td>0</td>\n",
       "      <td>0</td>\n",
       "      <td>0</td>\n",
       "      <td>0</td>\n",
       "      <td>1</td>\n",
       "      <td>1</td>\n",
       "    </tr>\n",
       "    <tr>\n",
       "      <th>9</th>\n",
       "      <td>52</td>\n",
       "      <td>13</td>\n",
       "      <td>0</td>\n",
       "      <td>0</td>\n",
       "      <td>2824</td>\n",
       "      <td>20</td>\n",
       "      <td>1</td>\n",
       "      <td>0</td>\n",
       "      <td>0</td>\n",
       "      <td>1</td>\n",
       "      <td>...</td>\n",
       "      <td>1</td>\n",
       "      <td>0</td>\n",
       "      <td>0</td>\n",
       "      <td>0</td>\n",
       "      <td>0</td>\n",
       "      <td>0</td>\n",
       "      <td>0</td>\n",
       "      <td>0</td>\n",
       "      <td>1</td>\n",
       "      <td>1</td>\n",
       "    </tr>\n",
       "  </tbody>\n",
       "</table>\n",
       "<p>10 rows × 43 columns</p>\n",
       "</div>"
      ],
      "text/plain": [
       "   age  education.num  sex  capital.gain  capital.loss  hours.per.week  \\\n",
       "0   66             10    0             0          4356              40   \n",
       "1   54              4    0             0          3900              40   \n",
       "2   41             10    0             0          3900              40   \n",
       "3   34              9    0             0          3770              45   \n",
       "4   38              6    1             0          3770              40   \n",
       "5   74             16    0             0          3683              20   \n",
       "6   68              9    0             0          3683              40   \n",
       "7   45             16    0             0          3004              35   \n",
       "8   38             15    1             0          2824              45   \n",
       "9   52             13    0             0          2824              20   \n",
       "\n",
       "   income  workclass:Local-gov  workclass:Never-worked  workclass:Private  \\\n",
       "0       0                    0                       0                  1   \n",
       "1       0                    0                       0                  1   \n",
       "2       0                    0                       0                  1   \n",
       "3       0                    0                       0                  1   \n",
       "4       0                    0                       0                  1   \n",
       "5       1                    0                       0                  0   \n",
       "6       0                    0                       0                  0   \n",
       "7       1                    0                       0                  1   \n",
       "8       1                    0                       0                  0   \n",
       "9       1                    0                       0                  1   \n",
       "\n",
       "               ...               relationship:Not-in-family  \\\n",
       "0              ...                                        0   \n",
       "1              ...                                        0   \n",
       "2              ...                                        0   \n",
       "3              ...                                        0   \n",
       "4              ...                                        0   \n",
       "5              ...                                        0   \n",
       "6              ...                                        1   \n",
       "7              ...                                        0   \n",
       "8              ...                                        1   \n",
       "9              ...                                        1   \n",
       "\n",
       "   relationship:Other-relative  relationship:Own-child  \\\n",
       "0                            0                       0   \n",
       "1                            0                       0   \n",
       "2                            0                       1   \n",
       "3                            0                       0   \n",
       "4                            0                       0   \n",
       "5                            1                       0   \n",
       "6                            0                       0   \n",
       "7                            0                       0   \n",
       "8                            0                       0   \n",
       "9                            0                       0   \n",
       "\n",
       "   relationship:Unmarried  relationship:Wife  race:Asian-Pac-Islander  \\\n",
       "0                       1                  0                        0   \n",
       "1                       1                  0                        0   \n",
       "2                       0                  0                        0   \n",
       "3                       1                  0                        0   \n",
       "4                       1                  0                        0   \n",
       "5                       0                  0                        0   \n",
       "6                       0                  0                        0   \n",
       "7                       1                  0                        0   \n",
       "8                       0                  0                        0   \n",
       "9                       0                  0                        0   \n",
       "\n",
       "   race:Black  race:Other  race:White  native.country:United-States  \n",
       "0           1           0           0                             1  \n",
       "1           0           0           1                             1  \n",
       "2           0           0           1                             1  \n",
       "3           0           0           1                             1  \n",
       "4           0           0           1                             1  \n",
       "5           0           0           1                             1  \n",
       "6           0           0           1                             1  \n",
       "7           1           0           0                             1  \n",
       "8           0           0           1                             1  \n",
       "9           0           0           1                             1  \n",
       "\n",
       "[10 rows x 43 columns]"
      ]
     },
     "execution_count": 30,
     "metadata": {},
     "output_type": "execute_result"
    }
   ],
   "source": [
    "full_data_sex = full_data_sex.reset_index(drop=True)\n",
    "\n",
    "full_data_sex.head(10)"
   ]
  },
  {
   "cell_type": "code",
   "execution_count": 31,
   "metadata": {},
   "outputs": [
    {
     "name": "stdout",
     "output_type": "stream",
     "text": [
      "<class 'pandas.core.frame.DataFrame'>\n",
      "RangeIndex: 28463 entries, 0 to 28462\n",
      "Data columns (total 43 columns):\n",
      "age                                     28463 non-null int64\n",
      "education.num                           28463 non-null int64\n",
      "sex                                     28463 non-null int64\n",
      "capital.gain                            28463 non-null int64\n",
      "capital.loss                            28463 non-null int64\n",
      "hours.per.week                          28463 non-null int64\n",
      "income                                  28463 non-null int64\n",
      "workclass:Local-gov                     28463 non-null uint8\n",
      "workclass:Never-worked                  28463 non-null uint8\n",
      "workclass:Private                       28463 non-null uint8\n",
      "workclass:Self-emp-inc                  28463 non-null uint8\n",
      "workclass:Self-emp-not-inc              28463 non-null uint8\n",
      "workclass:State-gov                     28463 non-null uint8\n",
      "workclass:Without-pay                   28463 non-null uint8\n",
      "marital.status:Married-AF-spouse        28463 non-null uint8\n",
      "marital.status:Married-civ-spouse       28463 non-null uint8\n",
      "marital.status:Married-spouse-absent    28463 non-null uint8\n",
      "marital.status:Never-married            28463 non-null uint8\n",
      "marital.status:Separated                28463 non-null uint8\n",
      "marital.status:Widowed                  28463 non-null uint8\n",
      "occupation:Armed-Forces                 28463 non-null uint8\n",
      "occupation:Craft-repair                 28463 non-null uint8\n",
      "occupation:Exec-managerial              28463 non-null uint8\n",
      "occupation:Farming-fishing              28463 non-null uint8\n",
      "occupation:Handlers-cleaners            28463 non-null uint8\n",
      "occupation:Machine-op-inspct            28463 non-null uint8\n",
      "occupation:Other-service                28463 non-null uint8\n",
      "occupation:Priv-house-serv              28463 non-null uint8\n",
      "occupation:Prof-specialty               28463 non-null uint8\n",
      "occupation:Protective-serv              28463 non-null uint8\n",
      "occupation:Sales                        28463 non-null uint8\n",
      "occupation:Tech-support                 28463 non-null uint8\n",
      "occupation:Transport-moving             28463 non-null uint8\n",
      "relationship:Not-in-family              28463 non-null uint8\n",
      "relationship:Other-relative             28463 non-null uint8\n",
      "relationship:Own-child                  28463 non-null uint8\n",
      "relationship:Unmarried                  28463 non-null uint8\n",
      "relationship:Wife                       28463 non-null uint8\n",
      "race:Asian-Pac-Islander                 28463 non-null uint8\n",
      "race:Black                              28463 non-null uint8\n",
      "race:Other                              28463 non-null uint8\n",
      "race:White                              28463 non-null uint8\n",
      "native.country:United-States            28463 non-null uint8\n",
      "dtypes: int64(7), uint8(36)\n",
      "memory usage: 2.5 MB\n"
     ]
    }
   ],
   "source": [
    "full_data_income.info()"
   ]
  },
  {
   "cell_type": "markdown",
   "metadata": {},
   "source": [
    "###### This is the final dataset that will be used for predicting the `income` of an individual."
   ]
  },
  {
   "cell_type": "code",
   "execution_count": 32,
   "metadata": {},
   "outputs": [
    {
     "name": "stdout",
     "output_type": "stream",
     "text": [
      "<class 'pandas.core.frame.DataFrame'>\n",
      "RangeIndex: 28463 entries, 0 to 28462\n",
      "Data columns (total 43 columns):\n",
      "age                                     28463 non-null int64\n",
      "education.num                           28463 non-null int64\n",
      "sex                                     28463 non-null int64\n",
      "capital.gain                            28463 non-null int64\n",
      "capital.loss                            28463 non-null int64\n",
      "hours.per.week                          28463 non-null int64\n",
      "income                                  28463 non-null int64\n",
      "workclass:Local-gov                     28463 non-null uint8\n",
      "workclass:Never-worked                  28463 non-null uint8\n",
      "workclass:Private                       28463 non-null uint8\n",
      "workclass:Self-emp-inc                  28463 non-null uint8\n",
      "workclass:Self-emp-not-inc              28463 non-null uint8\n",
      "workclass:State-gov                     28463 non-null uint8\n",
      "workclass:Without-pay                   28463 non-null uint8\n",
      "marital.status:Married-AF-spouse        28463 non-null uint8\n",
      "marital.status:Married-civ-spouse       28463 non-null uint8\n",
      "marital.status:Married-spouse-absent    28463 non-null uint8\n",
      "marital.status:Never-married            28463 non-null uint8\n",
      "marital.status:Separated                28463 non-null uint8\n",
      "marital.status:Widowed                  28463 non-null uint8\n",
      "occupation:Armed-Forces                 28463 non-null uint8\n",
      "occupation:Craft-repair                 28463 non-null uint8\n",
      "occupation:Exec-managerial              28463 non-null uint8\n",
      "occupation:Farming-fishing              28463 non-null uint8\n",
      "occupation:Handlers-cleaners            28463 non-null uint8\n",
      "occupation:Machine-op-inspct            28463 non-null uint8\n",
      "occupation:Other-service                28463 non-null uint8\n",
      "occupation:Priv-house-serv              28463 non-null uint8\n",
      "occupation:Prof-specialty               28463 non-null uint8\n",
      "occupation:Protective-serv              28463 non-null uint8\n",
      "occupation:Sales                        28463 non-null uint8\n",
      "occupation:Tech-support                 28463 non-null uint8\n",
      "occupation:Transport-moving             28463 non-null uint8\n",
      "relationship:Not-in-family              28463 non-null uint8\n",
      "relationship:Other-relative             28463 non-null uint8\n",
      "relationship:Own-child                  28463 non-null uint8\n",
      "relationship:Unmarried                  28463 non-null uint8\n",
      "relationship:Wife                       28463 non-null uint8\n",
      "race:Asian-Pac-Islander                 28463 non-null uint8\n",
      "race:Black                              28463 non-null uint8\n",
      "race:Other                              28463 non-null uint8\n",
      "race:White                              28463 non-null uint8\n",
      "native.country:United-States            28463 non-null uint8\n",
      "dtypes: int64(7), uint8(36)\n",
      "memory usage: 2.5 MB\n"
     ]
    }
   ],
   "source": [
    "full_data_sex.info()"
   ]
  },
  {
   "cell_type": "markdown",
   "metadata": {},
   "source": [
    "###### This is the final dataset that will be used for predicting the `gender (Male or Female)` of an individual."
   ]
  },
  {
   "cell_type": "markdown",
   "metadata": {},
   "source": [
    "For both of our datasets (`income` and `sex`) we have `44` columns and `28463` rows. "
   ]
  },
  {
   "cell_type": "markdown",
   "metadata": {},
   "source": [
    "Splitting datasets into their respective training and testing label attributes for feeding it to the model."
   ]
  },
  {
   "cell_type": "code",
   "execution_count": 33,
   "metadata": {},
   "outputs": [],
   "source": [
    "income_data = full_data_income.drop(columns=['income'])\n",
    "income_labels = full_data_income['income']\n",
    "\n",
    "sex_data = full_data_sex.drop(columns=['sex'])\n",
    "sex_labels = full_data_sex['sex']"
   ]
  },
  {
   "cell_type": "markdown",
   "metadata": {},
   "source": [
    "We are dropping the `income` column from `full_data_income` and `sex` column from `full_data_sex` as these two are our Target Variables. The `income_data` will be having the `sex` column and `sex_data` will be having the `income` column because we don't want to lose the information. The other reason of keeping the `sex` column in `income_data` is that it can be an important feature for predicting the income of an individual and also `income` can be an important feature for predicting the `sex` of an individual.\n",
    "\n",
    "These are the final datasets that we will be using."
   ]
  },
  {
   "cell_type": "markdown",
   "metadata": {},
   "source": [
    "## Modeling and Evaluation 1"
   ]
  },
  {
   "cell_type": "markdown",
   "metadata": {},
   "source": [
    "#### Evaluation Metrics\n",
    "\n",
    "We are going to perform two different classification tasks, since both are classification tasks, the evaluation metricsthat  we will be using are as follows: <br>\n",
    "- Accuracy\n",
    "- Precision\n",
    "- Recall\n",
    "- F-1 Score\n",
    "\n",
    "#### Accuracy\n",
    "As this is the classification task, so we want to check the accuracy of our model as how often it predicts accurately the given output label. Having high accuracy means our model is generally performing good. Accuracy is the total of `True Positives` + `True Negatives` and divided by `Total Number of input samples` <br>\n",
    "\n",
    "#### Precision / Recall\n",
    "Next we are checking the `precision` of our model. We want to see if it classifies based on the attributes, how often is it correct.\n",
    "In `Recall` we want to see if it classifies accurately, how often does it classifies accurately.\n",
    "In our task, we want high precision i.e to accurately predict the output label instead of high recall which even allows some false predictoins to fall in predictions test.\n",
    "We can’t have it both ways, i.e high precision and recall a phenomenan known as `precision/recall tradeoff`. If we increase `precision`, `recall` would fall down. So for easy evaluation and balanced mean between both `precision and recall`, we use `F-1 Score`.\n",
    "\n",
    "#### F-1 Score\n",
    "It is often good to combine `Precision` and `Recall` into a single metric `F-1 Score`. As both `False Negatives` and `False Positives` play equall role in our classification tasks in terms of cost. So we want to evaluate based on F-1 score to see how Precission and Recall tradeoff plays in our classification task by telling us how precise our model is and tries to find the balance between precision and recall. So, by checking the `F-1 score` we can see how much better our model is performing.\n",
    "\n",
    "#### Confusion Matrix\n",
    "Confusion matrix is another very good metric for classification algorithms. A confusion matrix has the capability to tell the mistakes done by the classifiers as well. For binary classification, the confusion matrix will be a `2x2` matrix and the values on the diagonal will be the values that are correctly classified and the values off the diagonal are the misclassified points. By looking at a confusion matrix, one can also get a hint whether his/her model is overfitting or underfitting."
   ]
  },
  {
   "cell_type": "code",
   "execution_count": null,
   "metadata": {},
   "outputs": [],
   "source": []
  },
  {
   "cell_type": "markdown",
   "metadata": {},
   "source": [
    "We have created our own functions for all these metrices that we are using because we will be calculating these metrices many times so it is better to create some functions only once and then call those functions whenever needed."
   ]
  },
  {
   "cell_type": "code",
   "execution_count": 34,
   "metadata": {},
   "outputs": [],
   "source": [
    "def plot_confusion_matrix(y_true, y_pred, \n",
    "                          normalize=True,\n",
    "                          title=None,\n",
    "                          cmap=plt.cm.Purples):\n",
    "    \n",
    "    if not title:\n",
    "        if normalize:\n",
    "            title = 'Normalized confusion matrix'\n",
    "        else:\n",
    "            title = 'Confusion matrix, without normalization'\n",
    "\n",
    "    \n",
    "    cm = confusion_matrix(y_true, y_pred)\n",
    "    \n",
    "    if normalize:\n",
    "        cm = cm.astype('float') / cm.sum(axis=1)[:, np.newaxis]\n",
    "        print(\"Normalized confusion matrix\")\n",
    "    else:\n",
    "        print('Confusion matrix, without normalization')\n",
    "\n",
    "    print(cm)\n",
    "\n",
    "    fig, ax = plt.subplots()\n",
    "    im = ax.imshow(cm, interpolation='nearest', cmap = cmap)\n",
    "    ax.figure.colorbar(im, ax=ax)\n",
    "    \n",
    "    ax.set(xticks=np.arange(cm.shape[1]),\n",
    "           yticks=np.arange(cm.shape[0]),\n",
    "           title=title,\n",
    "           ylabel='True label',\n",
    "           xlabel='Predicted label')\n",
    "\n",
    "    plt.setp(ax.get_xticklabels(), rotation=45, ha=\"right\",\n",
    "             rotation_mode=\"anchor\")\n",
    "\n",
    "    fmt = '.2f' if normalize else 'd'\n",
    "    thresh = cm.max() / 2.\n",
    "    for i in range(cm.shape[0]):\n",
    "        for j in range(cm.shape[1]):\n",
    "            ax.text(j, i, format(cm[i, j], fmt),\n",
    "                    ha=\"center\", va=\"center\",\n",
    "                    color=\"white\" if cm[i, j] > thresh else \"black\")\n",
    "    fig.tight_layout()\n",
    "    return ax"
   ]
  },
  {
   "cell_type": "code",
   "execution_count": null,
   "metadata": {},
   "outputs": [],
   "source": []
  },
  {
   "cell_type": "code",
   "execution_count": 35,
   "metadata": {
    "scrolled": false
   },
   "outputs": [],
   "source": [
    "def acc_res(y_test, y_pred):\n",
    "    \n",
    "    print(\"Confusion Matrix\")\n",
    "    matrix = confusion_matrix(y_test,y_pred)\n",
    "    print(matrix)\n",
    "    print(\"---------------------------------------\")\n",
    "    accuracy_scr = accuracy_score(y_test, y_pred)\n",
    "    recall_scr = recall_score(y_test, y_pred)\n",
    "    precision_scr = precision_score(y_test, y_pred)\n",
    "    print(f\"Accuracy Score: {accuracy_scr*100:.4f}%\")\n",
    "    print(f\"Recall Score: {recall_scr*100:.4f}%\")\n",
    "    print(f\"Precision Score: {precision_scr*100:.4f}%\")\n",
    "    print(\"-----------------------------------------\")\n",
    "    print(\"Classification Report\")\n",
    "    print(classification_report(y_test,y_pred))\n",
    "    print(plot_confusion_matrix(y_test, y_pred))"
   ]
  },
  {
   "cell_type": "code",
   "execution_count": null,
   "metadata": {},
   "outputs": [],
   "source": []
  },
  {
   "cell_type": "markdown",
   "metadata": {},
   "source": [
    "## Modeling and Evaluation 2"
   ]
  },
  {
   "cell_type": "markdown",
   "metadata": {},
   "source": [
    "We are using built-in `train_test_split` package from scikit-learn for randomly splitting our data into traing and testing splits. We will be doing this for both `income_data` as well as `sex_data` separately. We are diving the our data into 80% training data and 20% testing data. The `random_state` parameter in train_test_split will give us randomly splitted data and the `42` will give us exactly the same distribution of our data each time we run this. this random_state parameter shuffle the data in a way that we will get the same shuffle each time we run this. \n",
    "\n",
    "We have added `stratify` parameter equals to the `labels` in `train_test_split` for the purpose of stratification. Due to this `stratify` parameter both our training and testing splits will be having the labels from both the calsses which is very essential for every algorithm. This stratification also helps us preventing from the overfitting and underfitting."
   ]
  },
  {
   "cell_type": "code",
   "execution_count": 36,
   "metadata": {},
   "outputs": [],
   "source": [
    "X_train_income, X_test_income, y_train_income, y_test_income = train_test_split(income_data, income_labels, test_size =0.2, random_state = 42, stratify = income_labels)"
   ]
  },
  {
   "cell_type": "markdown",
   "metadata": {},
   "source": [
    "We have splitted our `income` data into `X_train_income`, `X_test_income`, `y_train_income`, and `y_test_income`. `X_train_income` and `y_train_income` will be used to train the model and `X_test_income` will be used to test the model and to make predictions on while `y_test_income` will be used to evaluate our model(s)."
   ]
  },
  {
   "cell_type": "markdown",
   "metadata": {},
   "source": [
    "After splitting the data into training and testing now we are giong to Scale are data using `StandardScaler` for income task. \n",
    "<br>\n",
    "\n",
    "We do this because variables that are measured at different scales do not contribute equally to the model fitting & model learned function and might end up creating a bias. So, to deal with this potential problem feature-wise standardizedization is used before model fitting.\n",
    "We have used `StandardScaler` instead of `MinMaxScaler` because `StandardScaler` uses the mean and standard deviation to calculate the scaled values meanwhile `MinMaxScaler` just rescales the variables in the range 0-1 which is not appropriate to use here as our data relies in number of variables."
   ]
  },
  {
   "cell_type": "markdown",
   "metadata": {},
   "source": [
    "We are only fitting our scaler object on Training data because we dont want to bias our model with the information from the testing data. If we fit our test data and transform it on it, we would calculate new mean and standard deviation for each feature which might causes problems while testing our model as both the scaled models are using different mean and standard deviations."
   ]
  },
  {
   "cell_type": "code",
   "execution_count": 37,
   "metadata": {},
   "outputs": [],
   "source": [
    "scaler_income = StandardScaler()"
   ]
  },
  {
   "cell_type": "code",
   "execution_count": 38,
   "metadata": {},
   "outputs": [],
   "source": [
    "scaler_income.fit(X_train_income)\n",
    "X_train_scaled_income = scaler_income.transform(X_train_income)\n",
    "X_test_scaled_income = scaler_income.transform(X_test_income)"
   ]
  },
  {
   "cell_type": "markdown",
   "metadata": {},
   "source": [
    "So, our final data to be used for predicting the `income` is now `X_train_scaled_income`, `X_test_scaled_income`, `y_train_income`, and `y_test_income`"
   ]
  },
  {
   "cell_type": "code",
   "execution_count": null,
   "metadata": {},
   "outputs": [],
   "source": []
  },
  {
   "cell_type": "code",
   "execution_count": null,
   "metadata": {},
   "outputs": [],
   "source": []
  },
  {
   "cell_type": "code",
   "execution_count": 39,
   "metadata": {},
   "outputs": [],
   "source": [
    "X_train_gender, X_test_gender, y_train_gender, y_test_gender = train_test_split(sex_data, sex_labels, test_size =0.2,\n",
    "                                                                                random_state = 42, stratify = sex_labels)"
   ]
  },
  {
   "cell_type": "markdown",
   "metadata": {},
   "source": [
    "Now we have splitted our `sex_data` data into `X_train_gender`, `X_test_gender`, `y_train_gender`, and `y_test_gender`. `X_train_gender` and `y_train_gender` will be used to train the model and `X_test_gender` will be used to test the model and to make predictions on while `y_test_gender` will be used to evaluate our model(s)."
   ]
  },
  {
   "cell_type": "markdown",
   "metadata": {},
   "source": [
    "We will do the exact same scalling for the `sex_data` that we did for `income_data`.\n",
    "\n",
    "So after scaling, our final data to be used for task 2 (predicting the `gender`) will be `X_train_scaled_gender`, `X_test_scaled_gender`, `y_train_gender`, and `y_test_gender`"
   ]
  },
  {
   "cell_type": "code",
   "execution_count": 40,
   "metadata": {},
   "outputs": [],
   "source": [
    "scaler_gender = StandardScaler()"
   ]
  },
  {
   "cell_type": "code",
   "execution_count": 41,
   "metadata": {},
   "outputs": [],
   "source": [
    "scaler_gender.fit(X_train_gender)\n",
    "X_train_scaled_gender = scaler_income.transform(X_train_gender)\n",
    "X_test_scaled_gender = scaler_income.transform(X_test_gender)"
   ]
  },
  {
   "cell_type": "code",
   "execution_count": null,
   "metadata": {},
   "outputs": [],
   "source": []
  },
  {
   "cell_type": "markdown",
   "metadata": {},
   "source": [
    "## Modeling and Evaluation 3"
   ]
  },
  {
   "cell_type": "markdown",
   "metadata": {},
   "source": [
    "We will be using three different classfiers for predicting the `income` as well as three classifiers for predicting the `gender`. \n",
    "\n",
    "<br>\n",
    "\n",
    "The Classifiers that we will be using for predicting the `income` are: <br>\n",
    "1. Support Vector Classifier\n",
    "2. K-Nearest Neighbours\n",
    "3. Random Forest Classifier\n",
    "4. Gradient Boosting Classifier\n",
    "\n",
    "While the classifiers that we will be using for predicting the `gender` are: <br>\n",
    "1. Random Forest Classifier\n",
    "2. Logistic Regression\n",
    "3. K-Nearest Neighbours\n",
    "4. Gradient Boosting Classifier\n",
    "\n",
    "#### Why Support Vector Classifier?\n",
    "\n",
    "The support vector machine is a classifier that speaks to the training information as points in space isolated into classifications by a hole as wide as could be expected under the circumstances. New points are then added to space by foreseeing which class they fall into and which space they will have a place with. \n",
    "It utilizes a subset of training data in the choice capacity which makes it memory proficient and is exceptionally powerful in high dimensional spaces. The main disadvantage with the support vector machine is that the algorithm doesn't straightforwardly give likelihood estimates.\n",
    "\n",
    "\n",
    "#### Why K-Nearest Neighbours?\n",
    "\n",
    "It is a lazy learning algorithm that stores all instances relating to training information in n-dimensional space. It is a languid learning calculation as it doesn't zero in on building an overall inner model, rather, it deals with putting away cases of training data. \n",
    "This algorithm is a very straightforward in its execution and is hearty to uproarious training information. Regardless of whether the training information is huge, it is very effective. The main inconvenience with the KNN calculation is that there is no compelling reason to decide the estimation of K and computation cost is pretty high contrasted with different other algorithms.\n",
    "\n",
    "\n",
    "#### Why Random Forest Classifier?\n",
    "\n",
    "Random decision trees or random forest are an ensemble learning method for classification, regression, etc. It operates by constructing a multitude of decision trees at training time and outputs the class that is the mode of the classes or classification or mean prediction(regression) of the individual trees.\n",
    "The advantage of the random forest is that it is more accurate than the decision trees due to the reduction in the over-fitting. The only disadvantage with the random forest classifiers is that it is quite complex in implementation and gets pretty slow in real-time prediction.\n",
    "\n",
    "Random decision trees or random forest are an ensemble learning strategy for classification, grouping, and so forth It works by developing a huge number of decision trees at training time and yields the class that is the method of the classes or classification or mean prediction(regression) of the individual trees. \n",
    "The benefit of the random forest is that it is more precise than the decision trees because of the decrease in the over-fitting. The main drawback with the random forest classifiers is that it is very perplexing in execution and gets pretty delayed in realtime prediction.\n",
    "\n",
    "#### Why Gradient Boosting Classifier?\n",
    "Gradient Boosting is like a Random Forest as in that it uses a set of decision trees for either regression or classification.  The main differences are that in a Random Forest the trees are built independently while in Gradient Boosting they are built one after the other in an additive sequence where each new tree is built to improve on the previous tree.  Also the other difference is that the results of the model are calculated at the end for Random Forest by averaging all the trees out but for Gradient Boosting it calculates the result along the way.  Gradient boosting has the potential to work better than a random forest if the parameters tuned but may perform poorly if there is a lot statistical noise.  Since our data isn't very noisy and we removed a lot of outliers it could be possible that this works better than the Random Forest so it would be interesting to see if that would be the case.[2]  \n",
    "\n",
    "#### Why Logistic Regression?\n",
    "\n",
    "Logistics regression is a classification algorithms which performs really well on binary data, and since both our class variables are binary, that is why we are going to perform Logistic regression. Logistic Regression algorithm is used to predict a binary outcome based on a set of independent variables. Logistic regression is used to calculate the probability of a binary event occurring, and to deal with issues of classification. For example, in our case predicting if an individual is earning `more than 50K (>50K)` or `less than 50K (<=50K)`, or predicting if the individual is `male` or `female`. Logistic regression is used to predict the likelihood of all kinds of `>50K` or `<=50K`, in our case, outcomes. By predicting such outcomes, logistic regression helps in making informed decisions. "
   ]
  },
  {
   "cell_type": "markdown",
   "metadata": {},
   "source": [
    "Instantiating classifiers in the below cell. (Parameters chosen referred to 'Exceptional Work' section)"
   ]
  },
  {
   "cell_type": "code",
   "execution_count": 58,
   "metadata": {},
   "outputs": [],
   "source": [
    "clf_svc = SVC(degree = 5, tol = 0.0001)\n",
    "clf_knn =  KNeighborsClassifier(n_neighbors = 8, leaf_size = 40)\n",
    "clf_rforest = RandomForestClassifier(n_estimators = 350, max_depth = 10, min_samples_split = 4)\n",
    "clf_logreg = LogisticRegression (penalty='l2', tol=0.0001, C=1.0, fit_intercept=True,)\n",
    "clf_GB = GradientBoostingClassifier(n_estimators=350)"
   ]
  },
  {
   "cell_type": "code",
   "execution_count": 59,
   "metadata": {},
   "outputs": [],
   "source": [
    "classifiers_income = ['Support Vector Classifier', 'K-Nearest Neighbours', 'Random Forest Classifier', 'Gradient Boosting Classifier']\n",
    "\n",
    "classifiers_gender = ['Logistic Regression', 'K-Nearest Neighbours', 'Random Forest Classifier', 'Gradient Boosting Classifier']\n",
    "\n",
    "models_income = {clf_svc:'Support Vector Classifier',\n",
    "          clf_knn:'K-Nearest Neighbours',\n",
    "          clf_rforest: 'Random Forest Classifier',\n",
    "          clf_GB: 'Gradient Boosting Classifer'}\n",
    "\n",
    "models_gender = {clf_logreg:'Logistic Regression',\n",
    "          clf_knn:'K-Nearest Neighbours',\n",
    "          clf_rforest: 'Random Forest Classifier',\n",
    "          clf_GB: 'Gradient Boosting Classifer'}"
   ]
  },
  {
   "cell_type": "markdown",
   "metadata": {},
   "source": [
    "Creating a functions for easy confusion matrix plotting, training, and accuracy measures as we dont have to do the same steps again and again for every model."
   ]
  },
  {
   "cell_type": "code",
   "execution_count": 60,
   "metadata": {},
   "outputs": [],
   "source": [
    "def train(algo, name, X_train, y_train, X_test, y_test):\n",
    "    algo.fit(X_train, y_train)\n",
    "    y_pred       = algo.predict(X_test)\n",
    "    acc_sc       = accuracy_score(y_test,y_pred)\n",
    "    precision_sc = precision_score(y_test, y_pred)\n",
    "    recall_sc    = recall_score(y_test, y_pred)\n",
    "    f1_sc        = f1_score(y_test, y_pred)\n",
    "    \n",
    "    print(f\"--------------------------------------------{name}---------------------------------------------------\")\n",
    "    print(f\"Accuracy Score for {name}: {acc_sc*100:.4f}%\")\n",
    "    return y_test,y_pred,acc_sc, precision_sc, recall_sc, f1_sc\n"
   ]
  },
  {
   "cell_type": "markdown",
   "metadata": {},
   "source": [
    "## Modeling and Evaluation Part 4"
   ]
  },
  {
   "cell_type": "markdown",
   "metadata": {},
   "source": [
    "### Task 1: Predicting the Income(>50K/<=50K)"
   ]
  },
  {
   "cell_type": "markdown",
   "metadata": {},
   "source": [
    "`main_income` function for computing all the training and testing of the models with their evaluation metrics being displayes as well."
   ]
  },
  {
   "cell_type": "code",
   "execution_count": 61,
   "metadata": {
    "scrolled": false
   },
   "outputs": [
    {
     "name": "stdout",
     "output_type": "stream",
     "text": [
      "--------------------------------------------Support Vector Classifier---------------------------------------------------\n",
      "Accuracy Score for Support Vector Classifier: 85.2275%\n",
      "Confusion Matrix\n",
      "[[4094  265]\n",
      " [ 576  758]]\n",
      "---------------------------------------\n",
      "Accuracy Score: 85.2275%\n",
      "Recall Score: 56.8216%\n",
      "Precision Score: 74.0958%\n",
      "-----------------------------------------\n",
      "Classification Report\n",
      "              precision    recall  f1-score   support\n",
      "\n",
      "           0       0.88      0.94      0.91      4359\n",
      "           1       0.74      0.57      0.64      1334\n",
      "\n",
      "   micro avg       0.85      0.85      0.85      5693\n",
      "   macro avg       0.81      0.75      0.78      5693\n",
      "weighted avg       0.84      0.85      0.85      5693\n",
      "\n",
      "Normalized confusion matrix\n",
      "[[0.93920624 0.06079376]\n",
      " [0.43178411 0.56821589]]\n",
      "AxesSubplot(0.0843171,0.0375;0.712546x0.925)\n",
      "--------------------------------------------K-Nearest Neighbours---------------------------------------------------\n",
      "Accuracy Score for K-Nearest Neighbours: 83.9101%\n",
      "Confusion Matrix\n",
      "[[4110  249]\n",
      " [ 667  667]]\n",
      "---------------------------------------\n",
      "Accuracy Score: 83.9101%\n",
      "Recall Score: 50.0000%\n",
      "Precision Score: 72.8166%\n",
      "-----------------------------------------\n",
      "Classification Report\n",
      "              precision    recall  f1-score   support\n",
      "\n",
      "           0       0.86      0.94      0.90      4359\n",
      "           1       0.73      0.50      0.59      1334\n",
      "\n",
      "   micro avg       0.84      0.84      0.84      5693\n",
      "   macro avg       0.79      0.72      0.75      5693\n",
      "weighted avg       0.83      0.84      0.83      5693\n",
      "\n",
      "Normalized confusion matrix\n",
      "[[0.94287681 0.05712319]\n",
      " [0.5        0.5       ]]\n",
      "AxesSubplot(0.0843171,0.0375;0.712546x0.925)\n",
      "--------------------------------------------Random Forest Classifier---------------------------------------------------\n",
      "Accuracy Score for Random Forest Classifier: 85.6139%\n",
      "Confusion Matrix\n",
      "[[4146  213]\n",
      " [ 606  728]]\n",
      "---------------------------------------\n",
      "Accuracy Score: 85.6139%\n",
      "Recall Score: 54.5727%\n",
      "Precision Score: 77.3645%\n",
      "-----------------------------------------\n",
      "Classification Report\n",
      "              precision    recall  f1-score   support\n",
      "\n",
      "           0       0.87      0.95      0.91      4359\n",
      "           1       0.77      0.55      0.64      1334\n",
      "\n",
      "   micro avg       0.86      0.86      0.86      5693\n",
      "   macro avg       0.82      0.75      0.78      5693\n",
      "weighted avg       0.85      0.86      0.85      5693\n",
      "\n",
      "Normalized confusion matrix\n",
      "[[0.95113558 0.04886442]\n",
      " [0.45427286 0.54572714]]\n",
      "AxesSubplot(0.0843171,0.0375;0.712546x0.925)\n",
      "--------------------------------------------Gradient Boosting Classifer---------------------------------------------------\n",
      "Accuracy Score for Gradient Boosting Classifer: 87.2651%\n",
      "Confusion Matrix\n",
      "[[4111  248]\n",
      " [ 477  857]]\n",
      "---------------------------------------\n",
      "Accuracy Score: 87.2651%\n",
      "Recall Score: 64.2429%\n",
      "Precision Score: 77.5566%\n",
      "-----------------------------------------\n",
      "Classification Report\n",
      "              precision    recall  f1-score   support\n",
      "\n",
      "           0       0.90      0.94      0.92      4359\n",
      "           1       0.78      0.64      0.70      1334\n",
      "\n",
      "   micro avg       0.87      0.87      0.87      5693\n",
      "   macro avg       0.84      0.79      0.81      5693\n",
      "weighted avg       0.87      0.87      0.87      5693\n",
      "\n",
      "Normalized confusion matrix\n",
      "[[0.94310622 0.05689378]\n",
      " [0.35757121 0.64242879]]\n",
      "AxesSubplot(0.0843171,0.0375;0.712546x0.925)\n"
     ]
    },
    {
     "data": {
      "image/png": "[encoded data removed]",
      "text/plain": [
       "<Figure size 432x288 with 2 Axes>"
      ]
     },
     "metadata": {
      "needs_background": "light"
     },
     "output_type": "display_data"
    },
    {
     "data": {
      "image/png": "[encoded data removed]",
      "text/plain": [
       "<Figure size 432x288 with 2 Axes>"
      ]
     },
     "metadata": {
      "needs_background": "light"
     },
     "output_type": "display_data"
    },
    {
     "data": {
      "image/png": "[encoded data removed]",
      "text/plain": [
       "<Figure size 432x288 with 2 Axes>"
      ]
     },
     "metadata": {
      "needs_background": "light"
     },
     "output_type": "display_data"
    },
    {
     "data": {
      "image/png": "[encoded data removed]",
      "text/plain": [
       "<Figure size 432x288 with 2 Axes>"
      ]
     },
     "metadata": {
      "needs_background": "light"
     },
     "output_type": "display_data"
    }
   ],
   "source": [
    "def main_income(models_income):\n",
    "    accuracy_scores_income = []\n",
    "    precision_scores_income = []\n",
    "    recall_scores_income = []\n",
    "    f1_scores_income = []\n",
    "    for algo, name in models_income.items():\n",
    "        y_test_train, y_pred, acc_sc, precision_sc, recall_sc, f1_sc = train(algo, name, X_train_scaled_income,\n",
    "                                                                             y_train_income,X_test_scaled_income, \n",
    "                                                                             y_test_income)\n",
    "        acc_res(y_test_train,y_pred)\n",
    "        accuracy_scores_income.append(acc_sc)\n",
    "        precision_scores_income.append(precision_sc)\n",
    "        recall_scores_income.append(recall_sc)\n",
    "        f1_scores_income.append(f1_sc)\n",
    "    return accuracy_scores_income, precision_scores_income, recall_scores_income, f1_scores_income\n",
    "    \n",
    "accuracy_scores_income, precision_scores_income, recall_scores_income, f1_scores_income = main_income(models_income)"
   ]
  },
  {
   "cell_type": "code",
   "execution_count": 62,
   "metadata": {},
   "outputs": [
    {
     "data": {
      "text/html": [
       "<div>\n",
       "<style scoped>\n",
       "    .dataframe tbody tr th:only-of-type {\n",
       "        vertical-align: middle;\n",
       "    }\n",
       "\n",
       "    .dataframe tbody tr th {\n",
       "        vertical-align: top;\n",
       "    }\n",
       "\n",
       "    .dataframe thead th {\n",
       "        text-align: right;\n",
       "    }\n",
       "</style>\n",
       "<table border=\"1\" class=\"dataframe\">\n",
       "  <thead>\n",
       "    <tr style=\"text-align: right;\">\n",
       "      <th></th>\n",
       "      <th>Accuracy Scores</th>\n",
       "      <th>Precision</th>\n",
       "      <th>Recall</th>\n",
       "      <th>F1 Score</th>\n",
       "    </tr>\n",
       "  </thead>\n",
       "  <tbody>\n",
       "    <tr>\n",
       "      <th>Gradient Boosting Classifier</th>\n",
       "      <td>0.872651</td>\n",
       "      <td>0.775566</td>\n",
       "      <td>0.642429</td>\n",
       "      <td>0.702747</td>\n",
       "    </tr>\n",
       "    <tr>\n",
       "      <th>Random Forest Classifier</th>\n",
       "      <td>0.856139</td>\n",
       "      <td>0.773645</td>\n",
       "      <td>0.545727</td>\n",
       "      <td>0.640000</td>\n",
       "    </tr>\n",
       "    <tr>\n",
       "      <th>Support Vector Classifier</th>\n",
       "      <td>0.852275</td>\n",
       "      <td>0.740958</td>\n",
       "      <td>0.568216</td>\n",
       "      <td>0.643190</td>\n",
       "    </tr>\n",
       "    <tr>\n",
       "      <th>K-Nearest Neighbours</th>\n",
       "      <td>0.839101</td>\n",
       "      <td>0.728166</td>\n",
       "      <td>0.500000</td>\n",
       "      <td>0.592889</td>\n",
       "    </tr>\n",
       "  </tbody>\n",
       "</table>\n",
       "</div>"
      ],
      "text/plain": [
       "                              Accuracy Scores  Precision    Recall  F1 Score\n",
       "Gradient Boosting Classifier         0.872651   0.775566  0.642429  0.702747\n",
       "Random Forest Classifier             0.856139   0.773645  0.545727  0.640000\n",
       "Support Vector Classifier            0.852275   0.740958  0.568216  0.643190\n",
       "K-Nearest Neighbours                 0.839101   0.728166  0.500000  0.592889"
      ]
     },
     "execution_count": 62,
     "metadata": {},
     "output_type": "execute_result"
    }
   ],
   "source": [
    "pd.DataFrame(list(zip(accuracy_scores_income, precision_scores_income, recall_scores_income, f1_scores_income)),\n",
    "              columns = ['Accuracy Scores', 'Precision', 'Recall', 'F1 Score'],\n",
    "              index = classifiers_income).sort_values(by = 'Accuracy Scores', ascending = False)"
   ]
  },
  {
   "cell_type": "markdown",
   "metadata": {},
   "source": [
    "### Evaluation\n",
    "\n",
    "\n",
    "`Accuracy` being our most important metric, we can see that `Gradient Boosting Classifier` has scored more in terms of the accuracy. Meanwhile, we still have have to consider other metrics as well.  When we look at the other metrics, it seems to be better than all the other models across the board. `Random Forest Classifier` came in second in terms of accuracy and precision but the `Support Vector Classifier` had better recall and therefore a better F1 score than the Random Forest.  `K-Nearest Neighbours` seemed to perform the worst across the board compared to the other models. \n",
    "\n",
    "So, for further analysis in `Exceptional Work`, we'll use `Gradient Boosting Classifier` as it is being the most adaptable classifier in our case"
   ]
  },
  {
   "cell_type": "code",
   "execution_count": 67,
   "metadata": {},
   "outputs": [
    {
     "data": {
      "image/png": "[encoded data removed]",
      "text/plain": [
       "<Figure size 432x288 with 1 Axes>"
      ]
     },
     "metadata": {
      "needs_background": "light"
     },
     "output_type": "display_data"
    }
   ],
   "source": [
    "plt.plot(classifiers_income, accuracy_scores_income, marker='*', ms=20, markerfacecolor='r')\n",
    "plt.grid()\n",
    "plt.title('Classifier Accuracy Comparision for task 1')\n",
    "plt.xlabel('Classifier')\n",
    "plt.ylabel('Score in %')\n",
    "plt.ylim(0.834, 0.89)\n",
    "plt.show()"
   ]
  },
  {
   "cell_type": "markdown",
   "metadata": {},
   "source": [
    "From above graph, we can see `Random Forest` scored more on `Accuracy` scale."
   ]
  },
  {
   "cell_type": "markdown",
   "metadata": {},
   "source": [
    "#### Task 2: Predicting the Gender (Male/Female)"
   ]
  },
  {
   "cell_type": "markdown",
   "metadata": {},
   "source": [
    "`Main_gender` function for computing all the training and testing of the models with their evaluation metrics being displayes as well."
   ]
  },
  {
   "cell_type": "code",
   "execution_count": 68,
   "metadata": {
    "scrolled": false
   },
   "outputs": [
    {
     "name": "stdout",
     "output_type": "stream",
     "text": [
      "--------------------------------------------Logistic Regression---------------------------------------------------\n",
      "Accuracy Score for Logistic Regression: 83.4182%\n",
      "Confusion Matrix\n",
      "[[1509  417]\n",
      " [ 527 3240]]\n",
      "---------------------------------------\n",
      "Accuracy Score: 83.4182%\n",
      "Recall Score: 86.0101%\n",
      "Precision Score: 88.5972%\n",
      "-----------------------------------------\n",
      "Classification Report\n",
      "              precision    recall  f1-score   support\n",
      "\n",
      "           0       0.74      0.78      0.76      1926\n",
      "           1       0.89      0.86      0.87      3767\n",
      "\n",
      "   micro avg       0.83      0.83      0.83      5693\n",
      "   macro avg       0.81      0.82      0.82      5693\n",
      "weighted avg       0.84      0.83      0.84      5693\n",
      "\n",
      "Normalized confusion matrix\n",
      "[[0.7834891  0.2165109 ]\n",
      " [0.13989912 0.86010088]]\n",
      "AxesSubplot(0.0843171,0.0375;0.712546x0.925)\n",
      "--------------------------------------------K-Nearest Neighbours---------------------------------------------------\n",
      "Accuracy Score for K-Nearest Neighbours: 82.3643%\n",
      "Confusion Matrix\n",
      "[[1575  351]\n",
      " [ 653 3114]]\n",
      "---------------------------------------\n",
      "Accuracy Score: 82.3643%\n",
      "Recall Score: 82.6653%\n",
      "Precision Score: 89.8701%\n",
      "-----------------------------------------\n",
      "Classification Report\n",
      "              precision    recall  f1-score   support\n",
      "\n",
      "           0       0.71      0.82      0.76      1926\n",
      "           1       0.90      0.83      0.86      3767\n",
      "\n",
      "   micro avg       0.82      0.82      0.82      5693\n",
      "   macro avg       0.80      0.82      0.81      5693\n",
      "weighted avg       0.83      0.82      0.83      5693\n",
      "\n",
      "Normalized confusion matrix\n",
      "[[0.81775701 0.18224299]\n",
      " [0.17334749 0.82665251]]\n",
      "AxesSubplot(0.0843171,0.0375;0.712546x0.925)\n",
      "--------------------------------------------Random Forest Classifier---------------------------------------------------\n",
      "Accuracy Score for Random Forest Classifier: 83.3128%\n",
      "Confusion Matrix\n",
      "[[1446  480]\n",
      " [ 470 3297]]\n",
      "---------------------------------------\n",
      "Accuracy Score: 83.3128%\n",
      "Recall Score: 87.5232%\n",
      "Precision Score: 87.2915%\n",
      "-----------------------------------------\n",
      "Classification Report\n",
      "              precision    recall  f1-score   support\n",
      "\n",
      "           0       0.75      0.75      0.75      1926\n",
      "           1       0.87      0.88      0.87      3767\n",
      "\n",
      "   micro avg       0.83      0.83      0.83      5693\n",
      "   macro avg       0.81      0.81      0.81      5693\n",
      "weighted avg       0.83      0.83      0.83      5693\n",
      "\n",
      "Normalized confusion matrix\n",
      "[[0.75077882 0.24922118]\n",
      " [0.12476772 0.87523228]]\n",
      "AxesSubplot(0.0843171,0.0375;0.712546x0.925)\n",
      "--------------------------------------------Gradient Boosting Classifer---------------------------------------------------\n",
      "Accuracy Score for Gradient Boosting Classifer: 85.0167%\n",
      "Confusion Matrix\n",
      "[[1616  310]\n",
      " [ 543 3224]]\n",
      "---------------------------------------\n",
      "Accuracy Score: 85.0167%\n",
      "Recall Score: 85.5853%\n",
      "Precision Score: 91.2281%\n",
      "-----------------------------------------\n",
      "Classification Report\n",
      "              precision    recall  f1-score   support\n",
      "\n",
      "           0       0.75      0.84      0.79      1926\n",
      "           1       0.91      0.86      0.88      3767\n",
      "\n",
      "   micro avg       0.85      0.85      0.85      5693\n",
      "   macro avg       0.83      0.85      0.84      5693\n",
      "weighted avg       0.86      0.85      0.85      5693\n",
      "\n",
      "Normalized confusion matrix\n",
      "[[0.83904465 0.16095535]\n",
      " [0.14414654 0.85585346]]\n",
      "AxesSubplot(0.0843171,0.0375;0.712546x0.925)\n"
     ]
    },
    {
     "data": {
      "image/png": "[encoded data removed]",
      "text/plain": [
       "<Figure size 432x288 with 2 Axes>"
      ]
     },
     "metadata": {
      "needs_background": "light"
     },
     "output_type": "display_data"
    },
    {
     "data": {
      "image/png": "[encoded data removed]",
      "text/plain": [
       "<Figure size 432x288 with 2 Axes>"
      ]
     },
     "metadata": {
      "needs_background": "light"
     },
     "output_type": "display_data"
    },
    {
     "data": {
      "image/png": "[encoded data removed]",
      "text/plain": [
       "<Figure size 432x288 with 2 Axes>"
      ]
     },
     "metadata": {
      "needs_background": "light"
     },
     "output_type": "display_data"
    },
    {
     "data": {
      "image/png": "[encoded data removed]",
      "text/plain": [
       "<Figure size 432x288 with 2 Axes>"
      ]
     },
     "metadata": {
      "needs_background": "light"
     },
     "output_type": "display_data"
    }
   ],
   "source": [
    "def main_gender(models_gender):\n",
    "    accuracy_scores_gender = []\n",
    "    precision_scores_gender = []\n",
    "    recall_scores_gender = []\n",
    "    f1_scores_gender = []\n",
    "    for algo, name in models_gender.items():\n",
    "        y_test_train, y_pred, acc_sc, precision_sc, recall_sc, f1_sc = train(algo, name,X_train_scaled_gender,\n",
    "                                                                             y_train_gender,X_test_scaled_gender,\n",
    "                                                                             y_test_gender)\n",
    "        acc_res(y_test_train,y_pred)\n",
    "        accuracy_scores_gender.append(acc_sc)\n",
    "        precision_scores_gender.append(precision_sc)\n",
    "        recall_scores_gender.append(recall_sc)\n",
    "        f1_scores_gender.append(f1_sc)\n",
    "    return accuracy_scores_gender, precision_scores_gender, recall_scores_gender, f1_scores_gender\n",
    "    \n",
    "accuracy_scores_gender, precision_scores_gender, recall_scores_gender, f1_scores_gender = main_gender(models_gender)"
   ]
  },
  {
   "cell_type": "code",
   "execution_count": 69,
   "metadata": {},
   "outputs": [
    {
     "data": {
      "text/html": [
       "<div>\n",
       "<style scoped>\n",
       "    .dataframe tbody tr th:only-of-type {\n",
       "        vertical-align: middle;\n",
       "    }\n",
       "\n",
       "    .dataframe tbody tr th {\n",
       "        vertical-align: top;\n",
       "    }\n",
       "\n",
       "    .dataframe thead th {\n",
       "        text-align: right;\n",
       "    }\n",
       "</style>\n",
       "<table border=\"1\" class=\"dataframe\">\n",
       "  <thead>\n",
       "    <tr style=\"text-align: right;\">\n",
       "      <th></th>\n",
       "      <th>Accuracy Scores</th>\n",
       "      <th>Precision</th>\n",
       "      <th>Recall</th>\n",
       "      <th>F1 Score</th>\n",
       "    </tr>\n",
       "  </thead>\n",
       "  <tbody>\n",
       "    <tr>\n",
       "      <th>Gradient Boosting Classifier</th>\n",
       "      <td>0.850167</td>\n",
       "      <td>0.912281</td>\n",
       "      <td>0.855853</td>\n",
       "      <td>0.883167</td>\n",
       "    </tr>\n",
       "    <tr>\n",
       "      <th>Logistic Regression</th>\n",
       "      <td>0.834182</td>\n",
       "      <td>0.885972</td>\n",
       "      <td>0.860101</td>\n",
       "      <td>0.872845</td>\n",
       "    </tr>\n",
       "    <tr>\n",
       "      <th>Random Forest Classifier</th>\n",
       "      <td>0.833128</td>\n",
       "      <td>0.872915</td>\n",
       "      <td>0.875232</td>\n",
       "      <td>0.874072</td>\n",
       "    </tr>\n",
       "    <tr>\n",
       "      <th>K-Nearest Neighbours</th>\n",
       "      <td>0.823643</td>\n",
       "      <td>0.898701</td>\n",
       "      <td>0.826653</td>\n",
       "      <td>0.861173</td>\n",
       "    </tr>\n",
       "  </tbody>\n",
       "</table>\n",
       "</div>"
      ],
      "text/plain": [
       "                              Accuracy Scores  Precision    Recall  F1 Score\n",
       "Gradient Boosting Classifier         0.850167   0.912281  0.855853  0.883167\n",
       "Logistic Regression                  0.834182   0.885972  0.860101  0.872845\n",
       "Random Forest Classifier             0.833128   0.872915  0.875232  0.874072\n",
       "K-Nearest Neighbours                 0.823643   0.898701  0.826653  0.861173"
      ]
     },
     "execution_count": 69,
     "metadata": {},
     "output_type": "execute_result"
    }
   ],
   "source": [
    "pd.DataFrame(list(zip(accuracy_scores_gender, precision_scores_gender, recall_scores_gender, f1_scores_gender)),\n",
    "              columns = ['Accuracy Scores', 'Precision', 'Recall', 'F1 Score'],\n",
    "             index = classifiers_gender).sort_values(by = 'Accuracy Scores', ascending = False)"
   ]
  },
  {
   "cell_type": "markdown",
   "metadata": {},
   "source": [
    "### Evaluation\n",
    "\n",
    "\n",
    "`Accuracy` being our most important metric, we can see that `Gradient Boosting Classifier` has scored more in terms of the accuracy. Meanwhile, we still have have to consider other metrics as well.  When we look at the other metrics, it seems to be better than all the other models across the board. `Logistic Regression` came in second in terms of accuracy but the `Random Forest Classifier` had better recall and therefore a better F1 score.  `K-Nearest Neighbours` seemed to perform the worst in terms of accuracy, recall, and also the F-1 score but it seems to be the second most precise model out of all of them. \n",
    "\n",
    "So, for further analysis in `Exceptional Work`, we'll use `Gradient Boosting Classifier` as it is being the most adaptable classifier in our case"
   ]
  },
  {
   "cell_type": "code",
   "execution_count": 70,
   "metadata": {},
   "outputs": [
    {
     "data": {
      "image/png": "[encoded data removed]",
      "text/plain": [
       "<Figure size 432x288 with 1 Axes>"
      ]
     },
     "metadata": {
      "needs_background": "light"
     },
     "output_type": "display_data"
    }
   ],
   "source": [
    "plt.plot(classifiers_gender, accuracy_scores_gender, marker='*', ms=20, markerfacecolor='r')\n",
    "plt.grid()\n",
    "plt.title('Classifier Accuracy Comparision for task 2')\n",
    "plt.xlabel('Classifier')\n",
    "plt.ylabel('Score in %')\n",
    "plt.ylim(0.814, 0.89)\n",
    "plt.show()"
   ]
  },
  {
   "cell_type": "markdown",
   "metadata": {},
   "source": [
    "## Modeling and Evaluation 5\n",
    "\n",
    "Although all the algorithms performed well on the data for both the classification tasks, the `Gradient Boosting Classifier` was the best of them and the reason behind this is that it is an ensemble tree method.  Usually a model like a Random Forest would work better than other models since the data has a mix of numerical and categorical variables.[1]  The reason Gradient Boosting works better than the Random Forest in this case is because the data itself isn't very noisy as in the data does not contain too many outliers or observations that don't make sense.  It might be better in some instances to use Random Forest instead of Gradient Boosting though since Random Forest takes almost half the time to run."
   ]
  },
  {
   "cell_type": "markdown",
   "metadata": {},
   "source": [
    "Assuming that all the observations within our data are independent, we are going to run a 5x2 paired t-test, where alpha = .05, to determine whether there is a statistically signficant difference between the different models we ran for both the income classification task and the gender classification task.  The following t-tests are for the income classification task:"
   ]
  },
  {
   "cell_type": "code",
   "execution_count": 71,
   "metadata": {},
   "outputs": [
    {
     "name": "stdout",
     "output_type": "stream",
     "text": [
      "t statistic: 11.606\n",
      "p value: 0.000\n"
     ]
    }
   ],
   "source": [
    "from mlxtend.evaluate import paired_ttest_5x2cv\n",
    "\n",
    "# Gradient Boosting vs Random Forest\n",
    "\n",
    "t, p = paired_ttest_5x2cv(estimator1=clf_GB,\n",
    "                          estimator2=clf_rforest,\n",
    "                          X=income_data, y=income_labels,\n",
    "                          random_seed=1)\n",
    "\n",
    "print('t statistic: %.3f' % t)\n",
    "print('p value: %.3f' % p)"
   ]
  },
  {
   "cell_type": "code",
   "execution_count": 72,
   "metadata": {},
   "outputs": [
    {
     "name": "stdout",
     "output_type": "stream",
     "text": [
      "t statistic: 7.229\n",
      "p value: 0.001\n"
     ]
    }
   ],
   "source": [
    "# Gradient Boosting vs K-NN\n",
    "\n",
    "t, p = paired_ttest_5x2cv(estimator1=clf_GB,\n",
    "                          estimator2=clf_knn,\n",
    "                          X=income_data, y=income_labels,\n",
    "                          random_seed=1)\n",
    "\n",
    "print('t statistic: %.3f' % t)\n",
    "print('p value: %.3f' % p)"
   ]
  },
  {
   "cell_type": "code",
   "execution_count": 73,
   "metadata": {},
   "outputs": [
    {
     "name": "stdout",
     "output_type": "stream",
     "text": [
      "t statistic: 8.530\n",
      "p value: 0.000\n"
     ]
    }
   ],
   "source": [
    "# Gradient Boosting vs Support Vector\n",
    "\n",
    "t, p = paired_ttest_5x2cv(estimator1=clf_GB,\n",
    "                          estimator2=clf_svc,\n",
    "                          X=income_data, y=income_labels,\n",
    "                          random_seed=1)\n",
    "\n",
    "print('t statistic: %.3f' % t)\n",
    "print('p value: %.3f' % p)"
   ]
  },
  {
   "cell_type": "code",
   "execution_count": 74,
   "metadata": {},
   "outputs": [
    {
     "name": "stdout",
     "output_type": "stream",
     "text": [
      "t statistic: 3.202\n",
      "p value: 0.024\n"
     ]
    }
   ],
   "source": [
    "# Random Forest vs K-NN\n",
    "\n",
    "t, p = paired_ttest_5x2cv(estimator1=clf_rforest,\n",
    "                          estimator2=clf_knn,\n",
    "                          X=income_data, y=income_labels,\n",
    "                          random_seed=1)\n",
    "\n",
    "print('t statistic: %.3f' % t)\n",
    "print('p value: %.3f' % p)"
   ]
  },
  {
   "cell_type": "code",
   "execution_count": 75,
   "metadata": {},
   "outputs": [
    {
     "name": "stdout",
     "output_type": "stream",
     "text": [
      "t statistic: -0.113\n",
      "p value: 0.914\n"
     ]
    }
   ],
   "source": [
    "# Random Forest vs Support Vector\n",
    "\n",
    "t, p = paired_ttest_5x2cv(estimator1=clf_rforest,\n",
    "                          estimator2=clf_svc,\n",
    "                          X=income_data, y=income_labels,\n",
    "                          random_seed=1)\n",
    "\n",
    "print('t statistic: %.3f' % t)\n",
    "print('p value: %.3f' % p)"
   ]
  },
  {
   "cell_type": "code",
   "execution_count": 76,
   "metadata": {},
   "outputs": [
    {
     "name": "stdout",
     "output_type": "stream",
     "text": [
      "t statistic: -3.498\n",
      "p value: 0.017\n"
     ]
    }
   ],
   "source": [
    "# K-NN vs Support Vector\n",
    "\n",
    "t, p = paired_ttest_5x2cv(estimator1=clf_knn,\n",
    "                          estimator2=clf_svc,\n",
    "                          X=income_data, y=income_labels,\n",
    "                          random_seed=1)\n",
    "\n",
    "print('t statistic: %.3f' % t)\n",
    "print('p value: %.3f' % p)"
   ]
  },
  {
   "cell_type": "markdown",
   "metadata": {},
   "source": [
    "As you can see from above, when comparing the models, there is statistically significant difference between almost all of them since the p-value is less than .05.  The only models that are not different in statistically significant way are the Random Forrest Classifier model and the Support Vector Machine Classifier model.  The following are the paired t-tests of the gender classification task:"
   ]
  },
  {
   "cell_type": "code",
   "execution_count": 77,
   "metadata": {},
   "outputs": [
    {
     "name": "stdout",
     "output_type": "stream",
     "text": [
      "t statistic: 3.641\n",
      "p value: 0.015\n"
     ]
    }
   ],
   "source": [
    "# Gradient Boosting vs Random Forest\n",
    "t, p = paired_ttest_5x2cv(estimator1=clf_GB,\n",
    "                          estimator2=clf_rforest,\n",
    "                          X=sex_data, y=sex_labels,\n",
    "                          random_seed=1)\n",
    "\n",
    "print('t statistic: %.3f' % t)\n",
    "print('p value: %.3f' % p)"
   ]
  },
  {
   "cell_type": "code",
   "execution_count": 78,
   "metadata": {},
   "outputs": [
    {
     "name": "stdout",
     "output_type": "stream",
     "text": [
      "t statistic: 30.579\n",
      "p value: 0.000\n"
     ]
    }
   ],
   "source": [
    "# Gradient Boosting vs K-NN\n",
    "t, p = paired_ttest_5x2cv(estimator1=clf_GB,\n",
    "                          estimator2=clf_knn,\n",
    "                          X=sex_data, y=sex_labels,\n",
    "                          random_seed=1)\n",
    "\n",
    "print('t statistic: %.3f' % t)\n",
    "print('p value: %.3f' % p)"
   ]
  },
  {
   "cell_type": "code",
   "execution_count": 79,
   "metadata": {},
   "outputs": [
    {
     "name": "stdout",
     "output_type": "stream",
     "text": [
      "t statistic: 0.023\n",
      "p value: 0.983\n"
     ]
    }
   ],
   "source": [
    "# Gradient Boosting vs Logistic Regression\n",
    "t, p = paired_ttest_5x2cv(estimator1=clf_GB,\n",
    "                          estimator2=clf_logreg,\n",
    "                          X=sex_data, y=sex_labels,\n",
    "                          random_seed=1)\n",
    "\n",
    "print('t statistic: %.3f' % t)\n",
    "print('p value: %.3f' % p)"
   ]
  },
  {
   "cell_type": "code",
   "execution_count": 80,
   "metadata": {},
   "outputs": [
    {
     "name": "stdout",
     "output_type": "stream",
     "text": [
      "t statistic: 23.262\n",
      "p value: 0.000\n"
     ]
    }
   ],
   "source": [
    "# Random Forest vs K-NN\n",
    "\n",
    "t, p = paired_ttest_5x2cv(estimator1=clf_rforest,\n",
    "                          estimator2=clf_knn,\n",
    "                          X=sex_data, y=sex_labels,\n",
    "                          random_seed=1)\n",
    "\n",
    "print('t statistic: %.3f' % t)\n",
    "print('p value: %.3f' % p)"
   ]
  },
  {
   "cell_type": "code",
   "execution_count": 81,
   "metadata": {},
   "outputs": [
    {
     "name": "stdout",
     "output_type": "stream",
     "text": [
      "t statistic: -0.706\n",
      "p value: 0.512\n"
     ]
    }
   ],
   "source": [
    "# Random Forest vs Logistic Regression\n",
    "\n",
    "t, p = paired_ttest_5x2cv(estimator1=clf_rforest,\n",
    "                          estimator2=clf_logreg,\n",
    "                          X=sex_data, y=sex_labels,\n",
    "                          random_seed=1)\n",
    "\n",
    "print('t statistic: %.3f' % t)\n",
    "print('p value: %.3f' % p)"
   ]
  },
  {
   "cell_type": "code",
   "execution_count": 82,
   "metadata": {},
   "outputs": [
    {
     "name": "stdout",
     "output_type": "stream",
     "text": [
      "t statistic: -7.186\n",
      "p value: 0.001\n"
     ]
    }
   ],
   "source": [
    "# K-NN vs Logistic Regression\n",
    "\n",
    "t, p = paired_ttest_5x2cv(estimator1=clf_knn,\n",
    "                          estimator2=clf_logreg,\n",
    "                          X=sex_data, y=sex_labels,\n",
    "                          random_seed=1)\n",
    "\n",
    "print('t statistic: %.3f' % t)\n",
    "print('p value: %.3f' % p)"
   ]
  },
  {
   "cell_type": "markdown",
   "metadata": {},
   "source": [
    "As you can see from most of the t-test that there is a statistically significant difference between most of models since the p-values are all less than .05.  The only exceptions are with Gradient Boosting/Logistic Regression and Random Forest/Logistic Regression.  These two pairs of models have no statistically significant difference between one another."
   ]
  },
  {
   "cell_type": "markdown",
   "metadata": {},
   "source": [
    "## Modeling and Evaluation 6 "
   ]
  },
  {
   "cell_type": "markdown",
   "metadata": {},
   "source": [
    "Here we will be looking at feature importance with the Gradient Boosting Classifier model since that model seems to be the most successful out of all the models we tried with this data.  We will first look at the imporant features regarding the income data."
   ]
  },
  {
   "cell_type": "markdown",
   "metadata": {},
   "source": [
    "#### Feature Importance for `Income` data"
   ]
  },
  {
   "cell_type": "code",
   "execution_count": 48,
   "metadata": {},
   "outputs": [
    {
     "data": {
      "text/plain": [
       "['age',\n",
       " 'education.num',\n",
       " 'sex',\n",
       " 'capital.gain',\n",
       " 'capital.loss',\n",
       " 'hours.per.week',\n",
       " 'workclass:Local-gov',\n",
       " 'workclass:Never-worked',\n",
       " 'workclass:Private',\n",
       " 'workclass:Self-emp-inc',\n",
       " 'workclass:Self-emp-not-inc',\n",
       " 'workclass:State-gov',\n",
       " 'workclass:Without-pay',\n",
       " 'marital.status:Married-AF-spouse',\n",
       " 'marital.status:Married-civ-spouse',\n",
       " 'marital.status:Married-spouse-absent',\n",
       " 'marital.status:Never-married',\n",
       " 'marital.status:Separated',\n",
       " 'marital.status:Widowed',\n",
       " 'occupation:Armed-Forces',\n",
       " 'occupation:Craft-repair',\n",
       " 'occupation:Exec-managerial',\n",
       " 'occupation:Farming-fishing',\n",
       " 'occupation:Handlers-cleaners',\n",
       " 'occupation:Machine-op-inspct',\n",
       " 'occupation:Other-service',\n",
       " 'occupation:Priv-house-serv',\n",
       " 'occupation:Prof-specialty',\n",
       " 'occupation:Protective-serv',\n",
       " 'occupation:Sales',\n",
       " 'occupation:Tech-support',\n",
       " 'occupation:Transport-moving',\n",
       " 'relationship:Not-in-family',\n",
       " 'relationship:Other-relative',\n",
       " 'relationship:Own-child',\n",
       " 'relationship:Unmarried',\n",
       " 'relationship:Wife',\n",
       " 'race:Asian-Pac-Islander',\n",
       " 'race:Black',\n",
       " 'race:Other',\n",
       " 'race:White',\n",
       " 'native.country:United-States']"
      ]
     },
     "execution_count": 48,
     "metadata": {},
     "output_type": "execute_result"
    }
   ],
   "source": [
    "column_names_income = []\n",
    "for col_name in income_data.columns: \n",
    "    column_names_income.append(col_name)\n",
    "    \n",
    "column_names_income"
   ]
  },
  {
   "cell_type": "code",
   "execution_count": 83,
   "metadata": {},
   "outputs": [
    {
     "data": {
      "image/png": "[encoded data removed]",
      "text/plain": [
       "<Figure size 864x864 with 1 Axes>"
      ]
     },
     "metadata": {
      "needs_background": "light"
     },
     "output_type": "display_data"
    }
   ],
   "source": [
    "importance_income = clf_GB.fit(X_train_scaled_income, y_train_income).feature_importances_\n",
    "\n",
    "plt.figure(figsize=(12, 12))\n",
    "\n",
    "plt.barh([x for x in X_train_income.columns], importance_income)\n",
    "plt.show()"
   ]
  },
  {
   "cell_type": "code",
   "execution_count": 84,
   "metadata": {},
   "outputs": [
    {
     "data": {
      "text/plain": [
       "marital.status:Married-civ-spouse    0.364939\n",
       "capital.gain                         0.208919\n",
       "education.num                        0.205546\n",
       "age                                  0.067973\n",
       "capital.loss                         0.058642\n",
       "hours.per.week                       0.032972\n",
       "occupation:Exec-managerial           0.016895\n",
       "relationship:Wife                    0.006081\n",
       "occupation:Other-service             0.005134\n",
       "workclass:Self-emp-not-inc           0.004253\n",
       "dtype: float64"
      ]
     },
     "execution_count": 84,
     "metadata": {},
     "output_type": "execute_result"
    }
   ],
   "source": [
    "feature_imp_income = pd.Series(importance_income, index = column_names_income).sort_values(ascending=False)\n",
    "top_feat_income = feature_imp_income.nlargest(n=10)\n",
    "top_feat_income"
   ]
  },
  {
   "cell_type": "markdown",
   "metadata": {},
   "source": [
    "Calculating the feature importance of attributes, our analysis found that these were the top attributes contributing to the model. Earlier in our analysis, we noticed the discrepency of married couple's having a better financial advantage over unmarried, so we're glad to see that attribute on top as it validates that hypothesis.\n",
    "\n",
    "Other than that we can see that `capital.gain`, `education.num`, `age` are also very important attributes for the `income` because `education` is a very huge factor for the income so as the investment done by the adult. "
   ]
  },
  {
   "cell_type": "markdown",
   "metadata": {},
   "source": [
    "#### Feature Importance for `sex` data"
   ]
  },
  {
   "cell_type": "code",
   "execution_count": 85,
   "metadata": {},
   "outputs": [
    {
     "data": {
      "text/plain": [
       "['age',\n",
       " 'education.num',\n",
       " 'capital.gain',\n",
       " 'capital.loss',\n",
       " 'hours.per.week',\n",
       " 'income',\n",
       " 'workclass:Local-gov',\n",
       " 'workclass:Never-worked',\n",
       " 'workclass:Private',\n",
       " 'workclass:Self-emp-inc',\n",
       " 'workclass:Self-emp-not-inc',\n",
       " 'workclass:State-gov',\n",
       " 'workclass:Without-pay',\n",
       " 'marital.status:Married-AF-spouse',\n",
       " 'marital.status:Married-civ-spouse',\n",
       " 'marital.status:Married-spouse-absent',\n",
       " 'marital.status:Never-married',\n",
       " 'marital.status:Separated',\n",
       " 'marital.status:Widowed',\n",
       " 'occupation:Armed-Forces',\n",
       " 'occupation:Craft-repair',\n",
       " 'occupation:Exec-managerial',\n",
       " 'occupation:Farming-fishing',\n",
       " 'occupation:Handlers-cleaners',\n",
       " 'occupation:Machine-op-inspct',\n",
       " 'occupation:Other-service',\n",
       " 'occupation:Priv-house-serv',\n",
       " 'occupation:Prof-specialty',\n",
       " 'occupation:Protective-serv',\n",
       " 'occupation:Sales',\n",
       " 'occupation:Tech-support',\n",
       " 'occupation:Transport-moving',\n",
       " 'relationship:Not-in-family',\n",
       " 'relationship:Other-relative',\n",
       " 'relationship:Own-child',\n",
       " 'relationship:Unmarried',\n",
       " 'relationship:Wife',\n",
       " 'race:Asian-Pac-Islander',\n",
       " 'race:Black',\n",
       " 'race:Other',\n",
       " 'race:White',\n",
       " 'native.country:United-States']"
      ]
     },
     "execution_count": 85,
     "metadata": {},
     "output_type": "execute_result"
    }
   ],
   "source": [
    "column_names_sex = []\n",
    "for col_name in sex_data.columns: \n",
    "    column_names_sex.append(col_name)\n",
    "    \n",
    "column_names_sex    "
   ]
  },
  {
   "cell_type": "code",
   "execution_count": 86,
   "metadata": {},
   "outputs": [
    {
     "data": {
      "image/png": "[encoded data removed]",
      "text/plain": [
       "<Figure size 864x864 with 1 Axes>"
      ]
     },
     "metadata": {
      "needs_background": "light"
     },
     "output_type": "display_data"
    }
   ],
   "source": [
    "importance_sex = clf_GB.fit(X_train_scaled_gender, y_train_gender).feature_importances_\n",
    "\n",
    "plt.figure(figsize=(12, 12))\n",
    "\n",
    "plt.barh([x for x in X_train_gender.columns], importance_sex)\n",
    "plt.show()"
   ]
  },
  {
   "cell_type": "code",
   "execution_count": 87,
   "metadata": {},
   "outputs": [
    {
     "data": {
      "text/plain": [
       "relationship:Wife                    0.331972\n",
       "marital.status:Married-civ-spouse    0.331554\n",
       "relationship:Unmarried               0.073483\n",
       "occupation:Craft-repair              0.061396\n",
       "occupation:Handlers-cleaners         0.031397\n",
       "occupation:Transport-moving          0.022492\n",
       "hours.per.week                       0.021623\n",
       "marital.status:Widowed               0.018465\n",
       "occupation:Farming-fishing           0.014461\n",
       "marital.status:Never-married         0.012892\n",
       "dtype: float64"
      ]
     },
     "execution_count": 87,
     "metadata": {},
     "output_type": "execute_result"
    }
   ],
   "source": [
    "feature_imp_sex = pd.Series(importance_sex, index = column_names_sex).sort_values(ascending=False)\n",
    "top_feat_sex = feature_imp_sex.nlargest(n=10)\n",
    "top_feat_sex"
   ]
  },
  {
   "cell_type": "markdown",
   "metadata": {},
   "source": [
    "Calculating the feature importance of attributes, our analysis found\n",
    "that these were the top attributes contributing to the model.  We noticed with the income data that 'marital.status:Married-civ-spouse' was the most important feature in the model.  With the sex data, even though this feature is still really imporant, 'relationship:Wife' seems to be just slightly more important.  That is probably because if the individual is labeled as part of a married couple and whether or not the relationship is that of a wife, it will give a clear picture on whether the individual is male or female."
   ]
  },
  {
   "cell_type": "markdown",
   "metadata": {},
   "source": [
    "### Deployment"
   ]
  },
  {
   "cell_type": "markdown",
   "metadata": {},
   "source": [
    "For income classification task, we forsee a large number of opportunities for application. Regardless of whether it be for banks/Visa organizations to improve their own models for how safe they feel loaning a specific gathering of individuals cash dependent on their monetary conditions. It could likewise be applied for public review's that individuals need to lead. Our model could help trim down what factors they need to remember for their refreshed model. ie - which are the biggest factors and focus on those for examination. Another application could be for neighborhood governments, to help plan new projects that could advance and benefit the particular set of individuals. <br>\n",
    "\n",
    "For sex classification task, one area where this model may demonstrate its' value is in gathering client data from sites. This model can be used to help researchers find the probability of the gender of a certain individual depending on certain picked out circumstances.  Researchers can find out what specific instances apply to more to men and women and it can help them better understand gender inequality or preferences through these set of features.  This could help bring a more in depth view into gender studies as a whole. <br>\n",
    "\n",
    "Estimating the models worth would be done through a steady observation of the Accuracy and F1-score as we've done in this instance. Enabling the end client to monitor how well the model is predicting, as we add more information to it. Arrangement of the model, could be through a rest API administration, an inner capacity worked in the backend of whatever database framework they have set up. As far as other information that could be helpful to Census Data, we would propose finding an asset that can give, lodging possession, nearby financial key execution factors, postal districts to decide ability pools for who lives in what territory. The prospects are enormous relying upon what components impact the clients business most. As every business you would sell this model also would almost certainly have their own thought's behind what elements make them sucssesful"
   ]
  },
  {
   "cell_type": "markdown",
   "metadata": {},
   "source": [
    "### Exceptional Work"
   ]
  },
  {
   "cell_type": "markdown",
   "metadata": {},
   "source": [
    "In Exceptional Work we are going to perform GridSearchCV on `SVM`, `KNN`, and `Random Forest`  for predicting `income` and `Random Forest`, `KNN`, and `Logistic Regression` for predicting the `gender`.\n",
    "\n",
    "After performing the GridSearchCV and knowing the `best parameters` we will implement each algorithm on those best parameters given by GridSearch and will store the accuracy of each model and will then make a DataFrame to get a clear look and easily compare different models."
   ]
  },
  {
   "cell_type": "markdown",
   "metadata": {},
   "source": [
    "#### - GridSearchCV for predicting the income"
   ]
  },
  {
   "cell_type": "code",
   "execution_count": 56,
   "metadata": {},
   "outputs": [],
   "source": [
    "from sklearn.model_selection import GridSearchCV"
   ]
  },
  {
   "cell_type": "code",
   "execution_count": 59,
   "metadata": {
    "scrolled": false
   },
   "outputs": [
    {
     "name": "stdout",
     "output_type": "stream",
     "text": [
      "Fitting 3 folds for each of 216 candidates, totalling 648 fits\n"
     ]
    },
    {
     "name": "stderr",
     "output_type": "stream",
     "text": [
      "[Parallel(n_jobs=-1)]: Using backend LokyBackend with 4 concurrent workers.\n",
      "[Parallel(n_jobs=-1)]: Done  33 tasks      | elapsed:  1.5min\n",
      "[Parallel(n_jobs=-1)]: Done 154 tasks      | elapsed:  7.0min\n",
      "[Parallel(n_jobs=-1)]: Done 357 tasks      | elapsed: 17.7min\n",
      "[Parallel(n_jobs=-1)]: Done 640 tasks      | elapsed: 34.4min\n",
      "[Parallel(n_jobs=-1)]: Done 648 out of 648 | elapsed: 34.9min finished\n"
     ]
    },
    {
     "data": {
      "text/plain": [
       "GridSearchCV(cv=3, error_score='raise-deprecating',\n",
       "             estimator=RandomForestClassifier(bootstrap=True, class_weight=None,\n",
       "                                              criterion='gini', max_depth=None,\n",
       "                                              max_features='auto',\n",
       "                                              max_leaf_nodes=None,\n",
       "                                              min_impurity_decrease=0.0,\n",
       "                                              min_impurity_split=None,\n",
       "                                              min_samples_leaf=1,\n",
       "                                              min_samples_split=2,\n",
       "                                              min_weight_fraction_leaf=0.0,\n",
       "                                              n_estimators='warn', n_jobs=None,\n",
       "                                              oob_score=False,\n",
       "                                              random_state=None, verbose=0,\n",
       "                                              warm_start=False),\n",
       "             iid='warn', n_jobs=-1,\n",
       "             param_grid={'bootstrap': [True], 'max_depth': [20, 40, 60],\n",
       "                         'max_features': [2, 3], 'min_samples_leaf': [3, 4, 5],\n",
       "                         'min_samples_split': [8, 10, 12],\n",
       "                         'n_estimators': [150, 300, 550, 1000]},\n",
       "             pre_dispatch='2*n_jobs', refit=True, return_train_score=False,\n",
       "             scoring=None, verbose=2)"
      ]
     },
     "execution_count": 59,
     "metadata": {},
     "output_type": "execute_result"
    }
   ],
   "source": [
    "# GridSearchCV for Random Forest\n",
    "# 1 * 3 * 2 * 3 * 3 * 4 = 216 combinations \n",
    "\n",
    "param_grid_rf_1 = {\n",
    "    'bootstrap': [True],\n",
    "    'max_depth': [20, 40, 60],\n",
    "    'max_features': [2, 3],\n",
    "    'min_samples_leaf': [3, 4, 5],\n",
    "    'min_samples_split': [8, 10, 12],\n",
    "    'n_estimators': [150, 300, 550, 1000]\n",
    "}\n",
    "\n",
    "rf_1 = RandomForestClassifier()\n",
    "\n",
    "grid_search_rf_1 = GridSearchCV(estimator = rf_1, param_grid = param_grid_rf_1, \n",
    "                          cv = 3, n_jobs = -1, verbose = 2)\n",
    "\n",
    "grid_search_rf_1.fit(X_train_scaled_income, y_train_income)"
   ]
  },
  {
   "cell_type": "code",
   "execution_count": 60,
   "metadata": {},
   "outputs": [
    {
     "data": {
      "text/plain": [
       "{'bootstrap': True,\n",
       " 'max_depth': 60,\n",
       " 'max_features': 3,\n",
       " 'min_samples_leaf': 3,\n",
       " 'min_samples_split': 10,\n",
       " 'n_estimators': 1000}"
      ]
     },
     "execution_count": 60,
     "metadata": {},
     "output_type": "execute_result"
    }
   ],
   "source": [
    "grid_search_rf_1.best_params_"
   ]
  },
  {
   "cell_type": "code",
   "execution_count": 269,
   "metadata": {},
   "outputs": [
    {
     "data": {
      "text/plain": [
       "0.8657444005270092"
      ]
     },
     "execution_count": 269,
     "metadata": {},
     "output_type": "execute_result"
    }
   ],
   "source": [
    "best_score_rf_1 = grid_search_rf_1.best_score_\n",
    "\n",
    "best_score_rf_1"
   ]
  },
  {
   "cell_type": "code",
   "execution_count": 61,
   "metadata": {},
   "outputs": [],
   "source": [
    "rf_1 = RandomForestClassifier(max_features = 3, n_estimators= 150, max_depth=40, \n",
    "                              bootstrap = 'True', min_samples_leaf = 3, min_samples_split = 12)"
   ]
  },
  {
   "cell_type": "code",
   "execution_count": 62,
   "metadata": {},
   "outputs": [
    {
     "data": {
      "text/plain": [
       "RandomForestClassifier(bootstrap='True', class_weight=None, criterion='gini',\n",
       "                       max_depth=40, max_features=3, max_leaf_nodes=None,\n",
       "                       min_impurity_decrease=0.0, min_impurity_split=None,\n",
       "                       min_samples_leaf=3, min_samples_split=12,\n",
       "                       min_weight_fraction_leaf=0.0, n_estimators=150,\n",
       "                       n_jobs=None, oob_score=False, random_state=None,\n",
       "                       verbose=0, warm_start=False)"
      ]
     },
     "execution_count": 62,
     "metadata": {},
     "output_type": "execute_result"
    }
   ],
   "source": [
    "rf_1.fit(X_train_scaled_income, y_train_income)"
   ]
  },
  {
   "cell_type": "code",
   "execution_count": 63,
   "metadata": {},
   "outputs": [],
   "source": [
    "pred_rf_1 = rf_1.predict(X_test_scaled_income)"
   ]
  },
  {
   "cell_type": "code",
   "execution_count": 64,
   "metadata": {},
   "outputs": [],
   "source": [
    "rf_1_gridsearch_accuracy = accuracy_score(y_test_income, pred_rf_1)"
   ]
  },
  {
   "cell_type": "code",
   "execution_count": 282,
   "metadata": {},
   "outputs": [
    {
     "name": "stdout",
     "output_type": "stream",
     "text": [
      "Accuracy for Random Forest is :  0.8612330932724398\n"
     ]
    }
   ],
   "source": [
    "print(\"Accuracy for Random Forest is : \", rf_1_gridsearch_accuracy)"
   ]
  },
  {
   "cell_type": "code",
   "execution_count": null,
   "metadata": {},
   "outputs": [],
   "source": []
  },
  {
   "cell_type": "code",
   "execution_count": 66,
   "metadata": {},
   "outputs": [
    {
     "name": "stdout",
     "output_type": "stream",
     "text": [
      "Fitting 3 folds for each of 72 candidates, totalling 216 fits\n"
     ]
    },
    {
     "name": "stderr",
     "output_type": "stream",
     "text": [
      "[Parallel(n_jobs=-1)]: Using backend LokyBackend with 4 concurrent workers.\n",
      "[Parallel(n_jobs=-1)]: Done  33 tasks      | elapsed:  4.3min\n",
      "[Parallel(n_jobs=-1)]: Done 154 tasks      | elapsed: 18.3min\n",
      "[Parallel(n_jobs=-1)]: Done 216 out of 216 | elapsed: 25.8min finished\n"
     ]
    },
    {
     "data": {
      "text/plain": [
       "GridSearchCV(cv=3, error_score='raise-deprecating',\n",
       "             estimator=SVC(C=1.0, cache_size=200, class_weight=None, coef0=0.0,\n",
       "                           decision_function_shape='ovr', degree=3,\n",
       "                           gamma='auto_deprecated', kernel='rbf', max_iter=-1,\n",
       "                           probability=False, random_state=None, shrinking=True,\n",
       "                           tol=0.001, verbose=False),\n",
       "             iid='warn', n_jobs=-1,\n",
       "             param_grid={'C': [0.8, 1, 1.2], 'degree': [3, 4, 5, 6],\n",
       "                         'shrinking': [True, False],\n",
       "                         'tol': [0.001, 0.0001, 1e-05]},\n",
       "             pre_dispatch='2*n_jobs', refit=True, return_train_score=False,\n",
       "             scoring=None, verbose=2)"
      ]
     },
     "execution_count": 66,
     "metadata": {},
     "output_type": "execute_result"
    }
   ],
   "source": [
    "# GrideSearchCV for SVM\n",
    "# --->    3 * 4 * 2 * 3 = 72 combinations\n",
    "\n",
    "\n",
    "param_grid_svm_1 = {\n",
    "    'C': [0.8, 1, 1.2],\n",
    "    'degree': [3, 4, 5, 6],\n",
    "    'shrinking': [True, False],\n",
    "    'tol': [0.001, 0.0001, 0.00001]\n",
    "                }\n",
    "\n",
    "svc_1 = SVC()\n",
    "\n",
    "grid_search_svm_1 = GridSearchCV(estimator = svc_1, param_grid = param_grid_svm_1, \n",
    "                          cv = 3, n_jobs = -1, verbose = 2)\n",
    "\n",
    "grid_search_svm_1.fit(X_train_scaled_income, y_train_income)"
   ]
  },
  {
   "cell_type": "code",
   "execution_count": 67,
   "metadata": {},
   "outputs": [
    {
     "data": {
      "text/plain": [
       "{'C': 1.2, 'degree': 3, 'shrinking': True, 'tol': 0.001}"
      ]
     },
     "execution_count": 67,
     "metadata": {},
     "output_type": "execute_result"
    }
   ],
   "source": [
    "grid_search_svm_1.best_params_"
   ]
  },
  {
   "cell_type": "code",
   "execution_count": 270,
   "metadata": {},
   "outputs": [
    {
     "data": {
      "text/plain": [
       "0.854062362758015"
      ]
     },
     "execution_count": 270,
     "metadata": {},
     "output_type": "execute_result"
    }
   ],
   "source": [
    "best_score_svm_1 = grid_search_svm_1.best_score_\n",
    "\n",
    "best_score_svm_1"
   ]
  },
  {
   "cell_type": "code",
   "execution_count": 68,
   "metadata": {},
   "outputs": [],
   "source": [
    "svc_1 = SVC(C = 1, degree = 3, shrinking = True, tol = 0.0001)"
   ]
  },
  {
   "cell_type": "code",
   "execution_count": 69,
   "metadata": {},
   "outputs": [
    {
     "data": {
      "text/plain": [
       "SVC(C=1, cache_size=200, class_weight=None, coef0=0.0,\n",
       "    decision_function_shape='ovr', degree=3, gamma='auto_deprecated',\n",
       "    kernel='rbf', max_iter=-1, probability=False, random_state=None,\n",
       "    shrinking=True, tol=0.0001, verbose=False)"
      ]
     },
     "execution_count": 69,
     "metadata": {},
     "output_type": "execute_result"
    }
   ],
   "source": [
    "svc_1.fit(X_train_scaled_income, y_train_income)"
   ]
  },
  {
   "cell_type": "code",
   "execution_count": 70,
   "metadata": {},
   "outputs": [],
   "source": [
    "pred_svc_1 = svc_1.predict(X_test_scaled_income)"
   ]
  },
  {
   "cell_type": "code",
   "execution_count": 71,
   "metadata": {},
   "outputs": [],
   "source": [
    "svm_1_gridsearch_accuracy = accuracy_score(y_test_income, pred_svc_1)"
   ]
  },
  {
   "cell_type": "code",
   "execution_count": 281,
   "metadata": {},
   "outputs": [
    {
     "name": "stdout",
     "output_type": "stream",
     "text": [
      "Accuracy for SVM is : 0.8535043035306517\n"
     ]
    }
   ],
   "source": [
    "print(\"Accuracy for SVM is :\", svm_1_gridsearch_accuracy)"
   ]
  },
  {
   "cell_type": "code",
   "execution_count": null,
   "metadata": {},
   "outputs": [],
   "source": []
  },
  {
   "cell_type": "code",
   "execution_count": 58,
   "metadata": {
    "scrolled": true
   },
   "outputs": [
    {
     "name": "stdout",
     "output_type": "stream",
     "text": [
      "Fitting 3 folds for each of 72 candidates, totalling 216 fits\n"
     ]
    },
    {
     "name": "stderr",
     "output_type": "stream",
     "text": [
      "[Parallel(n_jobs=-1)]: Using backend LokyBackend with 4 concurrent workers.\n",
      "[Parallel(n_jobs=-1)]: Done  33 tasks      | elapsed:  3.0min\n",
      "[Parallel(n_jobs=-1)]: Done 154 tasks      | elapsed: 12.3min\n",
      "[Parallel(n_jobs=-1)]: Done 216 out of 216 | elapsed: 17.2min finished\n"
     ]
    },
    {
     "data": {
      "text/plain": [
       "GridSearchCV(cv=3, error_score='raise-deprecating',\n",
       "             estimator=KNeighborsClassifier(algorithm='auto', leaf_size=30,\n",
       "                                            metric='minkowski',\n",
       "                                            metric_params=None, n_jobs=None,\n",
       "                                            n_neighbors=5, p=2,\n",
       "                                            weights='uniform'),\n",
       "             iid='warn', n_jobs=-1,\n",
       "             param_grid={'algorithm': ['auto', 'ball_tree', 'kd_tree'],\n",
       "                         'leaf_size': [30, 40, 50],\n",
       "                         'n_neighbors': [5, 10, 15, 20],\n",
       "                         'weights': ['uniform', 'distance']},\n",
       "             pre_dispatch='2*n_jobs', refit=True, return_train_score=False,\n",
       "             scoring=None, verbose=2)"
      ]
     },
     "execution_count": 58,
     "metadata": {},
     "output_type": "execute_result"
    }
   ],
   "source": [
    "# GrideSearchCV for KNN\n",
    "# --->    4 * 3 * 2 * 3 = 72 combinations\n",
    "\n",
    "param_grid_knn_1 = {\n",
    "    'n_neighbors': [5, 10, 15, 20],\n",
    "    'leaf_size': [30, 40, 50],\n",
    "    'weights': ['uniform', 'distance'],\n",
    "    'algorithm': ['auto', 'ball_tree', 'kd_tree']\n",
    "                    }\n",
    "\n",
    "knn_1 = KNeighborsClassifier()\n",
    "\n",
    "grid_search_knn_1 = GridSearchCV(estimator = knn_1, param_grid = param_grid_knn_1, \n",
    "                          cv = 3, n_jobs = -1, verbose = 2)\n",
    "\n",
    "grid_search_knn_1.fit(X_train_scaled_income, y_train_income)"
   ]
  },
  {
   "cell_type": "code",
   "execution_count": 73,
   "metadata": {},
   "outputs": [
    {
     "data": {
      "text/plain": [
       "{'algorithm': 'auto',\n",
       " 'leaf_size': 30,\n",
       " 'n_neighbors': 15,\n",
       " 'weights': 'distance'}"
      ]
     },
     "execution_count": 73,
     "metadata": {},
     "output_type": "execute_result"
    }
   ],
   "source": [
    "grid_search_knn_1.best_params_"
   ]
  },
  {
   "cell_type": "code",
   "execution_count": 271,
   "metadata": {},
   "outputs": [
    {
     "data": {
      "text/plain": [
       "0.8372859025032938"
      ]
     },
     "execution_count": 271,
     "metadata": {},
     "output_type": "execute_result"
    }
   ],
   "source": [
    "best_score_knn_1 = grid_search_knn_1.best_score_\n",
    "\n",
    "best_score_knn_1"
   ]
  },
  {
   "cell_type": "code",
   "execution_count": 76,
   "metadata": {},
   "outputs": [],
   "source": [
    "knn_1 = KNeighborsClassifier(n_neighbors = 15, weights = 'distance', algorithm = 'auto', leaf_size = 30)"
   ]
  },
  {
   "cell_type": "code",
   "execution_count": 77,
   "metadata": {},
   "outputs": [
    {
     "data": {
      "text/plain": [
       "KNeighborsClassifier(algorithm='auto', leaf_size=30, metric='minkowski',\n",
       "                     metric_params=None, n_jobs=None, n_neighbors=15, p=2,\n",
       "                     weights='distance')"
      ]
     },
     "execution_count": 77,
     "metadata": {},
     "output_type": "execute_result"
    }
   ],
   "source": [
    "knn_1.fit(X_train_scaled_income, y_train_income)"
   ]
  },
  {
   "cell_type": "code",
   "execution_count": 78,
   "metadata": {},
   "outputs": [],
   "source": [
    "pred_knn_1 = knn_1.predict(X_test_scaled_income)"
   ]
  },
  {
   "cell_type": "code",
   "execution_count": 79,
   "metadata": {},
   "outputs": [],
   "source": [
    "knn_1_gridsearch_accuracy = accuracy_score(y_test_income, pred_knn_1)"
   ]
  },
  {
   "cell_type": "code",
   "execution_count": 280,
   "metadata": {},
   "outputs": [
    {
     "name": "stdout",
     "output_type": "stream",
     "text": [
      "Accuracy for KNN is:  0.8410328473564026\n"
     ]
    }
   ],
   "source": [
    "print(\"Accuracy for KNN is: \", knn_1_gridsearch_accuracy)"
   ]
  },
  {
   "cell_type": "code",
   "execution_count": null,
   "metadata": {},
   "outputs": [],
   "source": []
  },
  {
   "cell_type": "markdown",
   "metadata": {},
   "source": [
    "#### In the cell below we have created a DataFrame which will be showing the best score of each model for the `Income`. "
   ]
  },
  {
   "cell_type": "code",
   "execution_count": 272,
   "metadata": {},
   "outputs": [
    {
     "data": {
      "text/html": [
       "<div>\n",
       "<style scoped>\n",
       "    .dataframe tbody tr th:only-of-type {\n",
       "        vertical-align: middle;\n",
       "    }\n",
       "\n",
       "    .dataframe tbody tr th {\n",
       "        vertical-align: top;\n",
       "    }\n",
       "\n",
       "    .dataframe thead th {\n",
       "        text-align: right;\n",
       "    }\n",
       "</style>\n",
       "<table border=\"1\" class=\"dataframe\">\n",
       "  <thead>\n",
       "    <tr style=\"text-align: right;\">\n",
       "      <th></th>\n",
       "      <th>Accuracy Scores on Grid Search CV</th>\n",
       "    </tr>\n",
       "  </thead>\n",
       "  <tbody>\n",
       "    <tr>\n",
       "      <td>Random Forest Classifier</td>\n",
       "      <td>0.865744</td>\n",
       "    </tr>\n",
       "    <tr>\n",
       "      <td>Support Vector Classifier</td>\n",
       "      <td>0.854062</td>\n",
       "    </tr>\n",
       "    <tr>\n",
       "      <td>K Nearest Neighbor</td>\n",
       "      <td>0.837286</td>\n",
       "    </tr>\n",
       "  </tbody>\n",
       "</table>\n",
       "</div>"
      ],
      "text/plain": [
       "                           Accuracy Scores on Grid Search CV\n",
       "Random Forest Classifier                            0.865744\n",
       "Support Vector Classifier                           0.854062\n",
       "K Nearest Neighbor                                  0.837286"
      ]
     },
     "execution_count": 272,
     "metadata": {},
     "output_type": "execute_result"
    }
   ],
   "source": [
    "gridsearch_accuracies_1 = [best_score_rf_1, best_score_svm_1, best_score_knn_1]\n",
    "\n",
    "pd.DataFrame(list(zip(gridsearch_accuracies_1)) ,columns = ['Accuracy Scores on Grid Search CV'],\n",
    "             index = ['Random Forest Classifier', 'Support Vector Classifier', 'K Nearest Neighbor']).sort_values(by = 'Accuracy Scores on Grid Search CV',\n",
    "                                                                                            ascending = False)"
   ]
  },
  {
   "cell_type": "markdown",
   "metadata": {},
   "source": [
    "####  We can see that the accuracy for the Random Forest has increased after tuning the parameters. Random Forest seems the best model of them all based on the accuracy (score)."
   ]
  },
  {
   "cell_type": "markdown",
   "metadata": {},
   "source": [
    "#### Performing GridSearchCV for predicting the `gender`."
   ]
  },
  {
   "cell_type": "code",
   "execution_count": 82,
   "metadata": {},
   "outputs": [],
   "source": [
    "# GridSearchCV for Random Forest\n",
    "# --->    1 * 3 * 2 * 3 * 3 * 4 = 216 combinations\n",
    "\n",
    "param_grid_rf_2 = {\n",
    "    'bootstrap': [True],\n",
    "    'max_depth': [20, 40, 60],\n",
    "    'max_features': [2, 3],\n",
    "    'min_samples_leaf': [3, 4, 5],\n",
    "    'min_samples_split': [8, 10, 12],\n",
    "    'n_estimators': [150, 300, 550, 1000]\n",
    "}\n",
    "\n",
    "rf_2 = RandomForestClassifier()\n",
    "\n",
    "grid_search_rf_2 = GridSearchCV(estimator = rf_2, param_grid = param_grid_rf_2, \n",
    "                          cv = 3, n_jobs = -1, verbose = 2)"
   ]
  },
  {
   "cell_type": "code",
   "execution_count": 83,
   "metadata": {},
   "outputs": [
    {
     "name": "stdout",
     "output_type": "stream",
     "text": [
      "Fitting 3 folds for each of 216 candidates, totalling 648 fits\n"
     ]
    },
    {
     "name": "stderr",
     "output_type": "stream",
     "text": [
      "[Parallel(n_jobs=-1)]: Using backend LokyBackend with 4 concurrent workers.\n",
      "[Parallel(n_jobs=-1)]: Done  33 tasks      | elapsed:  1.5min\n",
      "[Parallel(n_jobs=-1)]: Done 154 tasks      | elapsed:  7.1min\n",
      "[Parallel(n_jobs=-1)]: Done 357 tasks      | elapsed: 16.7min\n",
      "[Parallel(n_jobs=-1)]: Done 640 tasks      | elapsed: 30.5min\n",
      "[Parallel(n_jobs=-1)]: Done 648 out of 648 | elapsed: 31.1min finished\n"
     ]
    }
   ],
   "source": [
    "grid_search_rf_2.fit(X_train_scaled_gender, y_train_gender);"
   ]
  },
  {
   "cell_type": "code",
   "execution_count": 84,
   "metadata": {},
   "outputs": [
    {
     "data": {
      "text/plain": [
       "{'bootstrap': True,\n",
       " 'max_depth': 60,\n",
       " 'max_features': 3,\n",
       " 'min_samples_leaf': 3,\n",
       " 'min_samples_split': 8,\n",
       " 'n_estimators': 550}"
      ]
     },
     "execution_count": 84,
     "metadata": {},
     "output_type": "execute_result"
    }
   ],
   "source": [
    "grid_search_rf_2.best_params_"
   ]
  },
  {
   "cell_type": "code",
   "execution_count": 273,
   "metadata": {},
   "outputs": [
    {
     "data": {
      "text/plain": [
       "0.8416337285902503"
      ]
     },
     "execution_count": 273,
     "metadata": {},
     "output_type": "execute_result"
    }
   ],
   "source": [
    "best_score_rf_2 = grid_search_rf_2.best_score_\n",
    "\n",
    "best_score_rf_2"
   ]
  },
  {
   "cell_type": "code",
   "execution_count": 85,
   "metadata": {},
   "outputs": [],
   "source": [
    "rf_2 = RandomForestClassifier(max_features = 3, n_estimators= 150, max_depth=40, bootstrap = 'True',\n",
    "                              min_samples_leaf = 3, min_samples_split = 4)"
   ]
  },
  {
   "cell_type": "code",
   "execution_count": 90,
   "metadata": {},
   "outputs": [
    {
     "data": {
      "text/plain": [
       "RandomForestClassifier(bootstrap='True', class_weight=None, criterion='gini',\n",
       "                       max_depth=40, max_features=3, max_leaf_nodes=None,\n",
       "                       min_impurity_decrease=0.0, min_impurity_split=None,\n",
       "                       min_samples_leaf=3, min_samples_split=4,\n",
       "                       min_weight_fraction_leaf=0.0, n_estimators=150,\n",
       "                       n_jobs=None, oob_score=False, random_state=None,\n",
       "                       verbose=0, warm_start=False)"
      ]
     },
     "execution_count": 90,
     "metadata": {},
     "output_type": "execute_result"
    }
   ],
   "source": [
    "rf_2.fit(X_train_scaled_gender, y_train_gender)"
   ]
  },
  {
   "cell_type": "code",
   "execution_count": 91,
   "metadata": {},
   "outputs": [],
   "source": [
    "pred_rf_2 = rf_2.predict(X_test_scaled_gender)"
   ]
  },
  {
   "cell_type": "code",
   "execution_count": 92,
   "metadata": {},
   "outputs": [],
   "source": [
    "rf_2_gridsearch_accuracy = accuracy_score(y_test_gender, pred_rf_2)"
   ]
  },
  {
   "cell_type": "code",
   "execution_count": 279,
   "metadata": {},
   "outputs": [
    {
     "name": "stdout",
     "output_type": "stream",
     "text": [
      "Accuracy for Random Forest is:  0.8422624275425962\n"
     ]
    }
   ],
   "source": [
    "print(\"Accuracy for Random Forest is: \", rf_2_gridsearch_accuracy)"
   ]
  },
  {
   "cell_type": "code",
   "execution_count": 253,
   "metadata": {},
   "outputs": [
    {
     "name": "stdout",
     "output_type": "stream",
     "text": [
      "Fitting 3 folds for each of 72 candidates, totalling 216 fits\n"
     ]
    },
    {
     "name": "stderr",
     "output_type": "stream",
     "text": [
      "[Parallel(n_jobs=-1)]: Using backend LokyBackend with 4 concurrent workers.\n",
      "[Parallel(n_jobs=-1)]: Done  33 tasks      | elapsed:  2.2min\n",
      "[Parallel(n_jobs=-1)]: Done 154 tasks      | elapsed:  4.5min\n",
      "[Parallel(n_jobs=-1)]: Done 216 out of 216 | elapsed:  5.9min finished\n"
     ]
    },
    {
     "data": {
      "text/plain": [
       "GridSearchCV(cv=3, error_score='raise-deprecating',\n",
       "             estimator=LogisticRegression(C=1.0, class_weight=None, dual=False,\n",
       "                                          fit_intercept=True,\n",
       "                                          intercept_scaling=1, l1_ratio=None,\n",
       "                                          max_iter=100, multi_class='warn',\n",
       "                                          n_jobs=None, penalty='l2',\n",
       "                                          random_state=None, solver='warn',\n",
       "                                          tol=0.0001, verbose=0,\n",
       "                                          warm_start=False),\n",
       "             iid='warn', n_jobs=-1,\n",
       "             param_grid={'C': [0.8, 1, 1.2], 'fit_intercept': [True, False],\n",
       "                         'solver': ['sag', 'saga', 'newton-cg', 'lbfgs'],\n",
       "                         'tol': [0.001, 0.0001, 1e-05]},\n",
       "             pre_dispatch='2*n_jobs', refit=True, return_train_score=False,\n",
       "             scoring=None, verbose=2)"
      ]
     },
     "execution_count": 253,
     "metadata": {},
     "output_type": "execute_result"
    }
   ],
   "source": [
    "# GridSearchCV for Logistic Regression\n",
    "# --->    3 * 4 * 2 * 3 = 72 combinations\n",
    "\n",
    "param_grid_logreg = {\n",
    "    'C': [0.8, 1, 1.2],\n",
    "    'solver': ['sag', 'saga', 'newton-cg', 'lbfgs'],\n",
    "    'fit_intercept': [True, False],\n",
    "    'tol': [0.001, 0.0001, 0.00001]\n",
    "                }\n",
    "\n",
    "log_reg = LogisticRegression()\n",
    "\n",
    "grid_search_logreg = GridSearchCV(estimator = log_reg, param_grid = param_grid_logreg, \n",
    "                          cv = 3, n_jobs = -1, verbose = 2)\n",
    "\n",
    "grid_search_logreg.fit(X_train_scaled_gender, y_train_gender)"
   ]
  },
  {
   "cell_type": "code",
   "execution_count": 254,
   "metadata": {},
   "outputs": [
    {
     "data": {
      "text/plain": [
       "{'C': 1.2, 'fit_intercept': True, 'solver': 'newton-cg', 'tol': 0.001}"
      ]
     },
     "execution_count": 254,
     "metadata": {},
     "output_type": "execute_result"
    }
   ],
   "source": [
    "grid_search_logreg.best_params_"
   ]
  },
  {
   "cell_type": "code",
   "execution_count": 274,
   "metadata": {},
   "outputs": [
    {
     "data": {
      "text/plain": [
       "0.8384277558190601"
      ]
     },
     "execution_count": 274,
     "metadata": {},
     "output_type": "execute_result"
    }
   ],
   "source": [
    "best_score_logreg = grid_search_logreg.best_score_\n",
    "\n",
    "best_score_logreg"
   ]
  },
  {
   "cell_type": "code",
   "execution_count": 256,
   "metadata": {},
   "outputs": [],
   "source": [
    "log_reg = LogisticRegression(C = 1.2, fit_intercept = True, solver = 'newton-cg', tol = 0.001)"
   ]
  },
  {
   "cell_type": "code",
   "execution_count": 257,
   "metadata": {},
   "outputs": [
    {
     "data": {
      "text/plain": [
       "LogisticRegression(C=1.2, class_weight=None, dual=False, fit_intercept=True,\n",
       "                   intercept_scaling=1, l1_ratio=None, max_iter=100,\n",
       "                   multi_class='warn', n_jobs=None, penalty='l2',\n",
       "                   random_state=None, solver='newton-cg', tol=0.001, verbose=0,\n",
       "                   warm_start=False)"
      ]
     },
     "execution_count": 257,
     "metadata": {},
     "output_type": "execute_result"
    }
   ],
   "source": [
    "log_reg.fit(X_train_scaled_gender, y_train_gender)"
   ]
  },
  {
   "cell_type": "code",
   "execution_count": 258,
   "metadata": {},
   "outputs": [],
   "source": [
    "pred_logreg = log_reg.predict(X_test_scaled_gender)"
   ]
  },
  {
   "cell_type": "code",
   "execution_count": 259,
   "metadata": {},
   "outputs": [],
   "source": [
    "logreg_gridsearch_accuracy = accuracy_score(y_test_gender, pred_logreg)"
   ]
  },
  {
   "cell_type": "code",
   "execution_count": 278,
   "metadata": {},
   "outputs": [
    {
     "name": "stdout",
     "output_type": "stream",
     "text": [
      "Accuracy for Logistic Regression is:  0.8396276128578957\n"
     ]
    }
   ],
   "source": [
    "print(\"Accuracy for Logistic Regression is: \", logreg_gridsearch_accuracy)"
   ]
  },
  {
   "cell_type": "code",
   "execution_count": 97,
   "metadata": {},
   "outputs": [
    {
     "name": "stdout",
     "output_type": "stream",
     "text": [
      "Fitting 3 folds for each of 72 candidates, totalling 216 fits\n"
     ]
    },
    {
     "name": "stderr",
     "output_type": "stream",
     "text": [
      "[Parallel(n_jobs=-1)]: Using backend LokyBackend with 4 concurrent workers.\n",
      "[Parallel(n_jobs=-1)]: Done  33 tasks      | elapsed:  2.8min\n",
      "[Parallel(n_jobs=-1)]: Done 154 tasks      | elapsed: 12.1min\n",
      "[Parallel(n_jobs=-1)]: Done 216 out of 216 | elapsed: 16.9min finished\n"
     ]
    },
    {
     "data": {
      "text/plain": [
       "GridSearchCV(cv=3, error_score='raise-deprecating',\n",
       "             estimator=KNeighborsClassifier(algorithm='auto', leaf_size=30,\n",
       "                                            metric='minkowski',\n",
       "                                            metric_params=None, n_jobs=None,\n",
       "                                            n_neighbors=5, p=2,\n",
       "                                            weights='uniform'),\n",
       "             iid='warn', n_jobs=-1,\n",
       "             param_grid={'algorithm': ['auto', 'ball_tree', 'kd_tree'],\n",
       "                         'leaf_size': [30, 40, 50],\n",
       "                         'n_neighbors': [5, 10, 15, 20],\n",
       "                         'weights': ['uniform', 'distance']},\n",
       "             pre_dispatch='2*n_jobs', refit=True, return_train_score=False,\n",
       "             scoring=None, verbose=2)"
      ]
     },
     "execution_count": 97,
     "metadata": {},
     "output_type": "execute_result"
    }
   ],
   "source": [
    "# GridSearchCV for KNN\n",
    "# --->    4 * 3 * 2 * 3 = 72 combinations\n",
    "\n",
    "param_grid_knn_2 = {\n",
    "    'n_neighbors': [5, 10, 15, 20],\n",
    "    'leaf_size': [30, 40, 50],\n",
    "    'weights': ['uniform', 'distance'],\n",
    "    'algorithm': ['auto', 'ball_tree', 'kd_tree']\n",
    "                }\n",
    "\n",
    "knn_2 = KNeighborsClassifier()\n",
    "\n",
    "grid_search_knn_2 = GridSearchCV(estimator = knn_2, param_grid = param_grid_knn_2, \n",
    "                          cv = 3, n_jobs = -1, verbose = 2)\n",
    "\n",
    "grid_search_knn_2.fit(X_train_scaled_income, y_train_income)"
   ]
  },
  {
   "cell_type": "code",
   "execution_count": 98,
   "metadata": {},
   "outputs": [
    {
     "data": {
      "text/plain": [
       "{'algorithm': 'auto',\n",
       " 'leaf_size': 30,\n",
       " 'n_neighbors': 15,\n",
       " 'weights': 'distance'}"
      ]
     },
     "execution_count": 98,
     "metadata": {},
     "output_type": "execute_result"
    }
   ],
   "source": [
    "grid_search_knn_2.best_params_"
   ]
  },
  {
   "cell_type": "code",
   "execution_count": 275,
   "metadata": {},
   "outputs": [
    {
     "data": {
      "text/plain": [
       "0.8372859025032938"
      ]
     },
     "execution_count": 275,
     "metadata": {},
     "output_type": "execute_result"
    }
   ],
   "source": [
    "best_score_knn_2 = grid_search_knn_2.best_score_\n",
    "\n",
    "best_score_knn_2"
   ]
  },
  {
   "cell_type": "code",
   "execution_count": 105,
   "metadata": {},
   "outputs": [],
   "source": [
    "knn_2 = KNeighborsClassifier(n_neighbors = 15, weights = 'distance', algorithm = 'auto', leaf_size = 30)"
   ]
  },
  {
   "cell_type": "code",
   "execution_count": 106,
   "metadata": {},
   "outputs": [
    {
     "data": {
      "text/plain": [
       "KNeighborsClassifier(algorithm='auto', leaf_size=30, metric='minkowski',\n",
       "                     metric_params=None, n_jobs=None, n_neighbors=15, p=2,\n",
       "                     weights='distance')"
      ]
     },
     "execution_count": 106,
     "metadata": {},
     "output_type": "execute_result"
    }
   ],
   "source": [
    "knn_2.fit(X_train_scaled_income, y_train_income)"
   ]
  },
  {
   "cell_type": "code",
   "execution_count": 107,
   "metadata": {},
   "outputs": [],
   "source": [
    "pred_knn_2 = knn_2.predict(X_test_scaled_income)"
   ]
  },
  {
   "cell_type": "code",
   "execution_count": 108,
   "metadata": {},
   "outputs": [],
   "source": [
    "knn_2_gridsearch_accuracy = accuracy_score(y_test_income, pred_knn_2)"
   ]
  },
  {
   "cell_type": "code",
   "execution_count": 277,
   "metadata": {},
   "outputs": [
    {
     "name": "stdout",
     "output_type": "stream",
     "text": [
      "Accuracy for KNN:  0.8410328473564026\n"
     ]
    }
   ],
   "source": [
    "print(\"Accuracy for KNN: \", knn_2_gridsearch_accuracy)"
   ]
  },
  {
   "cell_type": "markdown",
   "metadata": {},
   "source": [
    "In the cell below we have created a DataFrame which will be showing the best score of each model for the `Sex`. "
   ]
  },
  {
   "cell_type": "code",
   "execution_count": 276,
   "metadata": {},
   "outputs": [
    {
     "data": {
      "text/html": [
       "<div>\n",
       "<style scoped>\n",
       "    .dataframe tbody tr th:only-of-type {\n",
       "        vertical-align: middle;\n",
       "    }\n",
       "\n",
       "    .dataframe tbody tr th {\n",
       "        vertical-align: top;\n",
       "    }\n",
       "\n",
       "    .dataframe thead th {\n",
       "        text-align: right;\n",
       "    }\n",
       "</style>\n",
       "<table border=\"1\" class=\"dataframe\">\n",
       "  <thead>\n",
       "    <tr style=\"text-align: right;\">\n",
       "      <th></th>\n",
       "      <th>Accuracy Scores on Grid Search CV</th>\n",
       "    </tr>\n",
       "  </thead>\n",
       "  <tbody>\n",
       "    <tr>\n",
       "      <td>Random Forest Classifier</td>\n",
       "      <td>0.841634</td>\n",
       "    </tr>\n",
       "    <tr>\n",
       "      <td>Logistic Regression</td>\n",
       "      <td>0.838428</td>\n",
       "    </tr>\n",
       "    <tr>\n",
       "      <td>K Nearest Neighbor</td>\n",
       "      <td>0.837286</td>\n",
       "    </tr>\n",
       "  </tbody>\n",
       "</table>\n",
       "</div>"
      ],
      "text/plain": [
       "                          Accuracy Scores on Grid Search CV\n",
       "Random Forest Classifier                           0.841634\n",
       "Logistic Regression                                0.838428\n",
       "K Nearest Neighbor                                 0.837286"
      ]
     },
     "execution_count": 276,
     "metadata": {},
     "output_type": "execute_result"
    }
   ],
   "source": [
    "gridsearch_accuracies_2 = [best_score_rf_2, best_score_logreg, best_score_knn_2]\n",
    "\n",
    "pd.DataFrame(list(zip(gridsearch_accuracies_2)) ,columns = ['Accuracy Scores on Grid Search CV'],\n",
    "             index = ['Random Forest Classifier', 'Logistic Regression', 'K Nearest Neighbor']).sort_values(by = 'Accuracy Scores on Grid Search CV',\n",
    "                                                                                            ascending = False)"
   ]
  },
  {
   "cell_type": "markdown",
   "metadata": {},
   "source": [
    "#### In conclusion, the accuracy of all the models has increased and we can see that Random Forest is performing very well on this dataset (for predicting the `gender`)."
   ]
  },
  {
   "cell_type": "markdown",
   "metadata": {},
   "source": [
    "## Citations/Sources"
   ]
  },
  {
   "cell_type": "markdown",
   "metadata": {},
   "source": [
    "1. When to use Random Forest over SVM and vice versa? https://datascience.stackexchange.com/questions/6838/when-to-use-random-forest-over-svm-and-vice-versa\n",
    "\n",
    "2. Stephanie Glen. Decision Tree vs Random Forest vs Gradient Boosting Machines: Explained Simply https://www.datasciencecentral.com/profiles/blogs/decision-tree-vs-random-forest-vs-boosted-trees-explained"
   ]
  },
  {
   "cell_type": "code",
   "execution_count": null,
   "metadata": {},
   "outputs": [],
   "source": []
  }
 ],
 "metadata": {
  "kernelspec": {
   "display_name": "Python 3",
   "language": "python",
   "name": "python3"
  },
  "language_info": {
   "codemirror_mode": {
    "name": "ipython",
    "version": 3
   },
   "file_extension": ".py",
   "mimetype": "text/x-python",
   "name": "python",
   "nbconvert_exporter": "python",
   "pygments_lexer": "ipython3",
   "version": "3.7.1"
  }
 },
 "nbformat": 4,
 "nbformat_minor": 4
}
