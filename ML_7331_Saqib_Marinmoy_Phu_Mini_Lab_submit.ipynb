{
 "cells": [
  {
   "cell_type": "markdown",
   "metadata": {},
   "source": [
    "# Logistic Regression and SVM Mini-Lab\n",
    " By Saqib Shah, Phu Truong and Mrinmoy Bhaumik"
   ]
  },
  {
   "cell_type": "markdown",
   "metadata": {},
   "source": [
    "### Importing all the important libraries"
   ]
  },
  {
   "cell_type": "code",
   "execution_count": 1,
   "metadata": {
    "collapsed": true
   },
   "outputs": [],
   "source": [
    "import pandas as pd\n",
    "import numpy as np\n",
    "from pandas.plotting import scatter_matrix\n",
    "\n",
    "\n",
    "import matplotlib.pyplot as plt\n",
    "import seaborn as sns\n",
    "\n",
    "\n",
    "from sklearn.model_selection import train_test_split\n",
    "from sklearn.model_selection import GridSearchCV\n",
    "\n",
    "\n",
    "from sklearn.preprocessing import StandardScaler  \n",
    "import warnings\n",
    "warnings.filterwarnings(\"ignore\", category=FutureWarning)\n",
    "\n",
    "\n",
    "from sklearn import metrics\n",
    "from sklearn.svm import SVC\n",
    "from sklearn.linear_model import LogisticRegression"
   ]
  },
  {
   "cell_type": "markdown",
   "metadata": {},
   "source": [
    "### We are taking the preprocessed data from the lab one."
   ]
  },
  {
   "cell_type": "markdown",
   "metadata": {},
   "source": [
    "<img src='income_data.png'>"
   ]
  },
  {
   "cell_type": "code",
   "execution_count": 2,
   "metadata": {
    "collapsed": true
   },
   "outputs": [],
   "source": [
    "pd.options.display.max_columns = None"
   ]
  },
  {
   "cell_type": "markdown",
   "metadata": {
    "collapsed": true
   },
   "source": [
    "Note: This dataset has been processed from our lab one. Some of the important changes to notice:  \n",
    "-remove and impute missing values  \n",
    "-create dummy variables for attributes: workclass, marital_status, occupation, relationship, race.  \n",
    "-separate attribute 'native_country' into 2 dummy variables: Others vs. United-states"
   ]
  },
  {
   "cell_type": "code",
   "execution_count": 4,
   "metadata": {
    "scrolled": false
   },
   "outputs": [
    {
     "name": "stdout",
     "output_type": "stream",
     "text": [
      "Wall time: 216 ms\n"
     ]
    },
    {
     "data": {
      "text/html": [
       "<div>\n",
       "<style scoped>\n",
       "    .dataframe tbody tr th:only-of-type {\n",
       "        vertical-align: middle;\n",
       "    }\n",
       "\n",
       "    .dataframe tbody tr th {\n",
       "        vertical-align: top;\n",
       "    }\n",
       "\n",
       "    .dataframe thead th {\n",
       "        text-align: right;\n",
       "    }\n",
       "</style>\n",
       "<table border=\"1\" class=\"dataframe\">\n",
       "  <thead>\n",
       "    <tr style=\"text-align: right;\">\n",
       "      <th></th>\n",
       "      <th>age</th>\n",
       "      <th>education_num</th>\n",
       "      <th>sex</th>\n",
       "      <th>hours_per_week</th>\n",
       "      <th>workclass:Federal-gov</th>\n",
       "      <th>workclass:Local-gov</th>\n",
       "      <th>workclass:Never-worked</th>\n",
       "      <th>workclass:Private</th>\n",
       "      <th>workclass:Self-emp-inc</th>\n",
       "      <th>workclass:Self-emp-not-inc</th>\n",
       "      <th>workclass:State-gov</th>\n",
       "      <th>workclass:Without-pay</th>\n",
       "      <th>marital_status:Divorced</th>\n",
       "      <th>marital_status:Married-AF-spouse</th>\n",
       "      <th>marital_status:Married-civ-spouse</th>\n",
       "      <th>marital_status:Married-spouse-absent</th>\n",
       "      <th>marital_status:Never-married</th>\n",
       "      <th>marital_status:Separated</th>\n",
       "      <th>marital_status:Widowed</th>\n",
       "      <th>occupation:Adm-clerical</th>\n",
       "      <th>occupation:Armed-Forces</th>\n",
       "      <th>occupation:Craft-repair</th>\n",
       "      <th>occupation:Exec-managerial</th>\n",
       "      <th>occupation:Farming-fishing</th>\n",
       "      <th>occupation:Handlers-cleaners</th>\n",
       "      <th>occupation:Machine-op-inspct</th>\n",
       "      <th>occupation:Other-service</th>\n",
       "      <th>occupation:Priv-house-serv</th>\n",
       "      <th>occupation:Prof-specialty</th>\n",
       "      <th>occupation:Protective-serv</th>\n",
       "      <th>occupation:Sales</th>\n",
       "      <th>occupation:Tech-support</th>\n",
       "      <th>occupation:Transport-moving</th>\n",
       "      <th>relationship:Husband</th>\n",
       "      <th>relationship:Not-in-family</th>\n",
       "      <th>relationship:Other-relative</th>\n",
       "      <th>relationship:Own-child</th>\n",
       "      <th>relationship:Unmarried</th>\n",
       "      <th>relationship:Wife</th>\n",
       "      <th>race:Amer-Indian-Eskimo</th>\n",
       "      <th>race:Asian-Pac-Islander</th>\n",
       "      <th>race:Black</th>\n",
       "      <th>race:Other</th>\n",
       "      <th>race:White</th>\n",
       "      <th>native_country:Others</th>\n",
       "      <th>native_country:United-States</th>\n",
       "      <th>income</th>\n",
       "    </tr>\n",
       "  </thead>\n",
       "  <tbody>\n",
       "    <tr>\n",
       "      <th>0</th>\n",
       "      <td>66</td>\n",
       "      <td>10</td>\n",
       "      <td>0</td>\n",
       "      <td>40</td>\n",
       "      <td>0</td>\n",
       "      <td>0</td>\n",
       "      <td>0</td>\n",
       "      <td>1</td>\n",
       "      <td>0</td>\n",
       "      <td>0</td>\n",
       "      <td>0</td>\n",
       "      <td>0</td>\n",
       "      <td>0</td>\n",
       "      <td>0</td>\n",
       "      <td>0</td>\n",
       "      <td>0</td>\n",
       "      <td>0</td>\n",
       "      <td>0</td>\n",
       "      <td>1</td>\n",
       "      <td>0</td>\n",
       "      <td>0</td>\n",
       "      <td>0</td>\n",
       "      <td>0</td>\n",
       "      <td>0</td>\n",
       "      <td>0</td>\n",
       "      <td>0</td>\n",
       "      <td>0</td>\n",
       "      <td>0</td>\n",
       "      <td>1</td>\n",
       "      <td>0</td>\n",
       "      <td>0</td>\n",
       "      <td>0</td>\n",
       "      <td>0</td>\n",
       "      <td>0</td>\n",
       "      <td>0</td>\n",
       "      <td>0</td>\n",
       "      <td>0</td>\n",
       "      <td>1</td>\n",
       "      <td>0</td>\n",
       "      <td>0</td>\n",
       "      <td>0</td>\n",
       "      <td>1</td>\n",
       "      <td>0</td>\n",
       "      <td>0</td>\n",
       "      <td>0</td>\n",
       "      <td>1</td>\n",
       "      <td>0</td>\n",
       "    </tr>\n",
       "    <tr>\n",
       "      <th>1</th>\n",
       "      <td>54</td>\n",
       "      <td>4</td>\n",
       "      <td>0</td>\n",
       "      <td>40</td>\n",
       "      <td>0</td>\n",
       "      <td>0</td>\n",
       "      <td>0</td>\n",
       "      <td>1</td>\n",
       "      <td>0</td>\n",
       "      <td>0</td>\n",
       "      <td>0</td>\n",
       "      <td>0</td>\n",
       "      <td>1</td>\n",
       "      <td>0</td>\n",
       "      <td>0</td>\n",
       "      <td>0</td>\n",
       "      <td>0</td>\n",
       "      <td>0</td>\n",
       "      <td>0</td>\n",
       "      <td>0</td>\n",
       "      <td>0</td>\n",
       "      <td>0</td>\n",
       "      <td>0</td>\n",
       "      <td>0</td>\n",
       "      <td>0</td>\n",
       "      <td>1</td>\n",
       "      <td>0</td>\n",
       "      <td>0</td>\n",
       "      <td>0</td>\n",
       "      <td>0</td>\n",
       "      <td>0</td>\n",
       "      <td>0</td>\n",
       "      <td>0</td>\n",
       "      <td>0</td>\n",
       "      <td>0</td>\n",
       "      <td>0</td>\n",
       "      <td>0</td>\n",
       "      <td>1</td>\n",
       "      <td>0</td>\n",
       "      <td>0</td>\n",
       "      <td>0</td>\n",
       "      <td>0</td>\n",
       "      <td>0</td>\n",
       "      <td>1</td>\n",
       "      <td>0</td>\n",
       "      <td>1</td>\n",
       "      <td>0</td>\n",
       "    </tr>\n",
       "    <tr>\n",
       "      <th>2</th>\n",
       "      <td>41</td>\n",
       "      <td>10</td>\n",
       "      <td>0</td>\n",
       "      <td>40</td>\n",
       "      <td>0</td>\n",
       "      <td>0</td>\n",
       "      <td>0</td>\n",
       "      <td>1</td>\n",
       "      <td>0</td>\n",
       "      <td>0</td>\n",
       "      <td>0</td>\n",
       "      <td>0</td>\n",
       "      <td>0</td>\n",
       "      <td>0</td>\n",
       "      <td>0</td>\n",
       "      <td>0</td>\n",
       "      <td>0</td>\n",
       "      <td>1</td>\n",
       "      <td>0</td>\n",
       "      <td>0</td>\n",
       "      <td>0</td>\n",
       "      <td>0</td>\n",
       "      <td>0</td>\n",
       "      <td>0</td>\n",
       "      <td>0</td>\n",
       "      <td>0</td>\n",
       "      <td>0</td>\n",
       "      <td>0</td>\n",
       "      <td>1</td>\n",
       "      <td>0</td>\n",
       "      <td>0</td>\n",
       "      <td>0</td>\n",
       "      <td>0</td>\n",
       "      <td>0</td>\n",
       "      <td>0</td>\n",
       "      <td>0</td>\n",
       "      <td>1</td>\n",
       "      <td>0</td>\n",
       "      <td>0</td>\n",
       "      <td>0</td>\n",
       "      <td>0</td>\n",
       "      <td>0</td>\n",
       "      <td>0</td>\n",
       "      <td>1</td>\n",
       "      <td>0</td>\n",
       "      <td>1</td>\n",
       "      <td>0</td>\n",
       "    </tr>\n",
       "    <tr>\n",
       "      <th>3</th>\n",
       "      <td>34</td>\n",
       "      <td>9</td>\n",
       "      <td>0</td>\n",
       "      <td>45</td>\n",
       "      <td>0</td>\n",
       "      <td>0</td>\n",
       "      <td>0</td>\n",
       "      <td>1</td>\n",
       "      <td>0</td>\n",
       "      <td>0</td>\n",
       "      <td>0</td>\n",
       "      <td>0</td>\n",
       "      <td>1</td>\n",
       "      <td>0</td>\n",
       "      <td>0</td>\n",
       "      <td>0</td>\n",
       "      <td>0</td>\n",
       "      <td>0</td>\n",
       "      <td>0</td>\n",
       "      <td>0</td>\n",
       "      <td>0</td>\n",
       "      <td>0</td>\n",
       "      <td>0</td>\n",
       "      <td>0</td>\n",
       "      <td>0</td>\n",
       "      <td>0</td>\n",
       "      <td>1</td>\n",
       "      <td>0</td>\n",
       "      <td>0</td>\n",
       "      <td>0</td>\n",
       "      <td>0</td>\n",
       "      <td>0</td>\n",
       "      <td>0</td>\n",
       "      <td>0</td>\n",
       "      <td>0</td>\n",
       "      <td>0</td>\n",
       "      <td>0</td>\n",
       "      <td>1</td>\n",
       "      <td>0</td>\n",
       "      <td>0</td>\n",
       "      <td>0</td>\n",
       "      <td>0</td>\n",
       "      <td>0</td>\n",
       "      <td>1</td>\n",
       "      <td>0</td>\n",
       "      <td>1</td>\n",
       "      <td>0</td>\n",
       "    </tr>\n",
       "    <tr>\n",
       "      <th>4</th>\n",
       "      <td>38</td>\n",
       "      <td>6</td>\n",
       "      <td>1</td>\n",
       "      <td>40</td>\n",
       "      <td>0</td>\n",
       "      <td>0</td>\n",
       "      <td>0</td>\n",
       "      <td>1</td>\n",
       "      <td>0</td>\n",
       "      <td>0</td>\n",
       "      <td>0</td>\n",
       "      <td>0</td>\n",
       "      <td>0</td>\n",
       "      <td>0</td>\n",
       "      <td>0</td>\n",
       "      <td>0</td>\n",
       "      <td>0</td>\n",
       "      <td>1</td>\n",
       "      <td>0</td>\n",
       "      <td>1</td>\n",
       "      <td>0</td>\n",
       "      <td>0</td>\n",
       "      <td>0</td>\n",
       "      <td>0</td>\n",
       "      <td>0</td>\n",
       "      <td>0</td>\n",
       "      <td>0</td>\n",
       "      <td>0</td>\n",
       "      <td>0</td>\n",
       "      <td>0</td>\n",
       "      <td>0</td>\n",
       "      <td>0</td>\n",
       "      <td>0</td>\n",
       "      <td>0</td>\n",
       "      <td>0</td>\n",
       "      <td>0</td>\n",
       "      <td>0</td>\n",
       "      <td>1</td>\n",
       "      <td>0</td>\n",
       "      <td>0</td>\n",
       "      <td>0</td>\n",
       "      <td>0</td>\n",
       "      <td>0</td>\n",
       "      <td>1</td>\n",
       "      <td>0</td>\n",
       "      <td>1</td>\n",
       "      <td>0</td>\n",
       "    </tr>\n",
       "  </tbody>\n",
       "</table>\n",
       "</div>"
      ],
      "text/plain": [
       "   age  education_num  sex  hours_per_week  workclass:Federal-gov  \\\n",
       "0   66             10    0              40                      0   \n",
       "1   54              4    0              40                      0   \n",
       "2   41             10    0              40                      0   \n",
       "3   34              9    0              45                      0   \n",
       "4   38              6    1              40                      0   \n",
       "\n",
       "   workclass:Local-gov  workclass:Never-worked  workclass:Private  \\\n",
       "0                    0                       0                  1   \n",
       "1                    0                       0                  1   \n",
       "2                    0                       0                  1   \n",
       "3                    0                       0                  1   \n",
       "4                    0                       0                  1   \n",
       "\n",
       "   workclass:Self-emp-inc  workclass:Self-emp-not-inc  workclass:State-gov  \\\n",
       "0                       0                           0                    0   \n",
       "1                       0                           0                    0   \n",
       "2                       0                           0                    0   \n",
       "3                       0                           0                    0   \n",
       "4                       0                           0                    0   \n",
       "\n",
       "   workclass:Without-pay  marital_status:Divorced  \\\n",
       "0                      0                        0   \n",
       "1                      0                        1   \n",
       "2                      0                        0   \n",
       "3                      0                        1   \n",
       "4                      0                        0   \n",
       "\n",
       "   marital_status:Married-AF-spouse  marital_status:Married-civ-spouse  \\\n",
       "0                                 0                                  0   \n",
       "1                                 0                                  0   \n",
       "2                                 0                                  0   \n",
       "3                                 0                                  0   \n",
       "4                                 0                                  0   \n",
       "\n",
       "   marital_status:Married-spouse-absent  marital_status:Never-married  \\\n",
       "0                                     0                             0   \n",
       "1                                     0                             0   \n",
       "2                                     0                             0   \n",
       "3                                     0                             0   \n",
       "4                                     0                             0   \n",
       "\n",
       "   marital_status:Separated  marital_status:Widowed  occupation:Adm-clerical  \\\n",
       "0                         0                       1                        0   \n",
       "1                         0                       0                        0   \n",
       "2                         1                       0                        0   \n",
       "3                         0                       0                        0   \n",
       "4                         1                       0                        1   \n",
       "\n",
       "   occupation:Armed-Forces  occupation:Craft-repair  \\\n",
       "0                        0                        0   \n",
       "1                        0                        0   \n",
       "2                        0                        0   \n",
       "3                        0                        0   \n",
       "4                        0                        0   \n",
       "\n",
       "   occupation:Exec-managerial  occupation:Farming-fishing  \\\n",
       "0                           0                           0   \n",
       "1                           0                           0   \n",
       "2                           0                           0   \n",
       "3                           0                           0   \n",
       "4                           0                           0   \n",
       "\n",
       "   occupation:Handlers-cleaners  occupation:Machine-op-inspct  \\\n",
       "0                             0                             0   \n",
       "1                             0                             1   \n",
       "2                             0                             0   \n",
       "3                             0                             0   \n",
       "4                             0                             0   \n",
       "\n",
       "   occupation:Other-service  occupation:Priv-house-serv  \\\n",
       "0                         0                           0   \n",
       "1                         0                           0   \n",
       "2                         0                           0   \n",
       "3                         1                           0   \n",
       "4                         0                           0   \n",
       "\n",
       "   occupation:Prof-specialty  occupation:Protective-serv  occupation:Sales  \\\n",
       "0                          1                           0                 0   \n",
       "1                          0                           0                 0   \n",
       "2                          1                           0                 0   \n",
       "3                          0                           0                 0   \n",
       "4                          0                           0                 0   \n",
       "\n",
       "   occupation:Tech-support  occupation:Transport-moving  relationship:Husband  \\\n",
       "0                        0                            0                     0   \n",
       "1                        0                            0                     0   \n",
       "2                        0                            0                     0   \n",
       "3                        0                            0                     0   \n",
       "4                        0                            0                     0   \n",
       "\n",
       "   relationship:Not-in-family  relationship:Other-relative  \\\n",
       "0                           0                            0   \n",
       "1                           0                            0   \n",
       "2                           0                            0   \n",
       "3                           0                            0   \n",
       "4                           0                            0   \n",
       "\n",
       "   relationship:Own-child  relationship:Unmarried  relationship:Wife  \\\n",
       "0                       0                       1                  0   \n",
       "1                       0                       1                  0   \n",
       "2                       1                       0                  0   \n",
       "3                       0                       1                  0   \n",
       "4                       0                       1                  0   \n",
       "\n",
       "   race:Amer-Indian-Eskimo  race:Asian-Pac-Islander  race:Black  race:Other  \\\n",
       "0                        0                        0           1           0   \n",
       "1                        0                        0           0           0   \n",
       "2                        0                        0           0           0   \n",
       "3                        0                        0           0           0   \n",
       "4                        0                        0           0           0   \n",
       "\n",
       "   race:White  native_country:Others  native_country:United-States  income  \n",
       "0           0                      0                             1       0  \n",
       "1           1                      0                             1       0  \n",
       "2           1                      0                             1       0  \n",
       "3           1                      0                             1       0  \n",
       "4           1                      0                             1       0  "
      ]
     },
     "execution_count": 4,
     "metadata": {},
     "output_type": "execute_result"
    }
   ],
   "source": [
    "%%time\n",
    "\n",
    "data = pd.read_csv('preprocessed_income_dataset.csv')\n",
    "data.head()"
   ]
  },
  {
   "cell_type": "code",
   "execution_count": 5,
   "metadata": {},
   "outputs": [
    {
     "data": {
      "text/plain": [
       "Index(['age', 'education_num', 'sex', 'hours_per_week',\n",
       "       'workclass:Federal-gov', 'workclass:Local-gov',\n",
       "       'workclass:Never-worked', 'workclass:Private', 'workclass:Self-emp-inc',\n",
       "       'workclass:Self-emp-not-inc', 'workclass:State-gov',\n",
       "       'workclass:Without-pay', 'marital_status:Divorced',\n",
       "       'marital_status:Married-AF-spouse', 'marital_status:Married-civ-spouse',\n",
       "       'marital_status:Married-spouse-absent', 'marital_status:Never-married',\n",
       "       'marital_status:Separated', 'marital_status:Widowed',\n",
       "       'occupation:Adm-clerical', 'occupation:Armed-Forces',\n",
       "       'occupation:Craft-repair', 'occupation:Exec-managerial',\n",
       "       'occupation:Farming-fishing', 'occupation:Handlers-cleaners',\n",
       "       'occupation:Machine-op-inspct', 'occupation:Other-service',\n",
       "       'occupation:Priv-house-serv', 'occupation:Prof-specialty',\n",
       "       'occupation:Protective-serv', 'occupation:Sales',\n",
       "       'occupation:Tech-support', 'occupation:Transport-moving',\n",
       "       'relationship:Husband', 'relationship:Not-in-family',\n",
       "       'relationship:Other-relative', 'relationship:Own-child',\n",
       "       'relationship:Unmarried', 'relationship:Wife',\n",
       "       'race:Amer-Indian-Eskimo', 'race:Asian-Pac-Islander', 'race:Black',\n",
       "       'race:Other', 'race:White', 'native_country:Others',\n",
       "       'native_country:United-States', 'income'],\n",
       "      dtype='object')"
      ]
     },
     "execution_count": 5,
     "metadata": {},
     "output_type": "execute_result"
    }
   ],
   "source": [
    "data.columns"
   ]
  },
  {
   "cell_type": "code",
   "execution_count": 6,
   "metadata": {
    "collapsed": true
   },
   "outputs": [],
   "source": [
    "X = data.drop('income', axis= 1)\n",
    "y = data['income']"
   ]
  },
  {
   "cell_type": "code",
   "execution_count": 7,
   "metadata": {
    "collapsed": true
   },
   "outputs": [],
   "source": [
    "xtrain, xtest, ytrain, ytest = train_test_split(X, y, test_size=0.2, random_state=42, stratify=y)"
   ]
  },
  {
   "cell_type": "code",
   "execution_count": 8,
   "metadata": {},
   "outputs": [
    {
     "data": {
      "text/plain": [
       "(22770, 46)"
      ]
     },
     "execution_count": 8,
     "metadata": {},
     "output_type": "execute_result"
    }
   ],
   "source": [
    "xtrain.shape"
   ]
  },
  {
   "cell_type": "code",
   "execution_count": 9,
   "metadata": {},
   "outputs": [
    {
     "data": {
      "text/plain": [
       "(22770,)"
      ]
     },
     "execution_count": 9,
     "metadata": {},
     "output_type": "execute_result"
    }
   ],
   "source": [
    "ytrain.shape"
   ]
  },
  {
   "cell_type": "code",
   "execution_count": 10,
   "metadata": {},
   "outputs": [
    {
     "data": {
      "text/plain": [
       "(5693, 46)"
      ]
     },
     "execution_count": 10,
     "metadata": {},
     "output_type": "execute_result"
    }
   ],
   "source": [
    "xtest.shape"
   ]
  },
  {
   "cell_type": "code",
   "execution_count": 11,
   "metadata": {},
   "outputs": [
    {
     "data": {
      "text/plain": [
       "(5693,)"
      ]
     },
     "execution_count": 11,
     "metadata": {},
     "output_type": "execute_result"
    }
   ],
   "source": [
    "ytest.shape"
   ]
  },
  {
   "cell_type": "markdown",
   "metadata": {},
   "source": [
    "We have to make sure we normalize the training and test data"
   ]
  },
  {
   "cell_type": "code",
   "execution_count": 14,
   "metadata": {
    "collapsed": true
   },
   "outputs": [],
   "source": [
    "# Normalization\n",
    "scaler = StandardScaler()  \n",
    "\n",
    "# Fitting only on training data\n",
    "scaler.fit(xtrain)  \n",
    "normalized_xtrain = scaler.transform(xtrain)  \n",
    "\n",
    "# Applying same transformation to test data\n",
    "normalized_xtest = scaler.transform(xtest)"
   ]
  },
  {
   "cell_type": "markdown",
   "metadata": {},
   "source": [
    "The following code is a function for storing the time of excution of each classifier. "
   ]
  },
  {
   "cell_type": "code",
   "execution_count": 13,
   "metadata": {
    "collapsed": true
   },
   "outputs": [],
   "source": [
    "import time\n",
    "def exec_time(start, end):\n",
    "    diff_time = end - start\n",
    "    m, s = divmod(diff_time, 60)\n",
    "    h, m = divmod(m, 60)\n",
    "    s,m,h = int(round(s, 0)), int(round(m, 0)), int(round(h, 0))\n",
    "    return \"{0:02d}:{1:02d}:{2:02d}\".format(h, m, s)"
   ]
  },
  {
   "cell_type": "markdown",
   "metadata": {},
   "source": [
    "A function for the evaluation of all the models. This function calculates the `accuracy`, `precision`, `recall`, `f_measure`, `sensitivity`, `specificity`, and `error_rate`.\n",
    "\n",
    "This function creates a dataframe of all these evaluation metrics."
   ]
  },
  {
   "cell_type": "code",
   "execution_count": 15,
   "metadata": {
    "collapsed": true
   },
   "outputs": [],
   "source": [
    "def model_eval(actual, pred):\n",
    "    \n",
    "    confusion = pd.crosstab(actual, pred, rownames=['Actual'], colnames=['Predicted'])\n",
    "    TP = confusion.loc[1, 1]\n",
    "    TN = confusion.loc[0, 0]\n",
    "    FP = confusion.loc[0, 1]\n",
    "    FN = confusion.loc[1, 0]\n",
    "\n",
    "    accuracy = ((TP+TN))/(TP+FN+FP+TN)\n",
    "    precision = (TP)/(TP+FP)\n",
    "    recall = (TP)/(TP+FN)\n",
    "    f_measure = (2*recall*precision)/(recall+precision)\n",
    "    sensitivity = TP / (TP + FN)\n",
    "    specificity = TN / (TN + FP)\n",
    "    error_rate = 1 - accuracy\n",
    "    \n",
    "    out = {}\n",
    "    out['accuracy'] =  accuracy\n",
    "    out['precision'] = precision\n",
    "    out['recall'] = recall\n",
    "    out['f_measure'] = f_measure\n",
    "    out['sensitivity'] = sensitivity\n",
    "    out['specificity'] = specificity\n",
    "    out['error_rate'] = error_rate\n",
    "    \n",
    "    return out"
   ]
  },
  {
   "cell_type": "markdown",
   "metadata": {},
   "source": [
    "### 1. Create Models"
   ]
  },
  {
   "cell_type": "markdown",
   "metadata": {},
   "source": [
    "#### 1.1 SVM"
   ]
  },
  {
   "cell_type": "markdown",
   "metadata": {},
   "source": [
    "For Support Vector Machines modeling, we will run our test and train data through each one of the 4 kernels (Linear, Polynomial, Radial basis function, Sigmoid) and compare them against one another based on model evaluations. Here are the basic definition for each kernel:  \n",
    "Linear Kernel: K(X,Y)=X^T*Y  \n",
    "Polynomial kernel: K(X,Y)=(γ⋅X^T*Y+r)d,γ>0  \n",
    "Radial basis function (RBF) Kernel: K(X,Y)=exp(∥X−Y∥^2/2σ^2) which in simple form can be written as exp(−γ⋅∥X−Y∥^2),γ>0  \n",
    "Sigmoid Kernel: K(X,Y)=tanh(γ⋅X^T*Y+r) which is similar to the sigmoid function in logistic regression.  \n",
    "  \n",
    "Here r, d, and γ are kernel parameters.  \n",
    "  \n",
    "(from Ashok Choudhary, https://stats.stackexchange.com/questions/90736/the-difference-of-kernels-in-svm)"
   ]
  },
  {
   "cell_type": "code",
   "execution_count": 16,
   "metadata": {},
   "outputs": [
    {
     "name": "stdout",
     "output_type": "stream",
     "text": [
      "SVM using poly kernel : 83.47 percent.\n",
      "Execution time of SVM using POLY as kernel is:  00:01:08\n"
     ]
    }
   ],
   "source": [
    "st_svm_poly = time.time()\n",
    "# Poly kernal\n",
    "svm_clf_poly = SVC(kernel = 'poly', C = 1, tol = 1e-3)\n",
    "svm_clf_poly.fit(normalized_xtrain, ytrain)\n",
    "svm_clf_poly_pred = svm_clf_poly.predict(normalized_xtest)\n",
    "SVM_poly = model_eval(ytest, svm_clf_poly_pred)\n",
    "print('SVM using poly kernel : %.2f percent.' % (round(SVM_poly['accuracy']*100,2)))\n",
    "\n",
    "et_svm_poly = time.time()\n",
    "time_execution_svm_poly = exec_time(st_svm_poly, et_svm_poly)\n",
    "\n",
    "print('Execution time of SVM using POLY as kernel is: ', time_execution_svm_poly)"
   ]
  },
  {
   "cell_type": "markdown",
   "metadata": {},
   "source": [
    "Creating a model for SVM using `poly` as kernel with `C` = 1, and `tol` = 1e-3. The time of execution of this model is also stored in a variable `time_execution_svm_poly` so that we can compare all the classifiers with one another."
   ]
  },
  {
   "cell_type": "code",
   "execution_count": 16,
   "metadata": {},
   "outputs": [
    {
     "name": "stdout",
     "output_type": "stream",
     "text": [
      "SVM using linear kernel : 83.65 percent.\n",
      "Execution time of SVM using LINEAR as kernel is:  00:00:55\n"
     ]
    }
   ],
   "source": [
    "st_svm_linear = time.time()\n",
    "# Linear kernel\n",
    "svm_clf_linear = SVC(kernel = 'linear', C = 1, tol = 1e-3)\n",
    "\n",
    "svm_clf_linear.fit(normalized_xtrain, ytrain)\n",
    "svm_clf_linear_pred = svm_clf_linear.predict(normalized_xtest)\n",
    "\n",
    "SVM_linear = model_eval(ytest, svm_clf_linear_pred)\n",
    "print('SVM using linear kernel : %.2f percent.' % (round(SVM_linear['accuracy']*100,2)))\n",
    "\n",
    "et_svm_linear = time.time()\n",
    "time_execution_svm_linear = exec_time(st_svm_linear, et_svm_linear)\n",
    "\n",
    "print('Execution time of SVM using LINEAR as kernel is: ', time_execution_svm_linear)"
   ]
  },
  {
   "cell_type": "markdown",
   "metadata": {},
   "source": [
    "Creating a model for SVM using `linear` as kernel with `C` = 1, and `tol` = 1e-3. The time of execution of this model is also stored in a variable `time_execution_svm_linear`."
   ]
  },
  {
   "cell_type": "code",
   "execution_count": 14,
   "metadata": {},
   "outputs": [
    {
     "name": "stdout",
     "output_type": "stream",
     "text": [
      "SVM using rbf kernel : 84.24 percent.\n",
      "Execution time of SVM using RBF as kernel is:  00:01:30\n"
     ]
    }
   ],
   "source": [
    "st_svm_rbf = time.time()\n",
    "# rbf kernal\n",
    "svm_clf_rbf = SVC(kernel = 'rbf', C = 1, tol = 1e-3)\n",
    "\n",
    "svm_clf_rbf.fit(normalized_xtrain, ytrain)\n",
    "svm_clf_rbf_pred = svm_clf_rbf.predict(normalized_xtest)\n",
    "\n",
    "SVM_rbf = model_eval(ytest, svm_clf_rbf_pred)\n",
    "print('SVM using rbf kernel : %.2f percent.' % (round(SVM_rbf['accuracy']*100,2)))\n",
    "et_svm_rbf = time.time()\n",
    "\n",
    "time_execution_svm_rbf = exec_time(st_svm_rbf, et_svm_rbf)\n",
    "\n",
    "print('Execution time of SVM using RBF as kernel is: ', time_execution_svm_rbf)"
   ]
  },
  {
   "cell_type": "markdown",
   "metadata": {},
   "source": [
    "Creating a model for SVM using `RBF` as kernel with `C` = 1, and `tol` = 1e-3. The time of execution of this model is also stored in a variable `time_execution_svm_rbf`."
   ]
  },
  {
   "cell_type": "code",
   "execution_count": null,
   "metadata": {
    "collapsed": true
   },
   "outputs": [],
   "source": []
  },
  {
   "cell_type": "code",
   "execution_count": 17,
   "metadata": {},
   "outputs": [
    {
     "name": "stdout",
     "output_type": "stream",
     "text": [
      "SVM using sigmoid kernel : 77.76 percent.\n",
      "Execution time of SVM using SIGMOID as kernel is:  00:01:28\n"
     ]
    }
   ],
   "source": [
    "st_svm_sigmoid = time.time()\n",
    "svm_clf_sigmoid = SVC(kernel = 'sigmoid', C = 1, tol = 1e-3)\n",
    "svm_clf_sigmoid.fit(normalized_xtrain, ytrain)\n",
    "svm_clf_sigmoid_pred = svm_clf_sigmoid.predict(normalized_xtest)\n",
    "SVM_sigmoid = model_eval(ytest, svm_clf_sigmoid_pred)\n",
    "print('SVM using sigmoid kernel : %.2f percent.' % (round(SVM_sigmoid['accuracy']*100,2)))\n",
    "\n",
    "et_svm_sigmoid = time.time()\n",
    "time_execution_svm_sigmoid = exec_time(st_svm_sigmoid, et_svm_sigmoid)\n",
    "\n",
    "print('Execution time of SVM using SIGMOID as kernel is: ', time_execution_svm_sigmoid)"
   ]
  },
  {
   "cell_type": "markdown",
   "metadata": {},
   "source": [
    "Creating a model for SVM using `sigmoid` as kernel with `C` = 1, and `tol` = 1e-3. The time of execution of this model is also stored in a variable `time_execution_svm_sigmoid`."
   ]
  },
  {
   "cell_type": "code",
   "execution_count": 18,
   "metadata": {},
   "outputs": [
    {
     "data": {
      "text/html": [
       "<div>\n",
       "<style scoped>\n",
       "    .dataframe tbody tr th:only-of-type {\n",
       "        vertical-align: middle;\n",
       "    }\n",
       "\n",
       "    .dataframe tbody tr th {\n",
       "        vertical-align: top;\n",
       "    }\n",
       "\n",
       "    .dataframe thead th {\n",
       "        text-align: right;\n",
       "    }\n",
       "</style>\n",
       "<table border=\"1\" class=\"dataframe\">\n",
       "  <thead>\n",
       "    <tr style=\"text-align: right;\">\n",
       "      <th></th>\n",
       "      <th>accuracy</th>\n",
       "      <th>precision</th>\n",
       "      <th>recall</th>\n",
       "      <th>f_measure</th>\n",
       "      <th>sensitivity</th>\n",
       "      <th>specificity</th>\n",
       "      <th>error_rate</th>\n",
       "      <th>Execution Time</th>\n",
       "    </tr>\n",
       "  </thead>\n",
       "  <tbody>\n",
       "    <tr>\n",
       "      <td>SVM_rbf</td>\n",
       "      <td>0.8424</td>\n",
       "      <td>0.7209</td>\n",
       "      <td>0.5345</td>\n",
       "      <td>0.6139</td>\n",
       "      <td>0.5345</td>\n",
       "      <td>0.9367</td>\n",
       "      <td>0.1576</td>\n",
       "      <td>00:01:30</td>\n",
       "    </tr>\n",
       "    <tr>\n",
       "      <td>SVM_linear</td>\n",
       "      <td>0.8365</td>\n",
       "      <td>0.6925</td>\n",
       "      <td>0.5435</td>\n",
       "      <td>0.6090</td>\n",
       "      <td>0.5435</td>\n",
       "      <td>0.9261</td>\n",
       "      <td>0.1635</td>\n",
       "      <td>00:01:41</td>\n",
       "    </tr>\n",
       "    <tr>\n",
       "      <td>SVM_poly</td>\n",
       "      <td>0.8347</td>\n",
       "      <td>0.7015</td>\n",
       "      <td>0.5127</td>\n",
       "      <td>0.5925</td>\n",
       "      <td>0.5127</td>\n",
       "      <td>0.9332</td>\n",
       "      <td>0.1653</td>\n",
       "      <td>00:01:08</td>\n",
       "    </tr>\n",
       "    <tr>\n",
       "      <td>SVM_sigmoid</td>\n",
       "      <td>0.7776</td>\n",
       "      <td>0.5263</td>\n",
       "      <td>0.5097</td>\n",
       "      <td>0.5179</td>\n",
       "      <td>0.5097</td>\n",
       "      <td>0.8596</td>\n",
       "      <td>0.2224</td>\n",
       "      <td>00:01:28</td>\n",
       "    </tr>\n",
       "  </tbody>\n",
       "</table>\n",
       "</div>"
      ],
      "text/plain": [
       "             accuracy  precision  recall  f_measure  sensitivity  specificity  \\\n",
       "SVM_rbf        0.8424     0.7209  0.5345     0.6139       0.5345       0.9367   \n",
       "SVM_linear     0.8365     0.6925  0.5435     0.6090       0.5435       0.9261   \n",
       "SVM_poly       0.8347     0.7015  0.5127     0.5925       0.5127       0.9332   \n",
       "SVM_sigmoid    0.7776     0.5263  0.5097     0.5179       0.5097       0.8596   \n",
       "\n",
       "             error_rate Execution Time  \n",
       "SVM_rbf          0.1576       00:01:30  \n",
       "SVM_linear       0.1635       00:01:41  \n",
       "SVM_poly         0.1653       00:01:08  \n",
       "SVM_sigmoid      0.2224       00:01:28  "
      ]
     },
     "execution_count": 18,
     "metadata": {},
     "output_type": "execute_result"
    }
   ],
   "source": [
    "overall_svm = round(pd.DataFrame([SVM_rbf, SVM_linear, SVM_poly, SVM_sigmoid], index = ['SVM_rbf','SVM_linear', 'SVM_poly', 'SVM_sigmoid']),4)\n",
    "\n",
    "overall_svm['Execution Time'] = [time_execution_svm_rbf, time_execution_svm_linear,\n",
    "                            time_execution_svm_poly, time_execution_svm_sigmoid]\n",
    "\n",
    "overall_svm"
   ]
  },
  {
   "cell_type": "markdown",
   "metadata": {},
   "source": [
    "Creating a dataframe of evaluation for all the SVM classifiers (`RBF`, `linear`, `poly`, and `sigmoid`). From this dataframe we can compare all the SVM classifiers. In all of the above classifiers we can see that the best accuracy is given by `SVM_rbf` which is `0.8242` and it has taken `83 sec` while the the `SVM_poly` has taken the least time of execution which is `71 sec` but the accuracy (`0.8347`) of this model is not that good as of `SVM_rbf`."
   ]
  },
  {
   "cell_type": "markdown",
   "metadata": {},
   "source": [
    "There are a few important points we can draw from this results:  \n",
    "-SVM_rbf has the highest accuracy, precision, specificivity, f_measure and lowest error rate overall.  \n",
    "-SVM_linear yields the second highest overal results and outperform SVM_rbf on sensitivity metric. It means SVM_linear predicts slightly better in term of correctly predicting the number of adults who are making >50k per year out of all the adults with >50k income predicted.  \n",
    "-SVM_sigmoid has the worst performance metrics.  \n",
    "In conclusion, SVM_rbf and SVM_linear is pretty much on par with each other. It depends on which metric we prioritise to choose one over another. If we prioritize true positive (as known as sensitivity), then SVM_linear might fit better. Otherwise, nothing could go wrong with SVM_rbf.  \n",
    "  \n",
    "(https://towardsdatascience.com/accuracy-recall-precision-f-score-specificity-which-to-optimize-on-867d3f11124)"
   ]
  },
  {
   "cell_type": "markdown",
   "metadata": {},
   "source": [
    "#### 1.2 Logistic Regression"
   ]
  },
  {
   "cell_type": "markdown",
   "metadata": {},
   "source": [
    "For logistic regression modeling, we are going to use both of L1 and L2 regulation methods and compare their performance metrics against each other. In short, L1 technique uses Lasso regression by adding absolute value of magnitude of coefficient as penalty to the loss function. L2 technique uses Ridge regression by adding squared magnitude of coefficient as penalty term to the loss function. Both techniques are very useful in dealing with a large amount of features in dataset. The key differnce between these two methods is that Lasso shrinks the less important feature's coefficient to zero that would remove some feature altogether. So L1 technique would work best if we are dealing with a huge amount of features. On the other hand, L2 is known for avoiding over-fitting issue by measuring and adding weight for features.    \n",
    "(Nagpal, https://towardsdatascience.com/l1-and-l2-regularization-methods-ce25e7fc831c)\n"
   ]
  },
  {
   "cell_type": "code",
   "execution_count": 19,
   "metadata": {},
   "outputs": [
    {
     "name": "stdout",
     "output_type": "stream",
     "text": [
      "Logistic Regression : 83.82 percent.\n"
     ]
    },
    {
     "data": {
      "text/plain": [
       "'00:00:01'"
      ]
     },
     "execution_count": 19,
     "metadata": {},
     "output_type": "execute_result"
    }
   ],
   "source": [
    "st_log_reg_penalty_l2 = time.time()\n",
    "\n",
    "log_reg_penalty_l2 = LogisticRegression(penalty = 'l2', tol = 1e-4, fit_intercept = True,  solver = 'lbfgs')\n",
    "log_reg_penalty_l2.fit(normalized_xtrain, ytrain)\n",
    "\n",
    "log_reg_penalty_l2_pred = log_reg_penalty_l2.predict(normalized_xtest)\n",
    "logistic_reg_penalty_2 = model_eval(ytest, log_reg_penalty_l2_pred)\n",
    "\n",
    "print('Logistic Regression : %.2f percent.' % (round(logistic_reg_penalty_2['accuracy']*100,3)))\n",
    "\n",
    "et_log_reg_penalty_l2 = time.time()\n",
    "time_execution_log_reg_penalty_l2 = exec_time(st_log_reg_penalty_l2, et_log_reg_penalty_l2)\n",
    "\n",
    "time_execution_log_reg_penalty_l2"
   ]
  },
  {
   "cell_type": "markdown",
   "metadata": {},
   "source": [
    "Creating a model for Logistic Regression using `l2` as `penalty`, `fit_intercept` = True,  `solver` = 'lbfgs', and `tol` = 1e-4. The time of execution of this model is also stored in a variable `time_execution_log_reg_penalty_l2`."
   ]
  },
  {
   "cell_type": "code",
   "execution_count": 20,
   "metadata": {},
   "outputs": [
    {
     "name": "stdout",
     "output_type": "stream",
     "text": [
      "Logistic Regression : 83.86 percent.\n"
     ]
    },
    {
     "name": "stderr",
     "output_type": "stream",
     "text": [
      "C:\\Users\\LAYI\\Anaconda3\\lib\\site-packages\\sklearn\\linear_model\\sag.py:337: ConvergenceWarning: The max_iter was reached which means the coef_ did not converge\n",
      "  \"the coef_ did not converge\", ConvergenceWarning)\n"
     ]
    },
    {
     "data": {
      "text/plain": [
       "'00:00:08'"
      ]
     },
     "execution_count": 20,
     "metadata": {},
     "output_type": "execute_result"
    }
   ],
   "source": [
    "st_log_reg_penalty_l1 = time.time()\n",
    "\n",
    "log_reg_penalty_l1 = LogisticRegression(penalty = 'l1', tol = 1e-6, fit_intercept = True,  solver = 'saga')\n",
    "log_reg_penalty_l1.fit(normalized_xtrain, ytrain)\n",
    "\n",
    "log_reg_penalty_l1_pred = log_reg_penalty_l1.predict(normalized_xtest)\n",
    "logistic_reg_penalty_1 = model_eval(ytest, log_reg_penalty_l1_pred)\n",
    "\n",
    "print('Logistic Regression : %.2f percent.' % (round(logistic_reg_penalty_1['accuracy']*100,3)))\n",
    "\n",
    "et_log_reg_penalty_l1 = time.time()\n",
    "time_execution_log_reg_penalty_l1 = exec_time(st_log_reg_penalty_l1, et_log_reg_penalty_l1)\n",
    "\n",
    "time_execution_log_reg_penalty_l1"
   ]
  },
  {
   "cell_type": "markdown",
   "metadata": {},
   "source": [
    "Creating a model for Logistic Regression using `l1` as `penalty`, `fit_intercept` = True,  `solver` = `'saga'`, and `tol` = `1e-6`. The time of execution of this model is also stored in a variable `time_execution_log_reg_penalty_l1`."
   ]
  },
  {
   "cell_type": "code",
   "execution_count": 21,
   "metadata": {},
   "outputs": [
    {
     "data": {
      "text/html": [
       "<div>\n",
       "<style scoped>\n",
       "    .dataframe tbody tr th:only-of-type {\n",
       "        vertical-align: middle;\n",
       "    }\n",
       "\n",
       "    .dataframe tbody tr th {\n",
       "        vertical-align: top;\n",
       "    }\n",
       "\n",
       "    .dataframe thead th {\n",
       "        text-align: right;\n",
       "    }\n",
       "</style>\n",
       "<table border=\"1\" class=\"dataframe\">\n",
       "  <thead>\n",
       "    <tr style=\"text-align: right;\">\n",
       "      <th></th>\n",
       "      <th>accuracy</th>\n",
       "      <th>precision</th>\n",
       "      <th>recall</th>\n",
       "      <th>f_measure</th>\n",
       "      <th>sensitivity</th>\n",
       "      <th>specificity</th>\n",
       "      <th>error_rate</th>\n",
       "      <th>Execution Time</th>\n",
       "    </tr>\n",
       "  </thead>\n",
       "  <tbody>\n",
       "    <tr>\n",
       "      <td>log_reg_penalty_l2</td>\n",
       "      <td>0.8382</td>\n",
       "      <td>0.6935</td>\n",
       "      <td>0.5547</td>\n",
       "      <td>0.6164</td>\n",
       "      <td>0.5547</td>\n",
       "      <td>0.9250</td>\n",
       "      <td>0.1618</td>\n",
       "      <td>00:00:01</td>\n",
       "    </tr>\n",
       "    <tr>\n",
       "      <td>log_reg_penalty_l1</td>\n",
       "      <td>0.8386</td>\n",
       "      <td>0.6952</td>\n",
       "      <td>0.5540</td>\n",
       "      <td>0.6166</td>\n",
       "      <td>0.5540</td>\n",
       "      <td>0.9257</td>\n",
       "      <td>0.1614</td>\n",
       "      <td>00:00:08</td>\n",
       "    </tr>\n",
       "  </tbody>\n",
       "</table>\n",
       "</div>"
      ],
      "text/plain": [
       "                    accuracy  precision  recall  f_measure  sensitivity  \\\n",
       "log_reg_penalty_l2    0.8382     0.6935  0.5547     0.6164       0.5547   \n",
       "log_reg_penalty_l1    0.8386     0.6952  0.5540     0.6166       0.5540   \n",
       "\n",
       "                    specificity  error_rate Execution Time  \n",
       "log_reg_penalty_l2       0.9250      0.1618       00:00:01  \n",
       "log_reg_penalty_l1       0.9257      0.1614       00:00:08  "
      ]
     },
     "execution_count": 21,
     "metadata": {},
     "output_type": "execute_result"
    }
   ],
   "source": [
    "overall_logreg = round(pd.DataFrame([logistic_reg_penalty_2, logistic_reg_penalty_1],\n",
    "                                 index = ['log_reg_penalty_l2', 'log_reg_penalty_l1']),4)\n",
    "\n",
    "overall_logreg['Execution Time'] = [time_execution_log_reg_penalty_l2, time_execution_log_reg_penalty_l1]\n",
    "overall_logreg"
   ]
  },
  {
   "cell_type": "markdown",
   "metadata": {},
   "source": [
    "Creating a dataframe of evaluation for all the Logistics Regression models (`log_reg_penalty_l2`, and `log_reg_penalty_l1`). From this dataframe we can compare all the Logistic Regression models. In both of the above models we can see that the difference in accuracy of both the models is not that significant but `log_reg_penalty_l2` has taken a very less time in executing. the time of execution `log_reg_penalty_l2` and `log_reg_penalty_l1` is `2 sec` and `11 sec` respectively. So in both the models the best one is `log_reg_penalty_l2` because the accuracy as well as the time of execution is better than `log_reg_penalty_l1`. "
   ]
  },
  {
   "cell_type": "markdown",
   "metadata": {},
   "source": [
    "The results are very similiar for both L2 and L1 in term of performance metrics. Again, the only difference between these two method is their penalty term (squared vs. absolute) multiplied by a Lambda. In this case, lambda is close to zero which make both methods generating similiar performance metrics. Hence both L1 and L2 avoid overfitting issue successfully."
   ]
  },
  {
   "cell_type": "code",
   "execution_count": 22,
   "metadata": {},
   "outputs": [
    {
     "data": {
      "text/html": [
       "<div>\n",
       "<style scoped>\n",
       "    .dataframe tbody tr th:only-of-type {\n",
       "        vertical-align: middle;\n",
       "    }\n",
       "\n",
       "    .dataframe tbody tr th {\n",
       "        vertical-align: top;\n",
       "    }\n",
       "\n",
       "    .dataframe thead th {\n",
       "        text-align: right;\n",
       "    }\n",
       "</style>\n",
       "<table border=\"1\" class=\"dataframe\">\n",
       "  <thead>\n",
       "    <tr style=\"text-align: right;\">\n",
       "      <th></th>\n",
       "      <th>accuracy</th>\n",
       "      <th>precision</th>\n",
       "      <th>recall</th>\n",
       "      <th>f_measure</th>\n",
       "      <th>sensitivity</th>\n",
       "      <th>specificity</th>\n",
       "      <th>error_rate</th>\n",
       "      <th>Execution Time</th>\n",
       "    </tr>\n",
       "  </thead>\n",
       "  <tbody>\n",
       "    <tr>\n",
       "      <td>SVM_rbf</td>\n",
       "      <td>0.8424</td>\n",
       "      <td>0.7209</td>\n",
       "      <td>0.5345</td>\n",
       "      <td>0.6139</td>\n",
       "      <td>0.5345</td>\n",
       "      <td>0.9367</td>\n",
       "      <td>0.1576</td>\n",
       "      <td>00:01:30</td>\n",
       "    </tr>\n",
       "    <tr>\n",
       "      <td>log_reg_penalty_l1</td>\n",
       "      <td>0.8386</td>\n",
       "      <td>0.6952</td>\n",
       "      <td>0.5540</td>\n",
       "      <td>0.6166</td>\n",
       "      <td>0.5540</td>\n",
       "      <td>0.9257</td>\n",
       "      <td>0.1614</td>\n",
       "      <td>00:00:08</td>\n",
       "    </tr>\n",
       "    <tr>\n",
       "      <td>log_reg_penalty_l2</td>\n",
       "      <td>0.8382</td>\n",
       "      <td>0.6935</td>\n",
       "      <td>0.5547</td>\n",
       "      <td>0.6164</td>\n",
       "      <td>0.5547</td>\n",
       "      <td>0.9250</td>\n",
       "      <td>0.1618</td>\n",
       "      <td>00:00:01</td>\n",
       "    </tr>\n",
       "    <tr>\n",
       "      <td>SVM_linear</td>\n",
       "      <td>0.8365</td>\n",
       "      <td>0.6925</td>\n",
       "      <td>0.5435</td>\n",
       "      <td>0.6090</td>\n",
       "      <td>0.5435</td>\n",
       "      <td>0.9261</td>\n",
       "      <td>0.1635</td>\n",
       "      <td>00:01:41</td>\n",
       "    </tr>\n",
       "    <tr>\n",
       "      <td>SVM_poly</td>\n",
       "      <td>0.8347</td>\n",
       "      <td>0.7015</td>\n",
       "      <td>0.5127</td>\n",
       "      <td>0.5925</td>\n",
       "      <td>0.5127</td>\n",
       "      <td>0.9332</td>\n",
       "      <td>0.1653</td>\n",
       "      <td>00:01:08</td>\n",
       "    </tr>\n",
       "    <tr>\n",
       "      <td>SVM_sigmoid</td>\n",
       "      <td>0.7776</td>\n",
       "      <td>0.5263</td>\n",
       "      <td>0.5097</td>\n",
       "      <td>0.5179</td>\n",
       "      <td>0.5097</td>\n",
       "      <td>0.8596</td>\n",
       "      <td>0.2224</td>\n",
       "      <td>00:01:28</td>\n",
       "    </tr>\n",
       "  </tbody>\n",
       "</table>\n",
       "</div>"
      ],
      "text/plain": [
       "                    accuracy  precision  recall  f_measure  sensitivity  \\\n",
       "SVM_rbf               0.8424     0.7209  0.5345     0.6139       0.5345   \n",
       "log_reg_penalty_l1    0.8386     0.6952  0.5540     0.6166       0.5540   \n",
       "log_reg_penalty_l2    0.8382     0.6935  0.5547     0.6164       0.5547   \n",
       "SVM_linear            0.8365     0.6925  0.5435     0.6090       0.5435   \n",
       "SVM_poly              0.8347     0.7015  0.5127     0.5925       0.5127   \n",
       "SVM_sigmoid           0.7776     0.5263  0.5097     0.5179       0.5097   \n",
       "\n",
       "                    specificity  error_rate Execution Time  \n",
       "SVM_rbf                  0.9367      0.1576       00:01:30  \n",
       "log_reg_penalty_l1       0.9257      0.1614       00:00:08  \n",
       "log_reg_penalty_l2       0.9250      0.1618       00:00:01  \n",
       "SVM_linear               0.9261      0.1635       00:01:41  \n",
       "SVM_poly                 0.9332      0.1653       00:01:08  \n",
       "SVM_sigmoid              0.8596      0.2224       00:01:28  "
      ]
     },
     "execution_count": 22,
     "metadata": {},
     "output_type": "execute_result"
    }
   ],
   "source": [
    "overall_eval = pd.concat([overall_svm, overall_logreg], axis = 0)\n",
    "overall_eval.sort_values('accuracy', ascending = False, inplace = True)\n",
    "\n",
    "overall_eval"
   ]
  },
  {
   "cell_type": "markdown",
   "metadata": {},
   "source": [
    "This is the dataframe of evaluation of all 6 classifiers. "
   ]
  },
  {
   "cell_type": "markdown",
   "metadata": {},
   "source": [
    "By looking at the dataframe of evaluation of all the classifiers, we can see that `SVM_rbf` has given us the highest accuracy while `log_reg_penalty_l1` and `log_reg_penalty_l2` has taken the least times of execution (`8 sec` and `1 sec`) respectively. Since the difference in the accuracy of `SVM_rbf` and `log_reg_penalty_l1` is not that big (`0.8424` for `SVM_rbf` and `0.8386` for `log_reg_penalty_l1`) as the time of their execution (`90 sec` for `SVM_rbf` and `8 sec` for `log_reg_penalty_l1`.). So from this we can conclude that `log_reg_penalty_l2` is the best model as the accuracy is also reasonable (`0.8382`) and the time it is taking in the execution is also very less (`1 sec`)."
   ]
  },
  {
   "cell_type": "markdown",
   "metadata": {
    "collapsed": true
   },
   "source": [
    "In summary, we can see that SVM and logistic regression methods produce very similiar results in term of performance, except there are a few slight differences of  1-2% points. SVM_rbf has the highest accuracy followed by Logistic Regression with L1 method. SVM_sigmoid is not a very useful method in this case.  \n",
    "In order to compare Support Vector Machine and Logistic Regression performance, we will use the best techniques performance metrics in each category, which are SVM Radical Basis Function and Logistic Regression L1 (Lasso regression).  \n",
    "SVM_rbf has a better performance than Log_reg_l1 in overall performance, except the recall and sensitivity metrics, in which log_reg_l1 is better than SVM_rbf. It means out of all adults who have >50k income, log_reg_l1 predicted correctly 55.4% and SVM_rbf predicted correctly 53.45%. Both of these methods have an average performance in detecting the true positive. Yet they did really well in detecting true negative (specificity). SVM_rbf has a 93.67% and log_reg_l1 has 92.57% in predicting correctly the adults who has < 50k income out of all adults who in realily have <50k income.  \n",
    "On the other hand, in term of efficency, SVM_rbf seems like it needs more time to execute, specifically 36s longer than the log_reg_l1 did. However, 40s proccess is not signiciantly long but it's worth mentioning when comparing these two models.  \n",
    "In conclusion, we think either of these model would fit this data effectively. SVM might have a bigger room in improving than logistic regression in some cases but it also requires a longer time to process. So if we prioritize efficency, we might want to go with logistic regression, especially in this case.\n"
   ]
  },
  {
   "cell_type": "markdown",
   "metadata": {},
   "source": [
    "### 2. Model Advantages"
   ]
  },
  {
   "cell_type": "code",
   "execution_count": 23,
   "metadata": {},
   "outputs": [
    {
     "data": {
      "text/html": [
       "<div>\n",
       "<style scoped>\n",
       "    .dataframe tbody tr th:only-of-type {\n",
       "        vertical-align: middle;\n",
       "    }\n",
       "\n",
       "    .dataframe tbody tr th {\n",
       "        vertical-align: top;\n",
       "    }\n",
       "\n",
       "    .dataframe thead th {\n",
       "        text-align: right;\n",
       "    }\n",
       "</style>\n",
       "<table border=\"1\" class=\"dataframe\">\n",
       "  <thead>\n",
       "    <tr style=\"text-align: right;\">\n",
       "      <th></th>\n",
       "      <th>accuracy</th>\n",
       "      <th>precision</th>\n",
       "      <th>recall</th>\n",
       "      <th>f_measure</th>\n",
       "      <th>sensitivity</th>\n",
       "      <th>specificity</th>\n",
       "      <th>error_rate</th>\n",
       "      <th>Execution Time</th>\n",
       "    </tr>\n",
       "  </thead>\n",
       "  <tbody>\n",
       "    <tr>\n",
       "      <td>SVM_rbf</td>\n",
       "      <td>0.8424</td>\n",
       "      <td>0.7209</td>\n",
       "      <td>0.5345</td>\n",
       "      <td>0.6139</td>\n",
       "      <td>0.5345</td>\n",
       "      <td>0.9367</td>\n",
       "      <td>0.1576</td>\n",
       "      <td>00:01:30</td>\n",
       "    </tr>\n",
       "    <tr>\n",
       "      <td>log_reg_penalty_l1</td>\n",
       "      <td>0.8386</td>\n",
       "      <td>0.6952</td>\n",
       "      <td>0.5540</td>\n",
       "      <td>0.6166</td>\n",
       "      <td>0.5540</td>\n",
       "      <td>0.9257</td>\n",
       "      <td>0.1614</td>\n",
       "      <td>00:00:08</td>\n",
       "    </tr>\n",
       "    <tr>\n",
       "      <td>log_reg_penalty_l2</td>\n",
       "      <td>0.8382</td>\n",
       "      <td>0.6935</td>\n",
       "      <td>0.5547</td>\n",
       "      <td>0.6164</td>\n",
       "      <td>0.5547</td>\n",
       "      <td>0.9250</td>\n",
       "      <td>0.1618</td>\n",
       "      <td>00:00:01</td>\n",
       "    </tr>\n",
       "    <tr>\n",
       "      <td>SVM_linear</td>\n",
       "      <td>0.8365</td>\n",
       "      <td>0.6925</td>\n",
       "      <td>0.5435</td>\n",
       "      <td>0.6090</td>\n",
       "      <td>0.5435</td>\n",
       "      <td>0.9261</td>\n",
       "      <td>0.1635</td>\n",
       "      <td>00:01:41</td>\n",
       "    </tr>\n",
       "    <tr>\n",
       "      <td>SVM_poly</td>\n",
       "      <td>0.8347</td>\n",
       "      <td>0.7015</td>\n",
       "      <td>0.5127</td>\n",
       "      <td>0.5925</td>\n",
       "      <td>0.5127</td>\n",
       "      <td>0.9332</td>\n",
       "      <td>0.1653</td>\n",
       "      <td>00:01:08</td>\n",
       "    </tr>\n",
       "    <tr>\n",
       "      <td>SVM_sigmoid</td>\n",
       "      <td>0.7776</td>\n",
       "      <td>0.5263</td>\n",
       "      <td>0.5097</td>\n",
       "      <td>0.5179</td>\n",
       "      <td>0.5097</td>\n",
       "      <td>0.8596</td>\n",
       "      <td>0.2224</td>\n",
       "      <td>00:01:28</td>\n",
       "    </tr>\n",
       "  </tbody>\n",
       "</table>\n",
       "</div>"
      ],
      "text/plain": [
       "                    accuracy  precision  recall  f_measure  sensitivity  \\\n",
       "SVM_rbf               0.8424     0.7209  0.5345     0.6139       0.5345   \n",
       "log_reg_penalty_l1    0.8386     0.6952  0.5540     0.6166       0.5540   \n",
       "log_reg_penalty_l2    0.8382     0.6935  0.5547     0.6164       0.5547   \n",
       "SVM_linear            0.8365     0.6925  0.5435     0.6090       0.5435   \n",
       "SVM_poly              0.8347     0.7015  0.5127     0.5925       0.5127   \n",
       "SVM_sigmoid           0.7776     0.5263  0.5097     0.5179       0.5097   \n",
       "\n",
       "                    specificity  error_rate Execution Time  \n",
       "SVM_rbf                  0.9367      0.1576       00:01:30  \n",
       "log_reg_penalty_l1       0.9257      0.1614       00:00:08  \n",
       "log_reg_penalty_l2       0.9250      0.1618       00:00:01  \n",
       "SVM_linear               0.9261      0.1635       00:01:41  \n",
       "SVM_poly                 0.9332      0.1653       00:01:08  \n",
       "SVM_sigmoid              0.8596      0.2224       00:01:28  "
      ]
     },
     "execution_count": 23,
     "metadata": {},
     "output_type": "execute_result"
    }
   ],
   "source": [
    "overall_eval"
   ]
  },
  {
   "cell_type": "markdown",
   "metadata": {},
   "source": [
    "In general, Support Vector Machine method has more advantages over Logistic Regression method in dealing non-linear, more complex, and larger datasets. In further details, Support vector machine uses different kernel tricks to find the best margin that seperate classes and reduce the risk of error on data while logistic regression does not, instead it creates different decision boundaries with different weights and ultilizes the relationship between variables to solve simplier and linear problems. For instance, the error rate for SVM_rbf is smaller than that of log_reg_l1, even though it is not significant because our dataset is linear and carefully processed. Therefore, there is no significant diffences in error rate between SVM and logistic regression methods we used. Also, logistic regression models are vulnerable to overfiting data while SVM has lesser risk. Another key difference between these two methods is that SVM is based on geometrical properties of the data while logistic regression is based on statistical approaches. Thus logistic regression is limited to mostly linear problems.\n",
    "  \n",
    "However, Logistic Regression might has an edge over SVM for dealing with smaller and less complex dataset. Logistic Regression models use lesser time to run than SVM models in general .For example, ff you look at the execution time for all the models, the SVM models take all over a minute with SVM_sigmoid being the highest at 01:31.  The logist regression models on the other hand seem to take only a matter of seconds where the model with the l2 penalty takes only 2 seconds.  This shows us that with this data set since the accuracies don't really differ by much between the models but the logistic regression models take a considerably shorter amount of time, the most efficient model to use in terms of accuracy and time are logistic regression models, specifically the log_reg_l1 model."
   ]
  },
  {
   "cell_type": "markdown",
   "metadata": {},
   "source": [
    "#### Advantages of SVM.\n",
    "<b>1. Stable: </b> Very stable as it depends on the support vectors only. Not influenced by any other data point including outliers.\n",
    "\n",
    "<b>2. Less risk of over-fitting: </b>SVM models have generalization in practice, the risk of over-fitting is less in SVM.\n",
    "\n",
    "<b>3. Effective with High Dimensional Spaces: </b> SVM is more effective in high dimensional spaces.\n",
    "\n",
    "<b>4. Memory Efficient: </b> SVM is relatively memory efficient."
   ]
  },
  {
   "cell_type": "markdown",
   "metadata": {},
   "source": [
    "#### Advantages of Logistic Regression.\n",
    "<b>1. Feature Importance:</b> Once logistic regression is trained, we get predicted parameters or trained weights which give us inference about the feature importance. Therefor it can be used to find out the relationship between the features. It also gives us  direction of association (positive or negative) with target variable.\n",
    "\n",
    "<b>2. Best For Linearly Separable Data:</b> \n",
    "When data is linear separable (data that can be separated using straight line). Logistic Regression proves to very effective and efficient.\n",
    "\n",
    "<b>3. Scalable Model:</b> Updating Machine Learning models is often challenging and not possible in some algorithm such as Decision Trees and Support Vector Machines (SVM). Logistic Regression can be easily updated using Stochastic Gradient Descent technique.\n",
    "\n",
    "<b>4. Probabilistic Model: </b>Unlike many classification techniques, logistic regression gives us probabilistic outcome (probabilities of each class) along with classification result (yes/no, 1/0, etc.)"
   ]
  },
  {
   "cell_type": "markdown",
   "metadata": {},
   "source": [
    "### 3. Interpret  Feature Importance"
   ]
  },
  {
   "cell_type": "markdown",
   "metadata": {},
   "source": [
    "In order to assess the importance of each individual feature in the data, we calculate the coefficients (or importance) for all features using logistic regression with L1 penalty approach."
   ]
  },
  {
   "cell_type": "code",
   "execution_count": 24,
   "metadata": {
    "collapsed": true
   },
   "outputs": [],
   "source": [
    "feature_name = xtrain.columns.values"
   ]
  },
  {
   "cell_type": "code",
   "execution_count": 46,
   "metadata": {
    "scrolled": false
   },
   "outputs": [
    {
     "data": {
      "text/html": [
       "<div>\n",
       "<style scoped>\n",
       "    .dataframe tbody tr th:only-of-type {\n",
       "        vertical-align: middle;\n",
       "    }\n",
       "\n",
       "    .dataframe tbody tr th {\n",
       "        vertical-align: top;\n",
       "    }\n",
       "\n",
       "    .dataframe thead th {\n",
       "        text-align: right;\n",
       "    }\n",
       "</style>\n",
       "<table border=\"1\" class=\"dataframe\">\n",
       "  <thead>\n",
       "    <tr style=\"text-align: right;\">\n",
       "      <th></th>\n",
       "      <th>Feature name</th>\n",
       "      <th>Coefficients</th>\n",
       "      <th>Original Feature</th>\n",
       "    </tr>\n",
       "  </thead>\n",
       "  <tbody>\n",
       "    <tr>\n",
       "      <td>1</td>\n",
       "      <td>education_num</td>\n",
       "      <td>0.828952</td>\n",
       "      <td>education_num</td>\n",
       "    </tr>\n",
       "    <tr>\n",
       "      <td>14</td>\n",
       "      <td>marital_status:Married-civ-spouse</td>\n",
       "      <td>0.636225</td>\n",
       "      <td>marital_status</td>\n",
       "    </tr>\n",
       "    <tr>\n",
       "      <td>3</td>\n",
       "      <td>hours_per_week</td>\n",
       "      <td>0.477440</td>\n",
       "      <td>hours_per_week</td>\n",
       "    </tr>\n",
       "    <tr>\n",
       "      <td>0</td>\n",
       "      <td>age</td>\n",
       "      <td>0.428732</td>\n",
       "      <td>age</td>\n",
       "    </tr>\n",
       "    <tr>\n",
       "      <td>2</td>\n",
       "      <td>sex</td>\n",
       "      <td>0.367021</td>\n",
       "      <td>sex</td>\n",
       "    </tr>\n",
       "    <tr>\n",
       "      <td>38</td>\n",
       "      <td>relationship:Wife</td>\n",
       "      <td>0.311052</td>\n",
       "      <td>relationship</td>\n",
       "    </tr>\n",
       "    <tr>\n",
       "      <td>22</td>\n",
       "      <td>occupation:Exec-managerial</td>\n",
       "      <td>0.232516</td>\n",
       "      <td>occupation</td>\n",
       "    </tr>\n",
       "    <tr>\n",
       "      <td>28</td>\n",
       "      <td>occupation:Prof-specialty</td>\n",
       "      <td>0.119014</td>\n",
       "      <td>occupation</td>\n",
       "    </tr>\n",
       "    <tr>\n",
       "      <td>34</td>\n",
       "      <td>relationship:Not-in-family</td>\n",
       "      <td>0.099446</td>\n",
       "      <td>relationship</td>\n",
       "    </tr>\n",
       "    <tr>\n",
       "      <td>31</td>\n",
       "      <td>occupation:Tech-support</td>\n",
       "      <td>0.089027</td>\n",
       "      <td>occupation</td>\n",
       "    </tr>\n",
       "    <tr>\n",
       "      <td>4</td>\n",
       "      <td>workclass:Federal-gov</td>\n",
       "      <td>0.082235</td>\n",
       "      <td>workclass</td>\n",
       "    </tr>\n",
       "    <tr>\n",
       "      <td>30</td>\n",
       "      <td>occupation:Sales</td>\n",
       "      <td>0.063816</td>\n",
       "      <td>occupation</td>\n",
       "    </tr>\n",
       "    <tr>\n",
       "      <td>29</td>\n",
       "      <td>occupation:Protective-serv</td>\n",
       "      <td>0.059074</td>\n",
       "      <td>occupation</td>\n",
       "    </tr>\n",
       "    <tr>\n",
       "      <td>8</td>\n",
       "      <td>workclass:Self-emp-inc</td>\n",
       "      <td>0.057831</td>\n",
       "      <td>workclass</td>\n",
       "    </tr>\n",
       "    <tr>\n",
       "      <td>13</td>\n",
       "      <td>marital_status:Married-AF-spouse</td>\n",
       "      <td>0.048872</td>\n",
       "      <td>marital_status</td>\n",
       "    </tr>\n",
       "    <tr>\n",
       "      <td>40</td>\n",
       "      <td>race:Asian-Pac-Islander</td>\n",
       "      <td>0.033955</td>\n",
       "      <td>race</td>\n",
       "    </tr>\n",
       "    <tr>\n",
       "      <td>45</td>\n",
       "      <td>native_country:United-States</td>\n",
       "      <td>0.031477</td>\n",
       "      <td>native_country</td>\n",
       "    </tr>\n",
       "    <tr>\n",
       "      <td>43</td>\n",
       "      <td>race:White</td>\n",
       "      <td>0.031085</td>\n",
       "      <td>race</td>\n",
       "    </tr>\n",
       "    <tr>\n",
       "      <td>21</td>\n",
       "      <td>occupation:Craft-repair</td>\n",
       "      <td>0.024450</td>\n",
       "      <td>occupation</td>\n",
       "    </tr>\n",
       "    <tr>\n",
       "      <td>7</td>\n",
       "      <td>workclass:Private</td>\n",
       "      <td>0.012833</td>\n",
       "      <td>workclass</td>\n",
       "    </tr>\n",
       "    <tr>\n",
       "      <td>33</td>\n",
       "      <td>relationship:Husband</td>\n",
       "      <td>0.010498</td>\n",
       "      <td>relationship</td>\n",
       "    </tr>\n",
       "    <tr>\n",
       "      <td>5</td>\n",
       "      <td>workclass:Local-gov</td>\n",
       "      <td>-0.009516</td>\n",
       "      <td>workclass</td>\n",
       "    </tr>\n",
       "    <tr>\n",
       "      <td>37</td>\n",
       "      <td>relationship:Unmarried</td>\n",
       "      <td>-0.016986</td>\n",
       "      <td>relationship</td>\n",
       "    </tr>\n",
       "    <tr>\n",
       "      <td>19</td>\n",
       "      <td>occupation:Adm-clerical</td>\n",
       "      <td>-0.022987</td>\n",
       "      <td>occupation</td>\n",
       "    </tr>\n",
       "    <tr>\n",
       "      <td>42</td>\n",
       "      <td>race:Other</td>\n",
       "      <td>-0.030291</td>\n",
       "      <td>race</td>\n",
       "    </tr>\n",
       "    <tr>\n",
       "      <td>10</td>\n",
       "      <td>workclass:State-gov</td>\n",
       "      <td>-0.030299</td>\n",
       "      <td>workclass</td>\n",
       "    </tr>\n",
       "    <tr>\n",
       "      <td>44</td>\n",
       "      <td>native_country:Others</td>\n",
       "      <td>-0.031477</td>\n",
       "      <td>native_country</td>\n",
       "    </tr>\n",
       "    <tr>\n",
       "      <td>39</td>\n",
       "      <td>race:Amer-Indian-Eskimo</td>\n",
       "      <td>-0.037119</td>\n",
       "      <td>race</td>\n",
       "    </tr>\n",
       "    <tr>\n",
       "      <td>41</td>\n",
       "      <td>race:Black</td>\n",
       "      <td>-0.038700</td>\n",
       "      <td>race</td>\n",
       "    </tr>\n",
       "    <tr>\n",
       "      <td>20</td>\n",
       "      <td>occupation:Armed-Forces</td>\n",
       "      <td>-0.044819</td>\n",
       "      <td>occupation</td>\n",
       "    </tr>\n",
       "    <tr>\n",
       "      <td>6</td>\n",
       "      <td>workclass:Never-worked</td>\n",
       "      <td>-0.046985</td>\n",
       "      <td>workclass</td>\n",
       "    </tr>\n",
       "    <tr>\n",
       "      <td>18</td>\n",
       "      <td>marital_status:Widowed</td>\n",
       "      <td>-0.053556</td>\n",
       "      <td>marital_status</td>\n",
       "    </tr>\n",
       "    <tr>\n",
       "      <td>32</td>\n",
       "      <td>occupation:Transport-moving</td>\n",
       "      <td>-0.055843</td>\n",
       "      <td>occupation</td>\n",
       "    </tr>\n",
       "    <tr>\n",
       "      <td>15</td>\n",
       "      <td>marital_status:Married-spouse-absent</td>\n",
       "      <td>-0.064425</td>\n",
       "      <td>marital_status</td>\n",
       "    </tr>\n",
       "    <tr>\n",
       "      <td>35</td>\n",
       "      <td>relationship:Other-relative</td>\n",
       "      <td>-0.071930</td>\n",
       "      <td>relationship</td>\n",
       "    </tr>\n",
       "    <tr>\n",
       "      <td>9</td>\n",
       "      <td>workclass:Self-emp-not-inc</td>\n",
       "      <td>-0.073915</td>\n",
       "      <td>workclass</td>\n",
       "    </tr>\n",
       "    <tr>\n",
       "      <td>25</td>\n",
       "      <td>occupation:Machine-op-inspct</td>\n",
       "      <td>-0.084678</td>\n",
       "      <td>occupation</td>\n",
       "    </tr>\n",
       "    <tr>\n",
       "      <td>17</td>\n",
       "      <td>marital_status:Separated</td>\n",
       "      <td>-0.099214</td>\n",
       "      <td>marital_status</td>\n",
       "    </tr>\n",
       "    <tr>\n",
       "      <td>11</td>\n",
       "      <td>workclass:Without-pay</td>\n",
       "      <td>-0.100227</td>\n",
       "      <td>workclass</td>\n",
       "    </tr>\n",
       "    <tr>\n",
       "      <td>27</td>\n",
       "      <td>occupation:Priv-house-serv</td>\n",
       "      <td>-0.100353</td>\n",
       "      <td>occupation</td>\n",
       "    </tr>\n",
       "    <tr>\n",
       "      <td>24</td>\n",
       "      <td>occupation:Handlers-cleaners</td>\n",
       "      <td>-0.106677</td>\n",
       "      <td>occupation</td>\n",
       "    </tr>\n",
       "    <tr>\n",
       "      <td>12</td>\n",
       "      <td>marital_status:Divorced</td>\n",
       "      <td>-0.155527</td>\n",
       "      <td>marital_status</td>\n",
       "    </tr>\n",
       "    <tr>\n",
       "      <td>23</td>\n",
       "      <td>occupation:Farming-fishing</td>\n",
       "      <td>-0.162368</td>\n",
       "      <td>occupation</td>\n",
       "    </tr>\n",
       "    <tr>\n",
       "      <td>26</td>\n",
       "      <td>occupation:Other-service</td>\n",
       "      <td>-0.270587</td>\n",
       "      <td>occupation</td>\n",
       "    </tr>\n",
       "    <tr>\n",
       "      <td>36</td>\n",
       "      <td>relationship:Own-child</td>\n",
       "      <td>-0.279455</td>\n",
       "      <td>relationship</td>\n",
       "    </tr>\n",
       "    <tr>\n",
       "      <td>16</td>\n",
       "      <td>marital_status:Never-married</td>\n",
       "      <td>-0.446502</td>\n",
       "      <td>marital_status</td>\n",
       "    </tr>\n",
       "  </tbody>\n",
       "</table>\n",
       "</div>"
      ],
      "text/plain": [
       "                            Feature name  Coefficients Original Feature\n",
       "1                          education_num      0.828952    education_num\n",
       "14     marital_status:Married-civ-spouse      0.636225   marital_status\n",
       "3                         hours_per_week      0.477440   hours_per_week\n",
       "0                                    age      0.428732              age\n",
       "2                                    sex      0.367021              sex\n",
       "38                     relationship:Wife      0.311052     relationship\n",
       "22            occupation:Exec-managerial      0.232516       occupation\n",
       "28             occupation:Prof-specialty      0.119014       occupation\n",
       "34            relationship:Not-in-family      0.099446     relationship\n",
       "31               occupation:Tech-support      0.089027       occupation\n",
       "4                  workclass:Federal-gov      0.082235        workclass\n",
       "30                      occupation:Sales      0.063816       occupation\n",
       "29            occupation:Protective-serv      0.059074       occupation\n",
       "8                 workclass:Self-emp-inc      0.057831        workclass\n",
       "13      marital_status:Married-AF-spouse      0.048872   marital_status\n",
       "40               race:Asian-Pac-Islander      0.033955             race\n",
       "45          native_country:United-States      0.031477   native_country\n",
       "43                            race:White      0.031085             race\n",
       "21               occupation:Craft-repair      0.024450       occupation\n",
       "7                      workclass:Private      0.012833        workclass\n",
       "33                  relationship:Husband      0.010498     relationship\n",
       "5                    workclass:Local-gov     -0.009516        workclass\n",
       "37                relationship:Unmarried     -0.016986     relationship\n",
       "19               occupation:Adm-clerical     -0.022987       occupation\n",
       "42                            race:Other     -0.030291             race\n",
       "10                   workclass:State-gov     -0.030299        workclass\n",
       "44                 native_country:Others     -0.031477   native_country\n",
       "39               race:Amer-Indian-Eskimo     -0.037119             race\n",
       "41                            race:Black     -0.038700             race\n",
       "20               occupation:Armed-Forces     -0.044819       occupation\n",
       "6                 workclass:Never-worked     -0.046985        workclass\n",
       "18                marital_status:Widowed     -0.053556   marital_status\n",
       "32           occupation:Transport-moving     -0.055843       occupation\n",
       "15  marital_status:Married-spouse-absent     -0.064425   marital_status\n",
       "35           relationship:Other-relative     -0.071930     relationship\n",
       "9             workclass:Self-emp-not-inc     -0.073915        workclass\n",
       "25          occupation:Machine-op-inspct     -0.084678       occupation\n",
       "17              marital_status:Separated     -0.099214   marital_status\n",
       "11                 workclass:Without-pay     -0.100227        workclass\n",
       "27            occupation:Priv-house-serv     -0.100353       occupation\n",
       "24          occupation:Handlers-cleaners     -0.106677       occupation\n",
       "12               marital_status:Divorced     -0.155527   marital_status\n",
       "23            occupation:Farming-fishing     -0.162368       occupation\n",
       "26              occupation:Other-service     -0.270587       occupation\n",
       "36                relationship:Own-child     -0.279455     relationship\n",
       "16          marital_status:Never-married     -0.446502   marital_status"
      ]
     },
     "execution_count": 46,
     "metadata": {},
     "output_type": "execute_result"
    }
   ],
   "source": [
    "summary_table = pd.DataFrame(columns = ['Feature name'], data = feature_name)\n",
    "# Creates a dataframe with a column titled 'Feature name' and row values contained in the 'feature_name' variable.\n",
    "summary_table['Coefficients'] = np.transpose(log_reg_penalty_l1.coef_)\n",
    "summary_table['Original Feature'] = 0\n",
    "\n",
    "for i, v in enumerate(summary_table['Feature name']):\n",
    "    if ':' in v:\n",
    "        summary_table['Original Feature'].loc[i] = v.split(':')[0]\n",
    "    elif '-' not in v:\n",
    "        summary_table['Original Feature'].loc[i] = v\n",
    "\n",
    "\n",
    "summary_table.sort_values('Coefficients', ascending = False, inplace = True)\n",
    "# Sorts the dataframe by index.\n",
    "        \n",
    "summary_table"
   ]
  },
  {
   "cell_type": "code",
   "execution_count": null,
   "metadata": {
    "collapsed": true
   },
   "outputs": [],
   "source": []
  },
  {
   "cell_type": "code",
   "execution_count": 47,
   "metadata": {
    "scrolled": true
   },
   "outputs": [
    {
     "data": {
      "text/html": [
       "<div>\n",
       "<style scoped>\n",
       "    .dataframe tbody tr th:only-of-type {\n",
       "        vertical-align: middle;\n",
       "    }\n",
       "\n",
       "    .dataframe tbody tr th {\n",
       "        vertical-align: top;\n",
       "    }\n",
       "\n",
       "    .dataframe thead th {\n",
       "        text-align: right;\n",
       "    }\n",
       "</style>\n",
       "<table border=\"1\" class=\"dataframe\">\n",
       "  <thead>\n",
       "    <tr style=\"text-align: right;\">\n",
       "      <th></th>\n",
       "      <th>Feature name</th>\n",
       "      <th>Coefficients</th>\n",
       "      <th>Original Feature</th>\n",
       "    </tr>\n",
       "  </thead>\n",
       "  <tbody>\n",
       "    <tr>\n",
       "      <td>1</td>\n",
       "      <td>education_num</td>\n",
       "      <td>0.828952</td>\n",
       "      <td>education_num</td>\n",
       "    </tr>\n",
       "    <tr>\n",
       "      <td>14</td>\n",
       "      <td>marital_status:Married-civ-spouse</td>\n",
       "      <td>0.636225</td>\n",
       "      <td>marital_status</td>\n",
       "    </tr>\n",
       "    <tr>\n",
       "      <td>3</td>\n",
       "      <td>hours_per_week</td>\n",
       "      <td>0.477440</td>\n",
       "      <td>hours_per_week</td>\n",
       "    </tr>\n",
       "    <tr>\n",
       "      <td>0</td>\n",
       "      <td>age</td>\n",
       "      <td>0.428732</td>\n",
       "      <td>age</td>\n",
       "    </tr>\n",
       "    <tr>\n",
       "      <td>2</td>\n",
       "      <td>sex</td>\n",
       "      <td>0.367021</td>\n",
       "      <td>sex</td>\n",
       "    </tr>\n",
       "  </tbody>\n",
       "</table>\n",
       "</div>"
      ],
      "text/plain": [
       "                         Feature name  Coefficients Original Feature\n",
       "1                       education_num      0.828952    education_num\n",
       "14  marital_status:Married-civ-spouse      0.636225   marital_status\n",
       "3                      hours_per_week      0.477440   hours_per_week\n",
       "0                                 age      0.428732              age\n",
       "2                                 sex      0.367021              sex"
      ]
     },
     "execution_count": 47,
     "metadata": {},
     "output_type": "execute_result"
    }
   ],
   "source": [
    "summary_table.head()"
   ]
  },
  {
   "cell_type": "markdown",
   "metadata": {},
   "source": [
    "In summary, the top 5 most important features that are used in classification for income using logistic regression with L1 penalty are: education_num, martial_status, hours_per_week, age, sex. The most important feature is `education_num` with a score of 0.828952. It makes sense because education is a very important factor in determining income of an individual. Adults with higher education level are likely to earn more income. The second most important is `marital_status:Married-civ-spouse` with a score of 0.636. This feature represents all adults who are married and living with their spouses. The third feature is `hours_per_week`, which represent the number of hours an individual works per week. We can see that the more an individual work in a week the more that individual will earn. The fourth importance feature is age. Older adults are likely to earn more income than younger adults. The fifth importance feature is sex. This feature has been discussed in lab one as one of the most prominent features that implies income inequality between males and females in this dataset. Thus it can be useful for classification. "
   ]
  },
  {
   "cell_type": "markdown",
   "metadata": {},
   "source": [
    "Now, we are going to visualize these important features to see how they affect the classification by logistic regression method below.  \n",
    "NOTE:  \n",
    "for income, 0 means <50k income and 1 means >50k income.  \n",
    "      for sex, 0 means female and 1 means male.  "
   ]
  },
  {
   "cell_type": "code",
   "execution_count": 32,
   "metadata": {},
   "outputs": [
    {
     "data": {
      "text/plain": [
       "<matplotlib.axes._subplots.AxesSubplot at 0x9771ec8>"
      ]
     },
     "execution_count": 32,
     "metadata": {},
     "output_type": "execute_result"
    },
    {
     "data": {
      "image/png": "[encoded data removed]",
      "text/plain": [
       "<Figure size 720x576 with 1 Axes>"
      ]
     },
     "metadata": {
      "needs_background": "light"
     },
     "output_type": "display_data"
    }
   ],
   "source": [
    "plt.figure(figsize=(10,8))\n",
    "\n",
    "sns.countplot(x = 'income', hue = 'education_num', data = data)"
   ]
  },
  {
   "cell_type": "markdown",
   "metadata": {},
   "source": [
    "This plot shows that the income group 1 ( >50k income) is dominated mostly by adults with  higher education numbers of {13,14,15,16}. While in income group 0 (<50k income), the adults associated with lower education numbers (12 or less) occupy the majority of the group. Thus, we can see that higher education level adults are likely to make more than 50k per year."
   ]
  },
  {
   "cell_type": "code",
   "execution_count": 33,
   "metadata": {},
   "outputs": [
    {
     "data": {
      "text/plain": [
       "<matplotlib.axes._subplots.AxesSubplot at 0x1bbf89b8>"
      ]
     },
     "execution_count": 33,
     "metadata": {},
     "output_type": "execute_result"
    },
    {
     "data": {
      "image/png": "[encoded data removed]",
      "text/plain": [
       "<Figure size 720x576 with 1 Axes>"
      ]
     },
     "metadata": {
      "needs_background": "light"
     },
     "output_type": "display_data"
    }
   ],
   "source": [
    "plt.figure(figsize=(10,8))\n",
    "\n",
    "sns.countplot(x = 'income', hue = 'marital_status:Married-civ-spouse', data = data)"
   ]
  },
  {
   "cell_type": "markdown",
   "metadata": {},
   "source": [
    "This plot shows that in the income group 1 ,there is significantly less adults who are not under this 'marital_status:Married-civ-spouse' and make >50k income while married adults are dominating this income group. On the other hand, in the income group 0, the adults who are not under this marital status outnumber the ones who have this status by almost twice as much. Thus we can see married adults are likely to make more than 50k per year."
   ]
  },
  {
   "cell_type": "code",
   "execution_count": 31,
   "metadata": {
    "scrolled": true
   },
   "outputs": [
    {
     "data": {
      "text/plain": [
       "Text(0.5, 0, 'income')"
      ]
     },
     "execution_count": 31,
     "metadata": {},
     "output_type": "execute_result"
    },
    {
     "data": {
      "image/png": "[encoded data removed]",
      "text/plain": [
       "<Figure size 432x288 with 2 Axes>"
      ]
     },
     "metadata": {
      "needs_background": "light"
     },
     "output_type": "display_data"
    }
   ],
   "source": [
    "plt.scatter(data['income'],data['age'], c=data['hours_per_week'], cmap='Greens')\n",
    "cbar=plt.colorbar()\n",
    "cbar.set_label('hours_per_week')\n",
    "plt.xlabel('income')\n"
   ]
  },
  {
   "cell_type": "markdown",
   "metadata": {},
   "source": [
    "We create this special plot for features 'age' and 'hours_per_week' because they are continuous variables. By looking at the color and the density of the dots in both income group, we can see the dots are thicker and deeper colored in income group 1 than that in income group 0. Therefore, we can conclude that there are more older adults in income group 1 and more adults in this group work more hours than the adutls in income group 0. Thus, older 'age' and higher 'hours_per_week' adults are likely to make >50k income."
   ]
  },
  {
   "cell_type": "code",
   "execution_count": 34,
   "metadata": {},
   "outputs": [
    {
     "data": {
      "text/plain": [
       "<matplotlib.axes._subplots.AxesSubplot at 0x1bd2b118>"
      ]
     },
     "execution_count": 34,
     "metadata": {},
     "output_type": "execute_result"
    },
    {
     "data": {
      "image/png": "[encoded data removed]",
      "text/plain": [
       "<Figure size 720x576 with 1 Axes>"
      ]
     },
     "metadata": {
      "needs_background": "light"
     },
     "output_type": "display_data"
    }
   ],
   "source": [
    "plt.figure(figsize=(10,8))\n",
    "\n",
    "sns.countplot(x = 'income', hue = 'sex', data = data)"
   ]
  },
  {
   "cell_type": "markdown",
   "metadata": {},
   "source": [
    "This plot shows that in the income group 1 (<50k), there is significantly less number of females than males. There are also noticeably more females in the income group 0 than in income group 1. Therefore, being a female is likely to be classified as <50k income. "
   ]
  },
  {
   "cell_type": "code",
   "execution_count": 51,
   "metadata": {},
   "outputs": [
    {
     "data": {
      "text/html": [
       "<div>\n",
       "<style scoped>\n",
       "    .dataframe tbody tr th:only-of-type {\n",
       "        vertical-align: middle;\n",
       "    }\n",
       "\n",
       "    .dataframe tbody tr th {\n",
       "        vertical-align: top;\n",
       "    }\n",
       "\n",
       "    .dataframe thead th {\n",
       "        text-align: right;\n",
       "    }\n",
       "</style>\n",
       "<table border=\"1\" class=\"dataframe\">\n",
       "  <thead>\n",
       "    <tr style=\"text-align: right;\">\n",
       "      <th>Coefficients</th>\n",
       "      <th>False</th>\n",
       "      <th>True</th>\n",
       "    </tr>\n",
       "    <tr>\n",
       "      <th>Original Feature</th>\n",
       "      <th></th>\n",
       "      <th></th>\n",
       "    </tr>\n",
       "  </thead>\n",
       "  <tbody>\n",
       "    <tr>\n",
       "      <td>age</td>\n",
       "      <td>1</td>\n",
       "      <td>0</td>\n",
       "    </tr>\n",
       "    <tr>\n",
       "      <td>education_num</td>\n",
       "      <td>1</td>\n",
       "      <td>0</td>\n",
       "    </tr>\n",
       "    <tr>\n",
       "      <td>hours_per_week</td>\n",
       "      <td>1</td>\n",
       "      <td>0</td>\n",
       "    </tr>\n",
       "    <tr>\n",
       "      <td>marital_status</td>\n",
       "      <td>1</td>\n",
       "      <td>6</td>\n",
       "    </tr>\n",
       "    <tr>\n",
       "      <td>native_country</td>\n",
       "      <td>0</td>\n",
       "      <td>2</td>\n",
       "    </tr>\n",
       "    <tr>\n",
       "      <td>occupation</td>\n",
       "      <td>0</td>\n",
       "      <td>14</td>\n",
       "    </tr>\n",
       "    <tr>\n",
       "      <td>race</td>\n",
       "      <td>0</td>\n",
       "      <td>5</td>\n",
       "    </tr>\n",
       "    <tr>\n",
       "      <td>relationship</td>\n",
       "      <td>0</td>\n",
       "      <td>6</td>\n",
       "    </tr>\n",
       "    <tr>\n",
       "      <td>sex</td>\n",
       "      <td>1</td>\n",
       "      <td>0</td>\n",
       "    </tr>\n",
       "    <tr>\n",
       "      <td>workclass</td>\n",
       "      <td>0</td>\n",
       "      <td>8</td>\n",
       "    </tr>\n",
       "  </tbody>\n",
       "</table>\n",
       "</div>"
      ],
      "text/plain": [
       "Coefficients      False  True \n",
       "Original Feature              \n",
       "age                   1      0\n",
       "education_num         1      0\n",
       "hours_per_week        1      0\n",
       "marital_status        1      6\n",
       "native_country        0      2\n",
       "occupation            0     14\n",
       "race                  0      5\n",
       "relationship          0      6\n",
       "sex                   1      0\n",
       "workclass             0      8"
      ]
     },
     "execution_count": 51,
     "metadata": {},
     "output_type": "execute_result"
    }
   ],
   "source": [
    "pd.crosstab(summary_table['Original Feature'], summary_table['Coefficients'] < 0.35)"
   ]
  },
  {
   "cell_type": "markdown",
   "metadata": {},
   "source": [
    "In summary,`age`, `education_num`, `hours_per_week`, `marital_status:Married-civ-spousek`, and `sex` are the important feature in this dataset. These are important because these are the attributes which help us a lot in predicting the income of an individual. The coefficients of these features are greater than all the others which is an indication that these attributes play important role in predicting whether an individual earn more or less than 50K.\n",
    "\n",
    "It is also common sense that an individual with higher education (`education_num`) will earn more, an individual who works more hours per week (`hours_per_week`) will earn more, `age` is also a factor along with the marital status (`marital_status:Married-civ-spouse`)."
   ]
  },
  {
   "cell_type": "code",
   "execution_count": null,
   "metadata": {
    "collapsed": true
   },
   "outputs": [],
   "source": []
  },
  {
   "cell_type": "markdown",
   "metadata": {},
   "source": [
    "### 4. Interpret Support Vectors"
   ]
  },
  {
   "cell_type": "markdown",
   "metadata": {},
   "source": [
    "In this section, we will create SVM plots for some of our most importance features: age, education_num, martital_status, race, occupation to see how and why SVM choose the instances from each of these features in the proccess of classifying income groups."
   ]
  },
  {
   "cell_type": "code",
   "execution_count": 277,
   "metadata": {},
   "outputs": [
    {
     "data": {
      "text/plain": [
       "array([    7,     8,    20, ..., 22752, 22755, 22769])"
      ]
     },
     "execution_count": 277,
     "metadata": {},
     "output_type": "execute_result"
    }
   ],
   "source": [
    "svm_clf_rbf.support_"
   ]
  },
  {
   "cell_type": "code",
   "execution_count": 278,
   "metadata": {},
   "outputs": [
    {
     "data": {
      "text/plain": [
       "array([4518, 3997])"
      ]
     },
     "execution_count": 278,
     "metadata": {},
     "output_type": "execute_result"
    }
   ],
   "source": [
    "svm_clf_rbf.n_support_"
   ]
  },
  {
   "cell_type": "code",
   "execution_count": null,
   "metadata": {
    "collapsed": true
   },
   "outputs": [],
   "source": []
  },
  {
   "cell_type": "code",
   "execution_count": 279,
   "metadata": {},
   "outputs": [
    {
     "data": {
      "text/plain": [
       "array([ 0.37176699, -0.02298891,  0.71670136,  0.0543314 , -0.17584984,\n",
       "       -0.26622225, -0.01325521,  0.54639342, -0.16909956, -0.26203603,\n",
       "       -0.20693274, -0.02096109, -0.40429709, -0.0239009 ,  1.09845763,\n",
       "       -0.114764  , -0.70508145, -0.18594828, -0.16744367,  2.6646426 ,\n",
       "       -0.0114791 , -0.39118813, -0.37353122, -0.15951401, -0.21398752,\n",
       "       -0.26829728, -0.33455193, -0.06369298, -0.46408221, -0.14406879,\n",
       "       -0.34715374, -0.17425087, -0.22019846,  1.23318986, -0.58887982,\n",
       "       -0.17756775, -0.42430804, -0.35708096, -0.22840642, -0.10079318,\n",
       "       -0.1816067 , -0.33706201, -0.09294016,  0.42430804, -0.30886269,\n",
       "        0.30886269])"
      ]
     },
     "execution_count": 279,
     "metadata": {},
     "output_type": "execute_result"
    }
   ],
   "source": [
    "svm_clf_rbf.support_vectors_[0][0:]"
   ]
  },
  {
   "cell_type": "code",
   "execution_count": 292,
   "metadata": {
    "scrolled": true
   },
   "outputs": [
    {
     "name": "stderr",
     "output_type": "stream",
     "text": [
      "C:\\Users\\LAYI\\Anaconda3\\lib\\site-packages\\pandas\\core\\frame.py:4102: SettingWithCopyWarning: \n",
      "A value is trying to be set on a copy of a slice from a DataFrame\n",
      "\n",
      "See the caveats in the documentation: http://pandas.pydata.org/pandas-docs/stable/user_guide/indexing.html#returning-a-view-versus-a-copy\n",
      "  errors=errors,\n"
     ]
    },
    {
     "data": {
      "text/html": [
       "<div>\n",
       "<style scoped>\n",
       "    .dataframe tbody tr th:only-of-type {\n",
       "        vertical-align: middle;\n",
       "    }\n",
       "\n",
       "    .dataframe tbody tr th {\n",
       "        vertical-align: top;\n",
       "    }\n",
       "\n",
       "    .dataframe thead th {\n",
       "        text-align: right;\n",
       "    }\n",
       "</style>\n",
       "<table border=\"1\" class=\"dataframe\">\n",
       "  <thead>\n",
       "    <tr style=\"text-align: right;\">\n",
       "      <th></th>\n",
       "      <th>age</th>\n",
       "      <th>education_num</th>\n",
       "      <th>sex</th>\n",
       "      <th>hours_per_week</th>\n",
       "      <th>workclass:Federal-gov</th>\n",
       "      <th>workclass:Local-gov</th>\n",
       "      <th>workclass:Never-worked</th>\n",
       "      <th>workclass:Private</th>\n",
       "      <th>workclass:Self-emp-inc</th>\n",
       "      <th>workclass:Self-emp-not-inc</th>\n",
       "      <th>workclass:State-gov</th>\n",
       "      <th>workclass:Without-pay</th>\n",
       "      <th>marital_status:Divorced</th>\n",
       "      <th>marital_status:Married-AF-spouse</th>\n",
       "      <th>marital_status:Married-civ-spouse</th>\n",
       "      <th>marital_status:Married-spouse-absent</th>\n",
       "      <th>marital_status:Never-married</th>\n",
       "      <th>marital_status:Separated</th>\n",
       "      <th>marital_status:Widowed</th>\n",
       "      <th>occupation:Adm-clerical</th>\n",
       "      <th>occupation:Armed-Forces</th>\n",
       "      <th>occupation:Craft-repair</th>\n",
       "      <th>occupation:Exec-managerial</th>\n",
       "      <th>occupation:Farming-fishing</th>\n",
       "      <th>occupation:Handlers-cleaners</th>\n",
       "      <th>occupation:Machine-op-inspct</th>\n",
       "      <th>occupation:Other-service</th>\n",
       "      <th>occupation:Priv-house-serv</th>\n",
       "      <th>occupation:Prof-specialty</th>\n",
       "      <th>occupation:Protective-serv</th>\n",
       "      <th>occupation:Sales</th>\n",
       "      <th>occupation:Tech-support</th>\n",
       "      <th>occupation:Transport-moving</th>\n",
       "      <th>relationship:Husband</th>\n",
       "      <th>relationship:Not-in-family</th>\n",
       "      <th>relationship:Other-relative</th>\n",
       "      <th>relationship:Own-child</th>\n",
       "      <th>relationship:Unmarried</th>\n",
       "      <th>relationship:Wife</th>\n",
       "      <th>race:Amer-Indian-Eskimo</th>\n",
       "      <th>race:Asian-Pac-Islander</th>\n",
       "      <th>race:Black</th>\n",
       "      <th>race:Other</th>\n",
       "      <th>race:White</th>\n",
       "      <th>native_country:Others</th>\n",
       "      <th>native_country:United-States</th>\n",
       "      <th>income</th>\n",
       "    </tr>\n",
       "  </thead>\n",
       "  <tbody>\n",
       "    <tr>\n",
       "      <td>0</td>\n",
       "      <td>66</td>\n",
       "      <td>10</td>\n",
       "      <td>0</td>\n",
       "      <td>40</td>\n",
       "      <td>0</td>\n",
       "      <td>0</td>\n",
       "      <td>0</td>\n",
       "      <td>1</td>\n",
       "      <td>0</td>\n",
       "      <td>0</td>\n",
       "      <td>0</td>\n",
       "      <td>0</td>\n",
       "      <td>0</td>\n",
       "      <td>0</td>\n",
       "      <td>0</td>\n",
       "      <td>0</td>\n",
       "      <td>0</td>\n",
       "      <td>0</td>\n",
       "      <td>1</td>\n",
       "      <td>0</td>\n",
       "      <td>0</td>\n",
       "      <td>0</td>\n",
       "      <td>0</td>\n",
       "      <td>0</td>\n",
       "      <td>0</td>\n",
       "      <td>0</td>\n",
       "      <td>0</td>\n",
       "      <td>0</td>\n",
       "      <td>1</td>\n",
       "      <td>0</td>\n",
       "      <td>0</td>\n",
       "      <td>0</td>\n",
       "      <td>0</td>\n",
       "      <td>0</td>\n",
       "      <td>0</td>\n",
       "      <td>0</td>\n",
       "      <td>0</td>\n",
       "      <td>1</td>\n",
       "      <td>0</td>\n",
       "      <td>0</td>\n",
       "      <td>0</td>\n",
       "      <td>1</td>\n",
       "      <td>0</td>\n",
       "      <td>0</td>\n",
       "      <td>0</td>\n",
       "      <td>1</td>\n",
       "      <td>0</td>\n",
       "    </tr>\n",
       "    <tr>\n",
       "      <td>1</td>\n",
       "      <td>66</td>\n",
       "      <td>10</td>\n",
       "      <td>0</td>\n",
       "      <td>40</td>\n",
       "      <td>0</td>\n",
       "      <td>0</td>\n",
       "      <td>0</td>\n",
       "      <td>1</td>\n",
       "      <td>0</td>\n",
       "      <td>0</td>\n",
       "      <td>0</td>\n",
       "      <td>0</td>\n",
       "      <td>0</td>\n",
       "      <td>0</td>\n",
       "      <td>0</td>\n",
       "      <td>0</td>\n",
       "      <td>0</td>\n",
       "      <td>0</td>\n",
       "      <td>1</td>\n",
       "      <td>0</td>\n",
       "      <td>0</td>\n",
       "      <td>0</td>\n",
       "      <td>0</td>\n",
       "      <td>0</td>\n",
       "      <td>0</td>\n",
       "      <td>0</td>\n",
       "      <td>0</td>\n",
       "      <td>0</td>\n",
       "      <td>1</td>\n",
       "      <td>0</td>\n",
       "      <td>0</td>\n",
       "      <td>0</td>\n",
       "      <td>0</td>\n",
       "      <td>0</td>\n",
       "      <td>0</td>\n",
       "      <td>0</td>\n",
       "      <td>0</td>\n",
       "      <td>1</td>\n",
       "      <td>0</td>\n",
       "      <td>0</td>\n",
       "      <td>0</td>\n",
       "      <td>1</td>\n",
       "      <td>0</td>\n",
       "      <td>0</td>\n",
       "      <td>0</td>\n",
       "      <td>1</td>\n",
       "      <td>0</td>\n",
       "    </tr>\n",
       "    <tr>\n",
       "      <td>2</td>\n",
       "      <td>66</td>\n",
       "      <td>10</td>\n",
       "      <td>0</td>\n",
       "      <td>40</td>\n",
       "      <td>0</td>\n",
       "      <td>0</td>\n",
       "      <td>0</td>\n",
       "      <td>1</td>\n",
       "      <td>0</td>\n",
       "      <td>0</td>\n",
       "      <td>0</td>\n",
       "      <td>0</td>\n",
       "      <td>0</td>\n",
       "      <td>0</td>\n",
       "      <td>0</td>\n",
       "      <td>0</td>\n",
       "      <td>0</td>\n",
       "      <td>0</td>\n",
       "      <td>1</td>\n",
       "      <td>0</td>\n",
       "      <td>0</td>\n",
       "      <td>0</td>\n",
       "      <td>0</td>\n",
       "      <td>0</td>\n",
       "      <td>0</td>\n",
       "      <td>0</td>\n",
       "      <td>0</td>\n",
       "      <td>0</td>\n",
       "      <td>1</td>\n",
       "      <td>0</td>\n",
       "      <td>0</td>\n",
       "      <td>0</td>\n",
       "      <td>0</td>\n",
       "      <td>0</td>\n",
       "      <td>0</td>\n",
       "      <td>0</td>\n",
       "      <td>0</td>\n",
       "      <td>1</td>\n",
       "      <td>0</td>\n",
       "      <td>0</td>\n",
       "      <td>0</td>\n",
       "      <td>1</td>\n",
       "      <td>0</td>\n",
       "      <td>0</td>\n",
       "      <td>0</td>\n",
       "      <td>1</td>\n",
       "      <td>0</td>\n",
       "    </tr>\n",
       "    <tr>\n",
       "      <td>3</td>\n",
       "      <td>66</td>\n",
       "      <td>10</td>\n",
       "      <td>0</td>\n",
       "      <td>40</td>\n",
       "      <td>0</td>\n",
       "      <td>0</td>\n",
       "      <td>0</td>\n",
       "      <td>1</td>\n",
       "      <td>0</td>\n",
       "      <td>0</td>\n",
       "      <td>0</td>\n",
       "      <td>0</td>\n",
       "      <td>0</td>\n",
       "      <td>0</td>\n",
       "      <td>0</td>\n",
       "      <td>0</td>\n",
       "      <td>0</td>\n",
       "      <td>0</td>\n",
       "      <td>1</td>\n",
       "      <td>0</td>\n",
       "      <td>0</td>\n",
       "      <td>0</td>\n",
       "      <td>0</td>\n",
       "      <td>0</td>\n",
       "      <td>0</td>\n",
       "      <td>0</td>\n",
       "      <td>0</td>\n",
       "      <td>0</td>\n",
       "      <td>1</td>\n",
       "      <td>0</td>\n",
       "      <td>0</td>\n",
       "      <td>0</td>\n",
       "      <td>0</td>\n",
       "      <td>0</td>\n",
       "      <td>0</td>\n",
       "      <td>0</td>\n",
       "      <td>0</td>\n",
       "      <td>1</td>\n",
       "      <td>0</td>\n",
       "      <td>0</td>\n",
       "      <td>0</td>\n",
       "      <td>1</td>\n",
       "      <td>0</td>\n",
       "      <td>0</td>\n",
       "      <td>0</td>\n",
       "      <td>1</td>\n",
       "      <td>0</td>\n",
       "    </tr>\n",
       "    <tr>\n",
       "      <td>4</td>\n",
       "      <td>54</td>\n",
       "      <td>4</td>\n",
       "      <td>0</td>\n",
       "      <td>40</td>\n",
       "      <td>0</td>\n",
       "      <td>0</td>\n",
       "      <td>0</td>\n",
       "      <td>1</td>\n",
       "      <td>0</td>\n",
       "      <td>0</td>\n",
       "      <td>0</td>\n",
       "      <td>0</td>\n",
       "      <td>1</td>\n",
       "      <td>0</td>\n",
       "      <td>0</td>\n",
       "      <td>0</td>\n",
       "      <td>0</td>\n",
       "      <td>0</td>\n",
       "      <td>0</td>\n",
       "      <td>0</td>\n",
       "      <td>0</td>\n",
       "      <td>0</td>\n",
       "      <td>0</td>\n",
       "      <td>0</td>\n",
       "      <td>0</td>\n",
       "      <td>1</td>\n",
       "      <td>0</td>\n",
       "      <td>0</td>\n",
       "      <td>0</td>\n",
       "      <td>0</td>\n",
       "      <td>0</td>\n",
       "      <td>0</td>\n",
       "      <td>0</td>\n",
       "      <td>0</td>\n",
       "      <td>0</td>\n",
       "      <td>0</td>\n",
       "      <td>0</td>\n",
       "      <td>1</td>\n",
       "      <td>0</td>\n",
       "      <td>0</td>\n",
       "      <td>0</td>\n",
       "      <td>0</td>\n",
       "      <td>0</td>\n",
       "      <td>1</td>\n",
       "      <td>0</td>\n",
       "      <td>1</td>\n",
       "      <td>0</td>\n",
       "    </tr>\n",
       "  </tbody>\n",
       "</table>\n",
       "</div>"
      ],
      "text/plain": [
       "   age  education_num  sex  hours_per_week  workclass:Federal-gov  \\\n",
       "0   66             10    0              40                      0   \n",
       "1   66             10    0              40                      0   \n",
       "2   66             10    0              40                      0   \n",
       "3   66             10    0              40                      0   \n",
       "4   54              4    0              40                      0   \n",
       "\n",
       "   workclass:Local-gov  workclass:Never-worked  workclass:Private  \\\n",
       "0                    0                       0                  1   \n",
       "1                    0                       0                  1   \n",
       "2                    0                       0                  1   \n",
       "3                    0                       0                  1   \n",
       "4                    0                       0                  1   \n",
       "\n",
       "   workclass:Self-emp-inc  workclass:Self-emp-not-inc  workclass:State-gov  \\\n",
       "0                       0                           0                    0   \n",
       "1                       0                           0                    0   \n",
       "2                       0                           0                    0   \n",
       "3                       0                           0                    0   \n",
       "4                       0                           0                    0   \n",
       "\n",
       "   workclass:Without-pay  marital_status:Divorced  \\\n",
       "0                      0                        0   \n",
       "1                      0                        0   \n",
       "2                      0                        0   \n",
       "3                      0                        0   \n",
       "4                      0                        1   \n",
       "\n",
       "   marital_status:Married-AF-spouse  marital_status:Married-civ-spouse  \\\n",
       "0                                 0                                  0   \n",
       "1                                 0                                  0   \n",
       "2                                 0                                  0   \n",
       "3                                 0                                  0   \n",
       "4                                 0                                  0   \n",
       "\n",
       "   marital_status:Married-spouse-absent  marital_status:Never-married  \\\n",
       "0                                     0                             0   \n",
       "1                                     0                             0   \n",
       "2                                     0                             0   \n",
       "3                                     0                             0   \n",
       "4                                     0                             0   \n",
       "\n",
       "   marital_status:Separated  marital_status:Widowed  occupation:Adm-clerical  \\\n",
       "0                         0                       1                        0   \n",
       "1                         0                       1                        0   \n",
       "2                         0                       1                        0   \n",
       "3                         0                       1                        0   \n",
       "4                         0                       0                        0   \n",
       "\n",
       "   occupation:Armed-Forces  occupation:Craft-repair  \\\n",
       "0                        0                        0   \n",
       "1                        0                        0   \n",
       "2                        0                        0   \n",
       "3                        0                        0   \n",
       "4                        0                        0   \n",
       "\n",
       "   occupation:Exec-managerial  occupation:Farming-fishing  \\\n",
       "0                           0                           0   \n",
       "1                           0                           0   \n",
       "2                           0                           0   \n",
       "3                           0                           0   \n",
       "4                           0                           0   \n",
       "\n",
       "   occupation:Handlers-cleaners  occupation:Machine-op-inspct  \\\n",
       "0                             0                             0   \n",
       "1                             0                             0   \n",
       "2                             0                             0   \n",
       "3                             0                             0   \n",
       "4                             0                             1   \n",
       "\n",
       "   occupation:Other-service  occupation:Priv-house-serv  \\\n",
       "0                         0                           0   \n",
       "1                         0                           0   \n",
       "2                         0                           0   \n",
       "3                         0                           0   \n",
       "4                         0                           0   \n",
       "\n",
       "   occupation:Prof-specialty  occupation:Protective-serv  occupation:Sales  \\\n",
       "0                          1                           0                 0   \n",
       "1                          1                           0                 0   \n",
       "2                          1                           0                 0   \n",
       "3                          1                           0                 0   \n",
       "4                          0                           0                 0   \n",
       "\n",
       "   occupation:Tech-support  occupation:Transport-moving  relationship:Husband  \\\n",
       "0                        0                            0                     0   \n",
       "1                        0                            0                     0   \n",
       "2                        0                            0                     0   \n",
       "3                        0                            0                     0   \n",
       "4                        0                            0                     0   \n",
       "\n",
       "   relationship:Not-in-family  relationship:Other-relative  \\\n",
       "0                           0                            0   \n",
       "1                           0                            0   \n",
       "2                           0                            0   \n",
       "3                           0                            0   \n",
       "4                           0                            0   \n",
       "\n",
       "   relationship:Own-child  relationship:Unmarried  relationship:Wife  \\\n",
       "0                       0                       1                  0   \n",
       "1                       0                       1                  0   \n",
       "2                       0                       1                  0   \n",
       "3                       0                       1                  0   \n",
       "4                       0                       1                  0   \n",
       "\n",
       "   race:Amer-Indian-Eskimo  race:Asian-Pac-Islander  race:Black  race:Other  \\\n",
       "0                        0                        0           1           0   \n",
       "1                        0                        0           1           0   \n",
       "2                        0                        0           1           0   \n",
       "3                        0                        0           1           0   \n",
       "4                        0                        0           0           0   \n",
       "\n",
       "   race:White  native_country:Others  native_country:United-States  income  \n",
       "0           0                      0                             1       0  \n",
       "1           0                      0                             1       0  \n",
       "2           0                      0                             1       0  \n",
       "3           0                      0                             1       0  \n",
       "4           1                      0                             1       0  "
      ]
     },
     "execution_count": 292,
     "metadata": {},
     "output_type": "execute_result"
    }
   ],
   "source": [
    "df_tested_on = data.iloc[ytrain]\n",
    "\n",
    "df_tested_on.reset_index(drop=True, inplace=True)\n",
    "# df_tested_on.drop('Survived', axis=1, inplace=True)\n",
    "df_tested_on.head()"
   ]
  },
  {
   "cell_type": "code",
   "execution_count": 293,
   "metadata": {},
   "outputs": [
    {
     "data": {
      "text/html": [
       "<div>\n",
       "<style scoped>\n",
       "    .dataframe tbody tr th:only-of-type {\n",
       "        vertical-align: middle;\n",
       "    }\n",
       "\n",
       "    .dataframe tbody tr th {\n",
       "        vertical-align: top;\n",
       "    }\n",
       "\n",
       "    .dataframe thead th {\n",
       "        text-align: right;\n",
       "    }\n",
       "</style>\n",
       "<table border=\"1\" class=\"dataframe\">\n",
       "  <thead>\n",
       "    <tr style=\"text-align: right;\">\n",
       "      <th></th>\n",
       "      <th>age</th>\n",
       "      <th>education_num</th>\n",
       "      <th>sex</th>\n",
       "      <th>hours_per_week</th>\n",
       "      <th>workclass:Federal-gov</th>\n",
       "      <th>workclass:Local-gov</th>\n",
       "      <th>workclass:Never-worked</th>\n",
       "      <th>workclass:Private</th>\n",
       "      <th>workclass:Self-emp-inc</th>\n",
       "      <th>workclass:Self-emp-not-inc</th>\n",
       "      <th>workclass:State-gov</th>\n",
       "      <th>workclass:Without-pay</th>\n",
       "      <th>marital_status:Divorced</th>\n",
       "      <th>marital_status:Married-AF-spouse</th>\n",
       "      <th>marital_status:Married-civ-spouse</th>\n",
       "      <th>marital_status:Married-spouse-absent</th>\n",
       "      <th>marital_status:Never-married</th>\n",
       "      <th>marital_status:Separated</th>\n",
       "      <th>marital_status:Widowed</th>\n",
       "      <th>occupation:Adm-clerical</th>\n",
       "      <th>occupation:Armed-Forces</th>\n",
       "      <th>occupation:Craft-repair</th>\n",
       "      <th>occupation:Exec-managerial</th>\n",
       "      <th>occupation:Farming-fishing</th>\n",
       "      <th>occupation:Handlers-cleaners</th>\n",
       "      <th>occupation:Machine-op-inspct</th>\n",
       "      <th>occupation:Other-service</th>\n",
       "      <th>occupation:Priv-house-serv</th>\n",
       "      <th>occupation:Prof-specialty</th>\n",
       "      <th>occupation:Protective-serv</th>\n",
       "      <th>occupation:Sales</th>\n",
       "      <th>occupation:Tech-support</th>\n",
       "      <th>occupation:Transport-moving</th>\n",
       "      <th>relationship:Husband</th>\n",
       "      <th>relationship:Not-in-family</th>\n",
       "      <th>relationship:Other-relative</th>\n",
       "      <th>relationship:Own-child</th>\n",
       "      <th>relationship:Unmarried</th>\n",
       "      <th>relationship:Wife</th>\n",
       "      <th>race:Amer-Indian-Eskimo</th>\n",
       "      <th>race:Asian-Pac-Islander</th>\n",
       "      <th>race:Black</th>\n",
       "      <th>race:Other</th>\n",
       "      <th>race:White</th>\n",
       "      <th>native_country:Others</th>\n",
       "      <th>native_country:United-States</th>\n",
       "      <th>income</th>\n",
       "    </tr>\n",
       "  </thead>\n",
       "  <tbody>\n",
       "    <tr>\n",
       "      <td>7</td>\n",
       "      <td>66</td>\n",
       "      <td>10</td>\n",
       "      <td>0</td>\n",
       "      <td>40</td>\n",
       "      <td>0</td>\n",
       "      <td>0</td>\n",
       "      <td>0</td>\n",
       "      <td>1</td>\n",
       "      <td>0</td>\n",
       "      <td>0</td>\n",
       "      <td>0</td>\n",
       "      <td>0</td>\n",
       "      <td>0</td>\n",
       "      <td>0</td>\n",
       "      <td>0</td>\n",
       "      <td>0</td>\n",
       "      <td>0</td>\n",
       "      <td>0</td>\n",
       "      <td>1</td>\n",
       "      <td>0</td>\n",
       "      <td>0</td>\n",
       "      <td>0</td>\n",
       "      <td>0</td>\n",
       "      <td>0</td>\n",
       "      <td>0</td>\n",
       "      <td>0</td>\n",
       "      <td>0</td>\n",
       "      <td>0</td>\n",
       "      <td>1</td>\n",
       "      <td>0</td>\n",
       "      <td>0</td>\n",
       "      <td>0</td>\n",
       "      <td>0</td>\n",
       "      <td>0</td>\n",
       "      <td>0</td>\n",
       "      <td>0</td>\n",
       "      <td>0</td>\n",
       "      <td>1</td>\n",
       "      <td>0</td>\n",
       "      <td>0</td>\n",
       "      <td>0</td>\n",
       "      <td>1</td>\n",
       "      <td>0</td>\n",
       "      <td>0</td>\n",
       "      <td>0</td>\n",
       "      <td>1</td>\n",
       "      <td>0</td>\n",
       "    </tr>\n",
       "    <tr>\n",
       "      <td>8</td>\n",
       "      <td>66</td>\n",
       "      <td>10</td>\n",
       "      <td>0</td>\n",
       "      <td>40</td>\n",
       "      <td>0</td>\n",
       "      <td>0</td>\n",
       "      <td>0</td>\n",
       "      <td>1</td>\n",
       "      <td>0</td>\n",
       "      <td>0</td>\n",
       "      <td>0</td>\n",
       "      <td>0</td>\n",
       "      <td>0</td>\n",
       "      <td>0</td>\n",
       "      <td>0</td>\n",
       "      <td>0</td>\n",
       "      <td>0</td>\n",
       "      <td>0</td>\n",
       "      <td>1</td>\n",
       "      <td>0</td>\n",
       "      <td>0</td>\n",
       "      <td>0</td>\n",
       "      <td>0</td>\n",
       "      <td>0</td>\n",
       "      <td>0</td>\n",
       "      <td>0</td>\n",
       "      <td>0</td>\n",
       "      <td>0</td>\n",
       "      <td>1</td>\n",
       "      <td>0</td>\n",
       "      <td>0</td>\n",
       "      <td>0</td>\n",
       "      <td>0</td>\n",
       "      <td>0</td>\n",
       "      <td>0</td>\n",
       "      <td>0</td>\n",
       "      <td>0</td>\n",
       "      <td>1</td>\n",
       "      <td>0</td>\n",
       "      <td>0</td>\n",
       "      <td>0</td>\n",
       "      <td>1</td>\n",
       "      <td>0</td>\n",
       "      <td>0</td>\n",
       "      <td>0</td>\n",
       "      <td>1</td>\n",
       "      <td>0</td>\n",
       "    </tr>\n",
       "    <tr>\n",
       "      <td>20</td>\n",
       "      <td>66</td>\n",
       "      <td>10</td>\n",
       "      <td>0</td>\n",
       "      <td>40</td>\n",
       "      <td>0</td>\n",
       "      <td>0</td>\n",
       "      <td>0</td>\n",
       "      <td>1</td>\n",
       "      <td>0</td>\n",
       "      <td>0</td>\n",
       "      <td>0</td>\n",
       "      <td>0</td>\n",
       "      <td>0</td>\n",
       "      <td>0</td>\n",
       "      <td>0</td>\n",
       "      <td>0</td>\n",
       "      <td>0</td>\n",
       "      <td>0</td>\n",
       "      <td>1</td>\n",
       "      <td>0</td>\n",
       "      <td>0</td>\n",
       "      <td>0</td>\n",
       "      <td>0</td>\n",
       "      <td>0</td>\n",
       "      <td>0</td>\n",
       "      <td>0</td>\n",
       "      <td>0</td>\n",
       "      <td>0</td>\n",
       "      <td>1</td>\n",
       "      <td>0</td>\n",
       "      <td>0</td>\n",
       "      <td>0</td>\n",
       "      <td>0</td>\n",
       "      <td>0</td>\n",
       "      <td>0</td>\n",
       "      <td>0</td>\n",
       "      <td>0</td>\n",
       "      <td>1</td>\n",
       "      <td>0</td>\n",
       "      <td>0</td>\n",
       "      <td>0</td>\n",
       "      <td>1</td>\n",
       "      <td>0</td>\n",
       "      <td>0</td>\n",
       "      <td>0</td>\n",
       "      <td>1</td>\n",
       "      <td>0</td>\n",
       "    </tr>\n",
       "    <tr>\n",
       "      <td>22</td>\n",
       "      <td>66</td>\n",
       "      <td>10</td>\n",
       "      <td>0</td>\n",
       "      <td>40</td>\n",
       "      <td>0</td>\n",
       "      <td>0</td>\n",
       "      <td>0</td>\n",
       "      <td>1</td>\n",
       "      <td>0</td>\n",
       "      <td>0</td>\n",
       "      <td>0</td>\n",
       "      <td>0</td>\n",
       "      <td>0</td>\n",
       "      <td>0</td>\n",
       "      <td>0</td>\n",
       "      <td>0</td>\n",
       "      <td>0</td>\n",
       "      <td>0</td>\n",
       "      <td>1</td>\n",
       "      <td>0</td>\n",
       "      <td>0</td>\n",
       "      <td>0</td>\n",
       "      <td>0</td>\n",
       "      <td>0</td>\n",
       "      <td>0</td>\n",
       "      <td>0</td>\n",
       "      <td>0</td>\n",
       "      <td>0</td>\n",
       "      <td>1</td>\n",
       "      <td>0</td>\n",
       "      <td>0</td>\n",
       "      <td>0</td>\n",
       "      <td>0</td>\n",
       "      <td>0</td>\n",
       "      <td>0</td>\n",
       "      <td>0</td>\n",
       "      <td>0</td>\n",
       "      <td>1</td>\n",
       "      <td>0</td>\n",
       "      <td>0</td>\n",
       "      <td>0</td>\n",
       "      <td>1</td>\n",
       "      <td>0</td>\n",
       "      <td>0</td>\n",
       "      <td>0</td>\n",
       "      <td>1</td>\n",
       "      <td>0</td>\n",
       "    </tr>\n",
       "    <tr>\n",
       "      <td>25</td>\n",
       "      <td>66</td>\n",
       "      <td>10</td>\n",
       "      <td>0</td>\n",
       "      <td>40</td>\n",
       "      <td>0</td>\n",
       "      <td>0</td>\n",
       "      <td>0</td>\n",
       "      <td>1</td>\n",
       "      <td>0</td>\n",
       "      <td>0</td>\n",
       "      <td>0</td>\n",
       "      <td>0</td>\n",
       "      <td>0</td>\n",
       "      <td>0</td>\n",
       "      <td>0</td>\n",
       "      <td>0</td>\n",
       "      <td>0</td>\n",
       "      <td>0</td>\n",
       "      <td>1</td>\n",
       "      <td>0</td>\n",
       "      <td>0</td>\n",
       "      <td>0</td>\n",
       "      <td>0</td>\n",
       "      <td>0</td>\n",
       "      <td>0</td>\n",
       "      <td>0</td>\n",
       "      <td>0</td>\n",
       "      <td>0</td>\n",
       "      <td>1</td>\n",
       "      <td>0</td>\n",
       "      <td>0</td>\n",
       "      <td>0</td>\n",
       "      <td>0</td>\n",
       "      <td>0</td>\n",
       "      <td>0</td>\n",
       "      <td>0</td>\n",
       "      <td>0</td>\n",
       "      <td>1</td>\n",
       "      <td>0</td>\n",
       "      <td>0</td>\n",
       "      <td>0</td>\n",
       "      <td>1</td>\n",
       "      <td>0</td>\n",
       "      <td>0</td>\n",
       "      <td>0</td>\n",
       "      <td>1</td>\n",
       "      <td>0</td>\n",
       "    </tr>\n",
       "  </tbody>\n",
       "</table>\n",
       "</div>"
      ],
      "text/plain": [
       "    age  education_num  sex  hours_per_week  workclass:Federal-gov  \\\n",
       "7    66             10    0              40                      0   \n",
       "8    66             10    0              40                      0   \n",
       "20   66             10    0              40                      0   \n",
       "22   66             10    0              40                      0   \n",
       "25   66             10    0              40                      0   \n",
       "\n",
       "    workclass:Local-gov  workclass:Never-worked  workclass:Private  \\\n",
       "7                     0                       0                  1   \n",
       "8                     0                       0                  1   \n",
       "20                    0                       0                  1   \n",
       "22                    0                       0                  1   \n",
       "25                    0                       0                  1   \n",
       "\n",
       "    workclass:Self-emp-inc  workclass:Self-emp-not-inc  workclass:State-gov  \\\n",
       "7                        0                           0                    0   \n",
       "8                        0                           0                    0   \n",
       "20                       0                           0                    0   \n",
       "22                       0                           0                    0   \n",
       "25                       0                           0                    0   \n",
       "\n",
       "    workclass:Without-pay  marital_status:Divorced  \\\n",
       "7                       0                        0   \n",
       "8                       0                        0   \n",
       "20                      0                        0   \n",
       "22                      0                        0   \n",
       "25                      0                        0   \n",
       "\n",
       "    marital_status:Married-AF-spouse  marital_status:Married-civ-spouse  \\\n",
       "7                                  0                                  0   \n",
       "8                                  0                                  0   \n",
       "20                                 0                                  0   \n",
       "22                                 0                                  0   \n",
       "25                                 0                                  0   \n",
       "\n",
       "    marital_status:Married-spouse-absent  marital_status:Never-married  \\\n",
       "7                                      0                             0   \n",
       "8                                      0                             0   \n",
       "20                                     0                             0   \n",
       "22                                     0                             0   \n",
       "25                                     0                             0   \n",
       "\n",
       "    marital_status:Separated  marital_status:Widowed  occupation:Adm-clerical  \\\n",
       "7                          0                       1                        0   \n",
       "8                          0                       1                        0   \n",
       "20                         0                       1                        0   \n",
       "22                         0                       1                        0   \n",
       "25                         0                       1                        0   \n",
       "\n",
       "    occupation:Armed-Forces  occupation:Craft-repair  \\\n",
       "7                         0                        0   \n",
       "8                         0                        0   \n",
       "20                        0                        0   \n",
       "22                        0                        0   \n",
       "25                        0                        0   \n",
       "\n",
       "    occupation:Exec-managerial  occupation:Farming-fishing  \\\n",
       "7                            0                           0   \n",
       "8                            0                           0   \n",
       "20                           0                           0   \n",
       "22                           0                           0   \n",
       "25                           0                           0   \n",
       "\n",
       "    occupation:Handlers-cleaners  occupation:Machine-op-inspct  \\\n",
       "7                              0                             0   \n",
       "8                              0                             0   \n",
       "20                             0                             0   \n",
       "22                             0                             0   \n",
       "25                             0                             0   \n",
       "\n",
       "    occupation:Other-service  occupation:Priv-house-serv  \\\n",
       "7                          0                           0   \n",
       "8                          0                           0   \n",
       "20                         0                           0   \n",
       "22                         0                           0   \n",
       "25                         0                           0   \n",
       "\n",
       "    occupation:Prof-specialty  occupation:Protective-serv  occupation:Sales  \\\n",
       "7                           1                           0                 0   \n",
       "8                           1                           0                 0   \n",
       "20                          1                           0                 0   \n",
       "22                          1                           0                 0   \n",
       "25                          1                           0                 0   \n",
       "\n",
       "    occupation:Tech-support  occupation:Transport-moving  \\\n",
       "7                         0                            0   \n",
       "8                         0                            0   \n",
       "20                        0                            0   \n",
       "22                        0                            0   \n",
       "25                        0                            0   \n",
       "\n",
       "    relationship:Husband  relationship:Not-in-family  \\\n",
       "7                      0                           0   \n",
       "8                      0                           0   \n",
       "20                     0                           0   \n",
       "22                     0                           0   \n",
       "25                     0                           0   \n",
       "\n",
       "    relationship:Other-relative  relationship:Own-child  \\\n",
       "7                             0                       0   \n",
       "8                             0                       0   \n",
       "20                            0                       0   \n",
       "22                            0                       0   \n",
       "25                            0                       0   \n",
       "\n",
       "    relationship:Unmarried  relationship:Wife  race:Amer-Indian-Eskimo  \\\n",
       "7                        1                  0                        0   \n",
       "8                        1                  0                        0   \n",
       "20                       1                  0                        0   \n",
       "22                       1                  0                        0   \n",
       "25                       1                  0                        0   \n",
       "\n",
       "    race:Asian-Pac-Islander  race:Black  race:Other  race:White  \\\n",
       "7                         0           1           0           0   \n",
       "8                         0           1           0           0   \n",
       "20                        0           1           0           0   \n",
       "22                        0           1           0           0   \n",
       "25                        0           1           0           0   \n",
       "\n",
       "    native_country:Others  native_country:United-States  income  \n",
       "7                       0                             1       0  \n",
       "8                       0                             1       0  \n",
       "20                      0                             1       0  \n",
       "22                      0                             1       0  \n",
       "25                      0                             1       0  "
      ]
     },
     "execution_count": 293,
     "metadata": {},
     "output_type": "execute_result"
    }
   ],
   "source": [
    "df_support = df_tested_on.iloc[svm_clf_rbf.support_,:]\n",
    "df_support.head()"
   ]
  },
  {
   "cell_type": "code",
   "execution_count": 295,
   "metadata": {},
   "outputs": [
    {
     "data": {
      "text/plain": [
       "(8515, 47)"
      ]
     },
     "execution_count": 295,
     "metadata": {},
     "output_type": "execute_result"
    }
   ],
   "source": [
    "df_support.shape"
   ]
  },
  {
   "cell_type": "code",
   "execution_count": 354,
   "metadata": {},
   "outputs": [
    {
     "data": {
      "text/plain": [
       "2"
      ]
     },
     "execution_count": 354,
     "metadata": {},
     "output_type": "execute_result"
    }
   ],
   "source": [
    "len(df_support['age'].unique())"
   ]
  },
  {
   "cell_type": "code",
   "execution_count": 356,
   "metadata": {
    "collapsed": true
   },
   "outputs": [],
   "source": [
    "one_unique = []\n",
    "more_unique = []\n",
    "for i in df_support.columns:\n",
    "#     print(df_support[i].unique())\n",
    "    if len(df_support[i].unique()) == 1:\n",
    "        one_unique.append(i)\n",
    "    else:\n",
    "        more_unique.append(i)"
   ]
  },
  {
   "cell_type": "code",
   "execution_count": 363,
   "metadata": {},
   "outputs": [
    {
     "data": {
      "text/plain": [
       "['age',\n",
       " 'education_num',\n",
       " 'marital_status:Divorced',\n",
       " 'marital_status:Widowed',\n",
       " 'occupation:Machine-op-inspct',\n",
       " 'occupation:Prof-specialty',\n",
       " 'race:Black',\n",
       " 'race:White']"
      ]
     },
     "execution_count": 363,
     "metadata": {},
     "output_type": "execute_result"
    }
   ],
   "source": [
    "more_unique"
   ]
  },
  {
   "cell_type": "code",
   "execution_count": 314,
   "metadata": {},
   "outputs": [
    {
     "name": "stdout",
     "output_type": "stream",
     "text": [
      "<class 'pandas.core.frame.DataFrame'>\n",
      "Int64Index: 8515 entries, 7 to 22769\n",
      "Data columns (total 47 columns):\n",
      "age                                     8515 non-null int64\n",
      "education_num                           8515 non-null int64\n",
      "sex                                     8515 non-null int64\n",
      "hours_per_week                          8515 non-null int64\n",
      "workclass:Federal-gov                   8515 non-null int64\n",
      "workclass:Local-gov                     8515 non-null int64\n",
      "workclass:Never-worked                  8515 non-null int64\n",
      "workclass:Private                       8515 non-null int64\n",
      "workclass:Self-emp-inc                  8515 non-null int64\n",
      "workclass:Self-emp-not-inc              8515 non-null int64\n",
      "workclass:State-gov                     8515 non-null int64\n",
      "workclass:Without-pay                   8515 non-null int64\n",
      "marital_status:Divorced                 8515 non-null int64\n",
      "marital_status:Married-AF-spouse        8515 non-null int64\n",
      "marital_status:Married-civ-spouse       8515 non-null int64\n",
      "marital_status:Married-spouse-absent    8515 non-null int64\n",
      "marital_status:Never-married            8515 non-null int64\n",
      "marital_status:Separated                8515 non-null int64\n",
      "marital_status:Widowed                  8515 non-null int64\n",
      "occupation:Adm-clerical                 8515 non-null int64\n",
      "occupation:Armed-Forces                 8515 non-null int64\n",
      "occupation:Craft-repair                 8515 non-null int64\n",
      "occupation:Exec-managerial              8515 non-null int64\n",
      "occupation:Farming-fishing              8515 non-null int64\n",
      "occupation:Handlers-cleaners            8515 non-null int64\n",
      "occupation:Machine-op-inspct            8515 non-null int64\n",
      "occupation:Other-service                8515 non-null int64\n",
      "occupation:Priv-house-serv              8515 non-null int64\n",
      "occupation:Prof-specialty               8515 non-null int64\n",
      "occupation:Protective-serv              8515 non-null int64\n",
      "occupation:Sales                        8515 non-null int64\n",
      "occupation:Tech-support                 8515 non-null int64\n",
      "occupation:Transport-moving             8515 non-null int64\n",
      "relationship:Husband                    8515 non-null int64\n",
      "relationship:Not-in-family              8515 non-null int64\n",
      "relationship:Other-relative             8515 non-null int64\n",
      "relationship:Own-child                  8515 non-null int64\n",
      "relationship:Unmarried                  8515 non-null int64\n",
      "relationship:Wife                       8515 non-null int64\n",
      "race:Amer-Indian-Eskimo                 8515 non-null int64\n",
      "race:Asian-Pac-Islander                 8515 non-null int64\n",
      "race:Black                              8515 non-null int64\n",
      "race:Other                              8515 non-null int64\n",
      "race:White                              8515 non-null int64\n",
      "native_country:Others                   8515 non-null int64\n",
      "native_country:United-States            8515 non-null int64\n",
      "income                                  8515 non-null int64\n",
      "dtypes: int64(47)\n",
      "memory usage: 3.1 MB\n"
     ]
    },
    {
     "name": "stderr",
     "output_type": "stream",
     "text": [
      "C:\\Users\\LAYI\\Anaconda3\\lib\\site-packages\\ipykernel_launcher.py:1: SettingWithCopyWarning: \n",
      "A value is trying to be set on a copy of a slice from a DataFrame.\n",
      "Try using .loc[row_indexer,col_indexer] = value instead\n",
      "\n",
      "See the caveats in the documentation: http://pandas.pydata.org/pandas-docs/stable/user_guide/indexing.html#returning-a-view-versus-a-copy\n",
      "  \"\"\"Entry point for launching an IPython kernel.\n"
     ]
    }
   ],
   "source": [
    "df_support['income'] = y[svm_clf_rbf.support_] # add back in the 'Survived' Column to the pandas dataframe\n",
    "# data['income'] = y # also add it back in for the original data\n",
    "df_support.info()"
   ]
  },
  {
   "cell_type": "code",
   "execution_count": null,
   "metadata": {
    "collapsed": true
   },
   "outputs": [],
   "source": []
  },
  {
   "cell_type": "code",
   "execution_count": 364,
   "metadata": {
    "scrolled": false
   },
   "outputs": [
    {
     "data": {
      "image/png": "[encoded data removed]",
      "text/plain": [
       "<Figure size 720x288 with 2 Axes>"
      ]
     },
     "metadata": {
      "needs_background": "light"
     },
     "output_type": "display_data"
    },
    {
     "data": {
      "image/png": "[encoded data removed]",
      "text/plain": [
       "<Figure size 720x288 with 2 Axes>"
      ]
     },
     "metadata": {
      "needs_background": "light"
     },
     "output_type": "display_data"
    },
    {
     "data": {
      "image/png": "[encoded data removed]",
      "text/plain": [
       "<Figure size 720x288 with 2 Axes>"
      ]
     },
     "metadata": {
      "needs_background": "light"
     },
     "output_type": "display_data"
    },
    {
     "data": {
      "image/png": "[encoded data removed]",
      "text/plain": [
       "<Figure size 720x288 with 2 Axes>"
      ]
     },
     "metadata": {
      "needs_background": "light"
     },
     "output_type": "display_data"
    },
    {
     "data": {
      "image/png": "[encoded data removed]",
      "text/plain": [
       "<Figure size 720x288 with 2 Axes>"
      ]
     },
     "metadata": {
      "needs_background": "light"
     },
     "output_type": "display_data"
    },
    {
     "data": {
      "image/png": "[encoded data removed]",
      "text/plain": [
       "<Figure size 720x288 with 2 Axes>"
      ]
     },
     "metadata": {
      "needs_background": "light"
     },
     "output_type": "display_data"
    },
    {
     "data": {
      "image/png": "[encoded data removed]",
      "text/plain": [
       "<Figure size 720x288 with 2 Axes>"
      ]
     },
     "metadata": {
      "needs_background": "light"
     },
     "output_type": "display_data"
    },
    {
     "data": {
      "image/png": "[encoded data removed]",
      "text/plain": [
       "<Figure size 720x288 with 2 Axes>"
      ]
     },
     "metadata": {
      "needs_background": "light"
     },
     "output_type": "display_data"
    }
   ],
   "source": [
    "from pandas.plotting import boxplot\n",
    "\n",
    "# group the original data and the support vectors\n",
    "df_grouped_support = df_support.groupby('income')\n",
    "df_grouped = data.groupby('income')\n",
    "\n",
    "# plot KDE of Different variables\n",
    "vars_to_plot = more_unique\n",
    "\n",
    "for v in vars_to_plot:\n",
    "    plt.figure(figsize=(10,4))\n",
    "    # plot support vector stats\n",
    "    plt.subplot(1,2,1)\n",
    "    ax = df_grouped_support[v].plot.kde() \n",
    "    plt.legend(['<=50K','>50K'])\n",
    "    plt.title(v+' (Instances chosen as Support Vectors)')\n",
    "    \n",
    "    # plot original distributions\n",
    "    plt.subplot(1,2,2)\n",
    "    ax = df_grouped[v].plot.kde() \n",
    "    plt.legend(['<=50K','>50K'])\n",
    "    plt.title(v+' (Original)')"
   ]
  },
  {
   "cell_type": "markdown",
   "metadata": {},
   "source": [
    "In feature 'age' plot, we can see there are some significant differences in ages around 54 and around 66 where income groups are clearly seperated.  \n",
    "In feature 'education_num' plot, we also see that instances with education numbers around {3,4} and around {9,10} are significantly different for both income groups.  \n",
    "In feature 'marital_status' (divorced and widowed) plots, it is evident to see the some big differences between income groups for both adults who has this status and who don't.  \n",
    "In feature 'occupation', Machine-op-inspct and Prof-specialty are two professions chosen by SVM. They both show large differences for both income groups. However, it's worth noticing that in Machine-op-inspct, the difference in income groups at instances where adults who do not have this occupation is slightly higher than the difference at instances where adults with this occupation. While in Prof-specialty occupation, it's the opposite, in which adults with this occupation has a bigger sparity in income groups compared to adults without this occupation.  \n",
    "In feature 'race', instances are chosen as support vectors show the clear differences in income groups for both black and non-black and white and non-white adults.\n",
    "\n"
   ]
  },
  {
   "cell_type": "code",
   "execution_count": 212,
   "metadata": {},
   "outputs": [
    {
     "data": {
      "text/plain": [
       "'ovr'"
      ]
     },
     "execution_count": 212,
     "metadata": {},
     "output_type": "execute_result"
    }
   ],
   "source": [
    "svm_clf_rbf.decision_function_shape"
   ]
  },
  {
   "cell_type": "code",
   "execution_count": 214,
   "metadata": {},
   "outputs": [
    {
     "data": {
      "text/plain": [
       "array([[ 0.25164094,  0.62338061,  0.17754376,  0.28807166,  0.05295191,\n",
       "        -0.00234462, -0.00789989,  0.01074977,  0.05317955, -0.05859999,\n",
       "        -0.0343213 , -0.02058463, -0.11103402,  0.02873658,  0.38542929,\n",
       "        -0.04234868, -0.28573044, -0.04939367, -0.03518287, -0.01355676,\n",
       "        -0.00188355, -0.06885047,  0.20763539, -0.12027634, -0.08189725,\n",
       "        -0.09679722, -0.17858824, -0.04397522,  0.12107827,  0.02654225,\n",
       "         0.08424591,  0.09827722, -0.07954413,  0.04991645, -0.02442476,\n",
       "        -0.02455488, -0.08328959, -0.05629198,  0.17626113, -0.04186804,\n",
       "         0.01848287, -0.01251756, -0.0019105 ,  0.01360764, -0.01724508,\n",
       "         0.01724508]])"
      ]
     },
     "execution_count": 214,
     "metadata": {},
     "output_type": "execute_result"
    }
   ],
   "source": [
    "svm_clf_linear.coef_"
   ]
  },
  {
   "cell_type": "code",
   "execution_count": 216,
   "metadata": {},
   "outputs": [
    {
     "name": "stdout",
     "output_type": "stream",
     "text": [
      "w =  [[ 0.25164094  0.62338061  0.17754376  0.28807166  0.05295191 -0.00234462\n",
      "  -0.00789989  0.01074977  0.05317955 -0.05859999 -0.0343213  -0.02058463\n",
      "  -0.11103402  0.02873658  0.38542929 -0.04234868 -0.28573044 -0.04939367\n",
      "  -0.03518287 -0.01355676 -0.00188355 -0.06885047  0.20763539 -0.12027634\n",
      "  -0.08189725 -0.09679722 -0.17858824 -0.04397522  0.12107827  0.02654225\n",
      "   0.08424591  0.09827722 -0.07954413  0.04991645 -0.02442476 -0.02455488\n",
      "  -0.08328959 -0.05629198  0.17626113 -0.04186804  0.01848287 -0.01251756\n",
      "  -0.0019105   0.01360764 -0.01724508  0.01724508]]\n",
      "\n",
      "b =  [-1.48375543]\n",
      "\n",
      "Indices of support vectors =  [    7     8    20 ... 22752 22755 22769]\n",
      "\n",
      "Support vectors =  [[ 0.37176699 -0.02298891  0.71670136 ...  0.42430804 -0.30886269\n",
      "   0.30886269]\n",
      " [ 0.75615793  1.16398925  0.71670136 ... -2.35677834  3.23768468\n",
      "  -3.23768468]\n",
      " [-0.62764947 -0.02298891  0.71670136 ...  0.42430804 -0.30886269\n",
      "   0.30886269]\n",
      " ...\n",
      " [ 1.14054888  2.35096741 -1.39528129 ...  0.42430804 -0.30886269\n",
      "   0.30886269]\n",
      " [-0.3970149  -0.02298891 -1.39528129 ...  0.42430804 -0.30886269\n",
      "   0.30886269]\n",
      " [ 0.44864518  1.16398925  0.71670136 ...  0.42430804 -0.30886269\n",
      "   0.30886269]]\n",
      "\n",
      "Number of support vectors for each class =  [4265 4246]\n",
      "\n",
      "Coefficients of the support vector in the decision function =  [[1. 1. 1. ... 1. 1. 1.]]\n"
     ]
    }
   ],
   "source": [
    "print('w = ', svm_clf_linear.coef_)\n",
    "print('\\nb = ', svm_clf_linear.intercept_)\n",
    "print('\\nIndices of support vectors = ', svm_clf_linear.support_)\n",
    "print('\\nSupport vectors = ', svm_clf_linear.support_vectors_)\n",
    "print('\\nNumber of support vectors for each class = ', svm_clf_linear.n_support_)\n",
    "print('\\nCoefficients of the support vector in the decision function = ', np.abs(svm_clf_linear.dual_coef_))"
   ]
  },
  {
   "cell_type": "markdown",
   "metadata": {},
   "source": [
    "In conclusion, as we can see from the density plots, we compare the instances with the support vectors with the original data and we can see that in almost every case that instances chosen by SVM have better separation in the distributions between the income groups than the original data.  The only variables that have separations of distributions in the original data that seem to match their corresponding support vectors are race:white and race:black. In conclusion, this shows that the instances on the edges of their class boundaries or somtimes overlapped can cause misclassification in our models."
   ]
  },
  {
   "cell_type": "code",
   "execution_count": null,
   "metadata": {
    "collapsed": true
   },
   "outputs": [],
   "source": []
  },
  {
   "cell_type": "code",
   "execution_count": null,
   "metadata": {
    "collapsed": true
   },
   "outputs": [],
   "source": []
  }
 ],
 "metadata": {
  "kernelspec": {
   "display_name": "Python 3",
   "language": "python",
   "name": "python3"
  },
  "language_info": {
   "codemirror_mode": {
    "name": "ipython",
    "version": 3
   },
   "file_extension": ".py",
   "mimetype": "text/x-python",
   "name": "python",
   "nbconvert_exporter": "python",
   "pygments_lexer": "ipython3",
   "version": "3.7.1"
  }
 },
 "nbformat": 4,
 "nbformat_minor": 2
}
